{
  "nbformat": 4,
  "nbformat_minor": 0,
  "metadata": {
    "colab": {
      "name": "analise_descritiva_e_testes_estatisticos.ipynb",
      "provenance": [],
      "mount_file_id": "1nK5srN06DJ5VCSg3rIWqENdR9lRa5u0Q",
      "authorship_tag": "ABX9TyOWayWm3drMOtJYZVzaMhUI",
      "include_colab_link": true
    },
    "kernelspec": {
      "name": "python3",
      "display_name": "Python 3"
    }
  },
  "cells": [
    {
      "cell_type": "markdown",
      "metadata": {
        "id": "view-in-github",
        "colab_type": "text"
      },
      "source": [
        "<a href=\"https://colab.research.google.com/github/Emersonmiady/bootcamp-alura-ds/blob/main/modulo_3/analise_descritiva_e_testes_estatisticos.ipynb\" target=\"_parent\"><img src=\"https://colab.research.google.com/assets/colab-badge.svg\" alt=\"Open In Colab\"/></a>"
      ]
    },
    {
      "cell_type": "code",
      "metadata": {
        "id": "DJX3-wOTOwwE",
        "colab": {
          "base_uri": "https://localhost:8080/"
        },
        "outputId": "e6c23392-97f5-4d34-ed85-001c714c2653"
      },
      "source": [
        "import pandas as pd\r\n",
        "import numpy as np\r\n",
        "import matplotlib.pyplot as plt\r\n",
        "import seaborn as sns\r\n",
        "from scipy import stats\r\n",
        "from zipfile import ZipFile\r\n",
        "from IPython.core.display import HTML\r\n",
        "from IPython.display import Javascript\r\n",
        "from statsmodels.stats.weightstats import zconfint\r\n",
        "from statsmodels.stats.weightstats import DescrStatsW\r\n",
        "from statsmodels.stats.weightstats import ztest\r\n",
        "from scipy.stats import normaltest\r\n",
        "from scipy.stats import ranksums"
      ],
      "execution_count": null,
      "outputs": [
        {
          "output_type": "stream",
          "text": [
            "/usr/local/lib/python3.6/dist-packages/statsmodels/tools/_testing.py:19: FutureWarning: pandas.util.testing is deprecated. Use the functions in the public API at pandas.testing instead.\n",
            "  import pandas.util.testing as tm\n"
          ],
          "name": "stderr"
        }
      ]
    },
    {
      "cell_type": "markdown",
      "metadata": {
        "id": "qSBUqUs8Zzdc"
      },
      "source": [
        "# Módulo 3"
      ]
    },
    {
      "cell_type": "markdown",
      "metadata": {
        "id": "6VZPh9jtaXmf"
      },
      "source": [
        "## 01. Educação, saúde e tipos de dados"
      ]
    },
    {
      "cell_type": "code",
      "metadata": {
        "id": "zlAqtkFyVz_r"
      },
      "source": [
        "path = '/content/drive/MyDrive/Alura Bootcamp DS/Módulo 3/PeNSE_2015_AMOSTRA2.zip'\r\n",
        "\r\n",
        "zip = ZipFile(path)"
      ],
      "execution_count": null,
      "outputs": []
    },
    {
      "cell_type": "code",
      "metadata": {
        "colab": {
          "base_uri": "https://localhost:8080/"
        },
        "id": "DanYmeQTXW5N",
        "outputId": "e0f262a2-5c13-4679-ea01-ede5727edc16"
      },
      "source": [
        "zip.infolist()"
      ],
      "execution_count": null,
      "outputs": [
        {
          "output_type": "execute_result",
          "data": {
            "text/plain": [
              "[<ZipInfo filename='arquivos csv/' external_attr=0x10>,\n",
              " <ZipInfo filename='arquivos csv/PENSE_AMOSTRA2_ALUNO.CSV' compress_type=deflate external_attr=0x20 file_size=7262170 compress_size=1235667>,\n",
              " <ZipInfo filename='arquivos csv/PENSE_AMOSTRA2_ALUNOESCOLA.CSV' compress_type=deflate external_attr=0x20 file_size=11420533 compress_size=1329882>,\n",
              " <ZipInfo filename='arquivos csv/PENSE_AMOSTRA2_ESCOLA.CSV' compress_type=deflate external_attr=0x20 file_size=5000642 compress_size=114324>,\n",
              " <ZipInfo filename='arquivos sas/' external_attr=0x10>,\n",
              " <ZipInfo filename='arquivos sas/pense_amostra2_aluno.sas7bdat' compress_type=deflate external_attr=0x20 file_size=24691712 compress_size=1957530>,\n",
              " <ZipInfo filename='arquivos sas/pense_amostra2_alunoescola.sas7bdat' compress_type=deflate external_attr=0x20 file_size=45253632 compress_size=2461932>,\n",
              " <ZipInfo filename='arquivos sas/pense_amostra2_escola.sas7bdat' compress_type=deflate external_attr=0x20 file_size=18105344 compress_size=332162>,\n",
              " <ZipInfo filename='arquivos xlsx/' external_attr=0x10>,\n",
              " <ZipInfo filename='arquivos xlsx/PENSE_AMOSTRA2_ALUNO.xlsx' compress_type=deflate external_attr=0x20 file_size=11757246 compress_size=11337133>,\n",
              " <ZipInfo filename='arquivos xlsx/PENSE_AMOSTRA2_ALUNOESCOLA.xlsx' compress_type=deflate external_attr=0x20 file_size=18732739 compress_size=17064325>,\n",
              " <ZipInfo filename='arquivos xlsx/PENSE_AMOSTRA2_ESCOLA.xlsx' compress_type=deflate external_attr=0x20 file_size=7159579 compress_size=3209953>,\n",
              " <ZipInfo filename='Dicionario_PENSE_Microdados_AMOSTRA2.xls' compress_type=deflate external_attr=0x20 file_size=144896 compress_size=35737>]"
            ]
          },
          "metadata": {
            "tags": []
          },
          "execution_count": 3
        }
      ]
    },
    {
      "cell_type": "code",
      "metadata": {
        "colab": {
          "base_uri": "https://localhost:8080/"
        },
        "id": "nY7cOQpPXz4I",
        "outputId": "adbbb250-c6fb-4bc4-f842-d21cd6c5b389"
      },
      "source": [
        "zip.namelist()"
      ],
      "execution_count": null,
      "outputs": [
        {
          "output_type": "execute_result",
          "data": {
            "text/plain": [
              "['arquivos csv/',\n",
              " 'arquivos csv/PENSE_AMOSTRA2_ALUNO.CSV',\n",
              " 'arquivos csv/PENSE_AMOSTRA2_ALUNOESCOLA.CSV',\n",
              " 'arquivos csv/PENSE_AMOSTRA2_ESCOLA.CSV',\n",
              " 'arquivos sas/',\n",
              " 'arquivos sas/pense_amostra2_aluno.sas7bdat',\n",
              " 'arquivos sas/pense_amostra2_alunoescola.sas7bdat',\n",
              " 'arquivos sas/pense_amostra2_escola.sas7bdat',\n",
              " 'arquivos xlsx/',\n",
              " 'arquivos xlsx/PENSE_AMOSTRA2_ALUNO.xlsx',\n",
              " 'arquivos xlsx/PENSE_AMOSTRA2_ALUNOESCOLA.xlsx',\n",
              " 'arquivos xlsx/PENSE_AMOSTRA2_ESCOLA.xlsx',\n",
              " 'Dicionario_PENSE_Microdados_AMOSTRA2.xls']"
            ]
          },
          "metadata": {
            "tags": []
          },
          "execution_count": 4
        }
      ]
    },
    {
      "cell_type": "code",
      "metadata": {
        "colab": {
          "base_uri": "https://localhost:8080/"
        },
        "id": "GyXgIBuaX5j8",
        "outputId": "b0e37652-4900-4273-9000-3a2497ff207f"
      },
      "source": [
        "zip_path = zip.namelist()[1]\r\n",
        "print(zip_path)"
      ],
      "execution_count": null,
      "outputs": [
        {
          "output_type": "stream",
          "text": [
            "arquivos csv/PENSE_AMOSTRA2_ALUNO.CSV\n"
          ],
          "name": "stdout"
        }
      ]
    },
    {
      "cell_type": "code",
      "metadata": {
        "colab": {
          "base_uri": "https://localhost:8080/",
          "height": 253
        },
        "id": "dNtevN-IYJat",
        "outputId": "ac3908a2-7cdf-4740-a710-8edf95e363ec"
      },
      "source": [
        "df = pd.read_csv(zip.open(zip_path), sep=';', thousands='.',\r\n",
        "                 decimal=',')\r\n",
        "df.head()"
      ],
      "execution_count": null,
      "outputs": [
        {
          "output_type": "execute_result",
          "data": {
            "text/html": [
              "<div>\n",
              "<style scoped>\n",
              "    .dataframe tbody tr th:only-of-type {\n",
              "        vertical-align: middle;\n",
              "    }\n",
              "\n",
              "    .dataframe tbody tr th {\n",
              "        vertical-align: top;\n",
              "    }\n",
              "\n",
              "    .dataframe thead th {\n",
              "        text-align: right;\n",
              "    }\n",
              "</style>\n",
              "<table border=\"1\" class=\"dataframe\">\n",
              "  <thead>\n",
              "    <tr style=\"text-align: right;\">\n",
              "      <th></th>\n",
              "      <th>ANOPESQ</th>\n",
              "      <th>PAIS</th>\n",
              "      <th>REGEOGR</th>\n",
              "      <th>VB00004</th>\n",
              "      <th>VB01001</th>\n",
              "      <th>VB01002</th>\n",
              "      <th>VB01003</th>\n",
              "      <th>VB01004</th>\n",
              "      <th>VB01005</th>\n",
              "      <th>VB01006</th>\n",
              "      <th>VB01007</th>\n",
              "      <th>VB01008A</th>\n",
              "      <th>VB01010A</th>\n",
              "      <th>VB01011</th>\n",
              "      <th>VB01012</th>\n",
              "      <th>VB01013</th>\n",
              "      <th>VB01014</th>\n",
              "      <th>VB01015A</th>\n",
              "      <th>VB01016</th>\n",
              "      <th>VB01017</th>\n",
              "      <th>VB01018</th>\n",
              "      <th>VB01019</th>\n",
              "      <th>VB01020A</th>\n",
              "      <th>VB01021</th>\n",
              "      <th>VB01022</th>\n",
              "      <th>VB01023</th>\n",
              "      <th>VB01024</th>\n",
              "      <th>VB01025</th>\n",
              "      <th>VB01026</th>\n",
              "      <th>VB02001</th>\n",
              "      <th>VB02002</th>\n",
              "      <th>VB02004A</th>\n",
              "      <th>VB02010</th>\n",
              "      <th>VB02011</th>\n",
              "      <th>VB02013</th>\n",
              "      <th>VB02017A</th>\n",
              "      <th>VB02018A</th>\n",
              "      <th>VB02019A</th>\n",
              "      <th>VB02020A</th>\n",
              "      <th>VB02021</th>\n",
              "      <th>...</th>\n",
              "      <th>VB11005</th>\n",
              "      <th>VB11006</th>\n",
              "      <th>VB11007</th>\n",
              "      <th>VB12001</th>\n",
              "      <th>VB12002</th>\n",
              "      <th>VB12003</th>\n",
              "      <th>VB13001</th>\n",
              "      <th>VB13002A</th>\n",
              "      <th>VB13004A</th>\n",
              "      <th>VB13005</th>\n",
              "      <th>VB13006</th>\n",
              "      <th>VB13007</th>\n",
              "      <th>VB13008</th>\n",
              "      <th>VB13009</th>\n",
              "      <th>VB14001</th>\n",
              "      <th>VB14002</th>\n",
              "      <th>VB16001A01</th>\n",
              "      <th>VB16001A02</th>\n",
              "      <th>VB16001A03</th>\n",
              "      <th>VB16001A04</th>\n",
              "      <th>VB16001A05</th>\n",
              "      <th>VB16001A06</th>\n",
              "      <th>VB16001A07</th>\n",
              "      <th>VB16001A08</th>\n",
              "      <th>VB17001</th>\n",
              "      <th>VB17002</th>\n",
              "      <th>VB17003</th>\n",
              "      <th>VB17004</th>\n",
              "      <th>VB17005</th>\n",
              "      <th>VB17006</th>\n",
              "      <th>ESTRATO_EXP</th>\n",
              "      <th>ESTRATOGEOREG</th>\n",
              "      <th>PESO</th>\n",
              "      <th>V0006</th>\n",
              "      <th>V0007</th>\n",
              "      <th>V0008</th>\n",
              "      <th>V0041</th>\n",
              "      <th>aluno</th>\n",
              "      <th>escola</th>\n",
              "      <th>turma</th>\n",
              "    </tr>\n",
              "  </thead>\n",
              "  <tbody>\n",
              "    <tr>\n",
              "      <th>0</th>\n",
              "      <td>2015</td>\n",
              "      <td>76</td>\n",
              "      <td>1</td>\n",
              "      <td>1</td>\n",
              "      <td>2</td>\n",
              "      <td>1</td>\n",
              "      <td>13</td>\n",
              "      <td>7</td>\n",
              "      <td>7</td>\n",
              "      <td>1</td>\n",
              "      <td>2</td>\n",
              "      <td>7</td>\n",
              "      <td>3</td>\n",
              "      <td>2</td>\n",
              "      <td>-1</td>\n",
              "      <td>1</td>\n",
              "      <td>1</td>\n",
              "      <td>1</td>\n",
              "      <td>1</td>\n",
              "      <td>1</td>\n",
              "      <td>2</td>\n",
              "      <td>4</td>\n",
              "      <td>2</td>\n",
              "      <td>4</td>\n",
              "      <td>1</td>\n",
              "      <td>2</td>\n",
              "      <td>2</td>\n",
              "      <td>5</td>\n",
              "      <td>1</td>\n",
              "      <td>8</td>\n",
              "      <td>3</td>\n",
              "      <td>4</td>\n",
              "      <td>3</td>\n",
              "      <td>6</td>\n",
              "      <td>6</td>\n",
              "      <td>1</td>\n",
              "      <td>6</td>\n",
              "      <td>1</td>\n",
              "      <td>-1</td>\n",
              "      <td>2</td>\n",
              "      <td>...</td>\n",
              "      <td>2</td>\n",
              "      <td>1</td>\n",
              "      <td>2</td>\n",
              "      <td>1</td>\n",
              "      <td>1</td>\n",
              "      <td>4</td>\n",
              "      <td>2</td>\n",
              "      <td>-1</td>\n",
              "      <td>3</td>\n",
              "      <td>1</td>\n",
              "      <td>1</td>\n",
              "      <td>-1</td>\n",
              "      <td>1</td>\n",
              "      <td>1</td>\n",
              "      <td>2</td>\n",
              "      <td>2</td>\n",
              "      <td>1</td>\n",
              "      <td>2</td>\n",
              "      <td>2</td>\n",
              "      <td>2</td>\n",
              "      <td>2</td>\n",
              "      <td>2</td>\n",
              "      <td>2</td>\n",
              "      <td>2</td>\n",
              "      <td>371.0</td>\n",
              "      <td>1570.0</td>\n",
              "      <td>37.1</td>\n",
              "      <td>157.0</td>\n",
              "      <td>2</td>\n",
              "      <td>1</td>\n",
              "      <td>1223</td>\n",
              "      <td>1</td>\n",
              "      <td>299.735235</td>\n",
              "      <td>1</td>\n",
              "      <td>2</td>\n",
              "      <td>4</td>\n",
              "      <td>1</td>\n",
              "      <td>1</td>\n",
              "      <td>1</td>\n",
              "      <td>296</td>\n",
              "    </tr>\n",
              "    <tr>\n",
              "      <th>1</th>\n",
              "      <td>2015</td>\n",
              "      <td>76</td>\n",
              "      <td>1</td>\n",
              "      <td>1</td>\n",
              "      <td>2</td>\n",
              "      <td>1</td>\n",
              "      <td>14</td>\n",
              "      <td>4</td>\n",
              "      <td>7</td>\n",
              "      <td>1</td>\n",
              "      <td>1</td>\n",
              "      <td>7</td>\n",
              "      <td>3</td>\n",
              "      <td>2</td>\n",
              "      <td>-1</td>\n",
              "      <td>1</td>\n",
              "      <td>1</td>\n",
              "      <td>1</td>\n",
              "      <td>1</td>\n",
              "      <td>1</td>\n",
              "      <td>2</td>\n",
              "      <td>2</td>\n",
              "      <td>2</td>\n",
              "      <td>4</td>\n",
              "      <td>1</td>\n",
              "      <td>2</td>\n",
              "      <td>2</td>\n",
              "      <td>5</td>\n",
              "      <td>3</td>\n",
              "      <td>8</td>\n",
              "      <td>2</td>\n",
              "      <td>1</td>\n",
              "      <td>8</td>\n",
              "      <td>8</td>\n",
              "      <td>6</td>\n",
              "      <td>1</td>\n",
              "      <td>1</td>\n",
              "      <td>5</td>\n",
              "      <td>-1</td>\n",
              "      <td>2</td>\n",
              "      <td>...</td>\n",
              "      <td>2</td>\n",
              "      <td>3</td>\n",
              "      <td>2</td>\n",
              "      <td>4</td>\n",
              "      <td>4</td>\n",
              "      <td>4</td>\n",
              "      <td>1</td>\n",
              "      <td>2</td>\n",
              "      <td>3</td>\n",
              "      <td>3</td>\n",
              "      <td>1</td>\n",
              "      <td>-1</td>\n",
              "      <td>1</td>\n",
              "      <td>1</td>\n",
              "      <td>2</td>\n",
              "      <td>2</td>\n",
              "      <td>2</td>\n",
              "      <td>2</td>\n",
              "      <td>2</td>\n",
              "      <td>1</td>\n",
              "      <td>2</td>\n",
              "      <td>2</td>\n",
              "      <td>2</td>\n",
              "      <td>2</td>\n",
              "      <td>502.0</td>\n",
              "      <td>1520.0</td>\n",
              "      <td>50.2</td>\n",
              "      <td>152.0</td>\n",
              "      <td>2</td>\n",
              "      <td>2</td>\n",
              "      <td>1223</td>\n",
              "      <td>1</td>\n",
              "      <td>355.170081</td>\n",
              "      <td>1</td>\n",
              "      <td>2</td>\n",
              "      <td>4</td>\n",
              "      <td>1</td>\n",
              "      <td>2</td>\n",
              "      <td>1</td>\n",
              "      <td>296</td>\n",
              "    </tr>\n",
              "    <tr>\n",
              "      <th>2</th>\n",
              "      <td>2015</td>\n",
              "      <td>76</td>\n",
              "      <td>1</td>\n",
              "      <td>1</td>\n",
              "      <td>1</td>\n",
              "      <td>4</td>\n",
              "      <td>13</td>\n",
              "      <td>6</td>\n",
              "      <td>7</td>\n",
              "      <td>1</td>\n",
              "      <td>1</td>\n",
              "      <td>5</td>\n",
              "      <td>5</td>\n",
              "      <td>2</td>\n",
              "      <td>-1</td>\n",
              "      <td>2</td>\n",
              "      <td>1</td>\n",
              "      <td>1</td>\n",
              "      <td>1</td>\n",
              "      <td>1</td>\n",
              "      <td>2</td>\n",
              "      <td>3</td>\n",
              "      <td>1</td>\n",
              "      <td>4</td>\n",
              "      <td>1</td>\n",
              "      <td>2</td>\n",
              "      <td>2</td>\n",
              "      <td>5</td>\n",
              "      <td>3</td>\n",
              "      <td>2</td>\n",
              "      <td>3</td>\n",
              "      <td>1</td>\n",
              "      <td>8</td>\n",
              "      <td>2</td>\n",
              "      <td>8</td>\n",
              "      <td>1</td>\n",
              "      <td>1</td>\n",
              "      <td>5</td>\n",
              "      <td>5</td>\n",
              "      <td>1</td>\n",
              "      <td>...</td>\n",
              "      <td>2</td>\n",
              "      <td>1</td>\n",
              "      <td>2</td>\n",
              "      <td>1</td>\n",
              "      <td>2</td>\n",
              "      <td>3</td>\n",
              "      <td>1</td>\n",
              "      <td>2</td>\n",
              "      <td>1</td>\n",
              "      <td>2</td>\n",
              "      <td>5</td>\n",
              "      <td>99</td>\n",
              "      <td>1</td>\n",
              "      <td>-1</td>\n",
              "      <td>2</td>\n",
              "      <td>2</td>\n",
              "      <td>1</td>\n",
              "      <td>1</td>\n",
              "      <td>1</td>\n",
              "      <td>1</td>\n",
              "      <td>1</td>\n",
              "      <td>1</td>\n",
              "      <td>1</td>\n",
              "      <td>1</td>\n",
              "      <td>482.0</td>\n",
              "      <td>1614.0</td>\n",
              "      <td>48.2</td>\n",
              "      <td>161.4</td>\n",
              "      <td>2</td>\n",
              "      <td>2</td>\n",
              "      <td>1223</td>\n",
              "      <td>1</td>\n",
              "      <td>299.735235</td>\n",
              "      <td>1</td>\n",
              "      <td>2</td>\n",
              "      <td>4</td>\n",
              "      <td>1</td>\n",
              "      <td>3</td>\n",
              "      <td>1</td>\n",
              "      <td>296</td>\n",
              "    </tr>\n",
              "    <tr>\n",
              "      <th>3</th>\n",
              "      <td>2015</td>\n",
              "      <td>76</td>\n",
              "      <td>1</td>\n",
              "      <td>1</td>\n",
              "      <td>1</td>\n",
              "      <td>1</td>\n",
              "      <td>14</td>\n",
              "      <td>6</td>\n",
              "      <td>7</td>\n",
              "      <td>1</td>\n",
              "      <td>1</td>\n",
              "      <td>7</td>\n",
              "      <td>4</td>\n",
              "      <td>2</td>\n",
              "      <td>-1</td>\n",
              "      <td>1</td>\n",
              "      <td>1</td>\n",
              "      <td>1</td>\n",
              "      <td>1</td>\n",
              "      <td>1</td>\n",
              "      <td>2</td>\n",
              "      <td>4</td>\n",
              "      <td>2</td>\n",
              "      <td>4</td>\n",
              "      <td>1</td>\n",
              "      <td>2</td>\n",
              "      <td>2</td>\n",
              "      <td>6</td>\n",
              "      <td>3</td>\n",
              "      <td>2</td>\n",
              "      <td>4</td>\n",
              "      <td>1</td>\n",
              "      <td>3</td>\n",
              "      <td>2</td>\n",
              "      <td>7</td>\n",
              "      <td>1</td>\n",
              "      <td>5</td>\n",
              "      <td>1</td>\n",
              "      <td>-1</td>\n",
              "      <td>2</td>\n",
              "      <td>...</td>\n",
              "      <td>2</td>\n",
              "      <td>1</td>\n",
              "      <td>2</td>\n",
              "      <td>2</td>\n",
              "      <td>2</td>\n",
              "      <td>4</td>\n",
              "      <td>1</td>\n",
              "      <td>10</td>\n",
              "      <td>3</td>\n",
              "      <td>1</td>\n",
              "      <td>2</td>\n",
              "      <td>-1</td>\n",
              "      <td>1</td>\n",
              "      <td>-1</td>\n",
              "      <td>2</td>\n",
              "      <td>2</td>\n",
              "      <td>1</td>\n",
              "      <td>2</td>\n",
              "      <td>2</td>\n",
              "      <td>2</td>\n",
              "      <td>1</td>\n",
              "      <td>2</td>\n",
              "      <td>2</td>\n",
              "      <td>2</td>\n",
              "      <td>694.0</td>\n",
              "      <td>1725.0</td>\n",
              "      <td>69.4</td>\n",
              "      <td>172.5</td>\n",
              "      <td>2</td>\n",
              "      <td>3</td>\n",
              "      <td>1223</td>\n",
              "      <td>1</td>\n",
              "      <td>355.170081</td>\n",
              "      <td>1</td>\n",
              "      <td>2</td>\n",
              "      <td>4</td>\n",
              "      <td>1</td>\n",
              "      <td>4</td>\n",
              "      <td>1</td>\n",
              "      <td>296</td>\n",
              "    </tr>\n",
              "    <tr>\n",
              "      <th>4</th>\n",
              "      <td>2015</td>\n",
              "      <td>76</td>\n",
              "      <td>1</td>\n",
              "      <td>1</td>\n",
              "      <td>1</td>\n",
              "      <td>1</td>\n",
              "      <td>13</td>\n",
              "      <td>9</td>\n",
              "      <td>7</td>\n",
              "      <td>1</td>\n",
              "      <td>2</td>\n",
              "      <td>5</td>\n",
              "      <td>4</td>\n",
              "      <td>2</td>\n",
              "      <td>-1</td>\n",
              "      <td>2</td>\n",
              "      <td>1</td>\n",
              "      <td>1</td>\n",
              "      <td>1</td>\n",
              "      <td>1</td>\n",
              "      <td>2</td>\n",
              "      <td>5</td>\n",
              "      <td>1</td>\n",
              "      <td>4</td>\n",
              "      <td>1</td>\n",
              "      <td>2</td>\n",
              "      <td>2</td>\n",
              "      <td>6</td>\n",
              "      <td>5</td>\n",
              "      <td>6</td>\n",
              "      <td>3</td>\n",
              "      <td>5</td>\n",
              "      <td>2</td>\n",
              "      <td>6</td>\n",
              "      <td>2</td>\n",
              "      <td>1</td>\n",
              "      <td>5</td>\n",
              "      <td>1</td>\n",
              "      <td>5</td>\n",
              "      <td>1</td>\n",
              "      <td>...</td>\n",
              "      <td>2</td>\n",
              "      <td>1</td>\n",
              "      <td>4</td>\n",
              "      <td>2</td>\n",
              "      <td>2</td>\n",
              "      <td>4</td>\n",
              "      <td>1</td>\n",
              "      <td>3</td>\n",
              "      <td>2</td>\n",
              "      <td>2</td>\n",
              "      <td>2</td>\n",
              "      <td>13</td>\n",
              "      <td>1</td>\n",
              "      <td>-1</td>\n",
              "      <td>1</td>\n",
              "      <td>2</td>\n",
              "      <td>1</td>\n",
              "      <td>1</td>\n",
              "      <td>1</td>\n",
              "      <td>1</td>\n",
              "      <td>1</td>\n",
              "      <td>1</td>\n",
              "      <td>1</td>\n",
              "      <td>1</td>\n",
              "      <td>789.0</td>\n",
              "      <td>1675.0</td>\n",
              "      <td>78.9</td>\n",
              "      <td>167.5</td>\n",
              "      <td>2</td>\n",
              "      <td>4</td>\n",
              "      <td>1223</td>\n",
              "      <td>1</td>\n",
              "      <td>299.735235</td>\n",
              "      <td>1</td>\n",
              "      <td>2</td>\n",
              "      <td>4</td>\n",
              "      <td>1</td>\n",
              "      <td>5</td>\n",
              "      <td>1</td>\n",
              "      <td>296</td>\n",
              "    </tr>\n",
              "  </tbody>\n",
              "</table>\n",
              "<p>5 rows × 181 columns</p>\n",
              "</div>"
            ],
            "text/plain": [
              "   ANOPESQ  PAIS  REGEOGR  VB00004  VB01001  ...  V0008  V0041  aluno  escola  turma\n",
              "0     2015    76        1        1        2  ...      4      1      1       1    296\n",
              "1     2015    76        1        1        2  ...      4      1      2       1    296\n",
              "2     2015    76        1        1        1  ...      4      1      3       1    296\n",
              "3     2015    76        1        1        1  ...      4      1      4       1    296\n",
              "4     2015    76        1        1        1  ...      4      1      5       1    296\n",
              "\n",
              "[5 rows x 181 columns]"
            ]
          },
          "metadata": {
            "tags": []
          },
          "execution_count": 6
        }
      ]
    },
    {
      "cell_type": "code",
      "metadata": {
        "colab": {
          "base_uri": "https://localhost:8080/"
        },
        "id": "rLybCV52NJ8n",
        "outputId": "30a9c082-80e2-41a6-a51f-951cdf898d4d"
      },
      "source": [
        "df.shape"
      ],
      "execution_count": null,
      "outputs": [
        {
          "output_type": "execute_result",
          "data": {
            "text/plain": [
              "(16556, 181)"
            ]
          },
          "metadata": {
            "tags": []
          },
          "execution_count": 7
        }
      ]
    },
    {
      "cell_type": "code",
      "metadata": {
        "colab": {
          "base_uri": "https://localhost:8080/"
        },
        "id": "JhiJKC0DNaYY",
        "outputId": "e700ada4-12bd-49d8-b34c-d0fb10dda657"
      },
      "source": [
        "df.columns"
      ],
      "execution_count": null,
      "outputs": [
        {
          "output_type": "execute_result",
          "data": {
            "text/plain": [
              "Index(['ANOPESQ', 'PAIS', 'REGEOGR', 'VB00004', 'VB01001', 'VB01002',\n",
              "       'VB01003', 'VB01004', 'VB01005', 'VB01006',\n",
              "       ...\n",
              "       'ESTRATO_EXP', 'ESTRATOGEOREG', 'PESO', 'V0006', 'V0007', 'V0008',\n",
              "       'V0041', 'aluno', 'escola', 'turma'],\n",
              "      dtype='object', length=181)"
            ]
          },
          "metadata": {
            "tags": []
          },
          "execution_count": 8
        }
      ]
    },
    {
      "cell_type": "code",
      "metadata": {
        "colab": {
          "base_uri": "https://localhost:8080/"
        },
        "id": "7khQjnygNvGf",
        "outputId": "257ecca2-3d4e-4197-adca-c68f359b2f49"
      },
      "source": [
        "df.info()"
      ],
      "execution_count": null,
      "outputs": [
        {
          "output_type": "stream",
          "text": [
            "<class 'pandas.core.frame.DataFrame'>\n",
            "RangeIndex: 16556 entries, 0 to 16555\n",
            "Columns: 181 entries, ANOPESQ to turma\n",
            "dtypes: float64(10), int64(171)\n",
            "memory usage: 22.9 MB\n"
          ],
          "name": "stdout"
        }
      ]
    },
    {
      "cell_type": "code",
      "metadata": {
        "colab": {
          "base_uri": "https://localhost:8080/"
        },
        "id": "pfHr1S7GNqK_",
        "outputId": "24ae465a-2007-49bb-95bb-74871d7ae52b"
      },
      "source": [
        "zip.namelist()"
      ],
      "execution_count": null,
      "outputs": [
        {
          "output_type": "execute_result",
          "data": {
            "text/plain": [
              "['arquivos csv/',\n",
              " 'arquivos csv/PENSE_AMOSTRA2_ALUNO.CSV',\n",
              " 'arquivos csv/PENSE_AMOSTRA2_ALUNOESCOLA.CSV',\n",
              " 'arquivos csv/PENSE_AMOSTRA2_ESCOLA.CSV',\n",
              " 'arquivos sas/',\n",
              " 'arquivos sas/pense_amostra2_aluno.sas7bdat',\n",
              " 'arquivos sas/pense_amostra2_alunoescola.sas7bdat',\n",
              " 'arquivos sas/pense_amostra2_escola.sas7bdat',\n",
              " 'arquivos xlsx/',\n",
              " 'arquivos xlsx/PENSE_AMOSTRA2_ALUNO.xlsx',\n",
              " 'arquivos xlsx/PENSE_AMOSTRA2_ALUNOESCOLA.xlsx',\n",
              " 'arquivos xlsx/PENSE_AMOSTRA2_ESCOLA.xlsx',\n",
              " 'Dicionario_PENSE_Microdados_AMOSTRA2.xls']"
            ]
          },
          "metadata": {
            "tags": []
          },
          "execution_count": 10
        }
      ]
    },
    {
      "cell_type": "code",
      "metadata": {
        "colab": {
          "base_uri": "https://localhost:8080/",
          "height": 419
        },
        "id": "ZDLKt4YCOdNe",
        "outputId": "e4cbcb79-a8a4-40b2-a510-55a7bfd7e316"
      },
      "source": [
        "df.select_dtypes(include='float64')"
      ],
      "execution_count": null,
      "outputs": [
        {
          "output_type": "execute_result",
          "data": {
            "text/html": [
              "<div>\n",
              "<style scoped>\n",
              "    .dataframe tbody tr th:only-of-type {\n",
              "        vertical-align: middle;\n",
              "    }\n",
              "\n",
              "    .dataframe tbody tr th {\n",
              "        vertical-align: top;\n",
              "    }\n",
              "\n",
              "    .dataframe thead th {\n",
              "        text-align: right;\n",
              "    }\n",
              "</style>\n",
              "<table border=\"1\" class=\"dataframe\">\n",
              "  <thead>\n",
              "    <tr style=\"text-align: right;\">\n",
              "      <th></th>\n",
              "      <th>TEMPODESLOC</th>\n",
              "      <th>TEMPOTOTAL</th>\n",
              "      <th>TEMPOEDFIS</th>\n",
              "      <th>TEMPOEXTRA</th>\n",
              "      <th>TEMPOEST</th>\n",
              "      <th>VB17001</th>\n",
              "      <th>VB17002</th>\n",
              "      <th>VB17003</th>\n",
              "      <th>VB17004</th>\n",
              "      <th>PESO</th>\n",
              "    </tr>\n",
              "  </thead>\n",
              "  <tbody>\n",
              "    <tr>\n",
              "      <th>0</th>\n",
              "      <td>0.0</td>\n",
              "      <td>15.0</td>\n",
              "      <td>0.0</td>\n",
              "      <td>15.0</td>\n",
              "      <td>60.0</td>\n",
              "      <td>371.0</td>\n",
              "      <td>1570.0</td>\n",
              "      <td>37.1</td>\n",
              "      <td>157.0</td>\n",
              "      <td>299.735235</td>\n",
              "    </tr>\n",
              "    <tr>\n",
              "      <th>1</th>\n",
              "      <td>120.0</td>\n",
              "      <td>510.0</td>\n",
              "      <td>260.0</td>\n",
              "      <td>130.0</td>\n",
              "      <td>300.0</td>\n",
              "      <td>502.0</td>\n",
              "      <td>1520.0</td>\n",
              "      <td>50.2</td>\n",
              "      <td>152.0</td>\n",
              "      <td>355.170081</td>\n",
              "    </tr>\n",
              "    <tr>\n",
              "      <th>2</th>\n",
              "      <td>0.0</td>\n",
              "      <td>585.0</td>\n",
              "      <td>130.0</td>\n",
              "      <td>455.0</td>\n",
              "      <td>420.0</td>\n",
              "      <td>482.0</td>\n",
              "      <td>1614.0</td>\n",
              "      <td>48.2</td>\n",
              "      <td>161.4</td>\n",
              "      <td>299.735235</td>\n",
              "    </tr>\n",
              "    <tr>\n",
              "      <th>3</th>\n",
              "      <td>0.0</td>\n",
              "      <td>0.0</td>\n",
              "      <td>0.0</td>\n",
              "      <td>0.0</td>\n",
              "      <td>0.0</td>\n",
              "      <td>694.0</td>\n",
              "      <td>1725.0</td>\n",
              "      <td>69.4</td>\n",
              "      <td>172.5</td>\n",
              "      <td>355.170081</td>\n",
              "    </tr>\n",
              "    <tr>\n",
              "      <th>4</th>\n",
              "      <td>30.0</td>\n",
              "      <td>165.0</td>\n",
              "      <td>90.0</td>\n",
              "      <td>45.0</td>\n",
              "      <td>60.0</td>\n",
              "      <td>789.0</td>\n",
              "      <td>1675.0</td>\n",
              "      <td>78.9</td>\n",
              "      <td>167.5</td>\n",
              "      <td>299.735235</td>\n",
              "    </tr>\n",
              "    <tr>\n",
              "      <th>...</th>\n",
              "      <td>...</td>\n",
              "      <td>...</td>\n",
              "      <td>...</td>\n",
              "      <td>...</td>\n",
              "      <td>...</td>\n",
              "      <td>...</td>\n",
              "      <td>...</td>\n",
              "      <td>...</td>\n",
              "      <td>...</td>\n",
              "      <td>...</td>\n",
              "    </tr>\n",
              "    <tr>\n",
              "      <th>16551</th>\n",
              "      <td>30.0</td>\n",
              "      <td>400.0</td>\n",
              "      <td>110.0</td>\n",
              "      <td>260.0</td>\n",
              "      <td>240.0</td>\n",
              "      <td>567.0</td>\n",
              "      <td>1679.0</td>\n",
              "      <td>56.7</td>\n",
              "      <td>167.9</td>\n",
              "      <td>447.815539</td>\n",
              "    </tr>\n",
              "    <tr>\n",
              "      <th>16552</th>\n",
              "      <td>20.0</td>\n",
              "      <td>800.0</td>\n",
              "      <td>325.0</td>\n",
              "      <td>455.0</td>\n",
              "      <td>240.0</td>\n",
              "      <td>619.0</td>\n",
              "      <td>1858.0</td>\n",
              "      <td>61.9</td>\n",
              "      <td>185.8</td>\n",
              "      <td>592.507440</td>\n",
              "    </tr>\n",
              "    <tr>\n",
              "      <th>16553</th>\n",
              "      <td>0.0</td>\n",
              "      <td>0.0</td>\n",
              "      <td>0.0</td>\n",
              "      <td>0.0</td>\n",
              "      <td>60.0</td>\n",
              "      <td>609.0</td>\n",
              "      <td>1594.0</td>\n",
              "      <td>60.9</td>\n",
              "      <td>159.4</td>\n",
              "      <td>401.131512</td>\n",
              "    </tr>\n",
              "    <tr>\n",
              "      <th>16554</th>\n",
              "      <td>75.0</td>\n",
              "      <td>215.0</td>\n",
              "      <td>35.0</td>\n",
              "      <td>105.0</td>\n",
              "      <td>120.0</td>\n",
              "      <td>473.0</td>\n",
              "      <td>1578.0</td>\n",
              "      <td>47.3</td>\n",
              "      <td>157.8</td>\n",
              "      <td>442.718091</td>\n",
              "    </tr>\n",
              "    <tr>\n",
              "      <th>16555</th>\n",
              "      <td>50.0</td>\n",
              "      <td>485.0</td>\n",
              "      <td>110.0</td>\n",
              "      <td>325.0</td>\n",
              "      <td>360.0</td>\n",
              "      <td>626.0</td>\n",
              "      <td>1639.0</td>\n",
              "      <td>62.6</td>\n",
              "      <td>163.9</td>\n",
              "      <td>592.507440</td>\n",
              "    </tr>\n",
              "  </tbody>\n",
              "</table>\n",
              "<p>16556 rows × 10 columns</p>\n",
              "</div>"
            ],
            "text/plain": [
              "       TEMPODESLOC  TEMPOTOTAL  TEMPOEDFIS  ...  VB17003  VB17004        PESO\n",
              "0              0.0        15.0         0.0  ...     37.1    157.0  299.735235\n",
              "1            120.0       510.0       260.0  ...     50.2    152.0  355.170081\n",
              "2              0.0       585.0       130.0  ...     48.2    161.4  299.735235\n",
              "3              0.0         0.0         0.0  ...     69.4    172.5  355.170081\n",
              "4             30.0       165.0        90.0  ...     78.9    167.5  299.735235\n",
              "...            ...         ...         ...  ...      ...      ...         ...\n",
              "16551         30.0       400.0       110.0  ...     56.7    167.9  447.815539\n",
              "16552         20.0       800.0       325.0  ...     61.9    185.8  592.507440\n",
              "16553          0.0         0.0         0.0  ...     60.9    159.4  401.131512\n",
              "16554         75.0       215.0        35.0  ...     47.3    157.8  442.718091\n",
              "16555         50.0       485.0       110.0  ...     62.6    163.9  592.507440\n",
              "\n",
              "[16556 rows x 10 columns]"
            ]
          },
          "metadata": {
            "tags": []
          },
          "execution_count": 11
        }
      ]
    },
    {
      "cell_type": "markdown",
      "metadata": {
        "id": "q3foRq8oZjnU"
      },
      "source": [
        "### Desafio 01 - Descompactar a pasta zipada usando outro método (Dica Allan, é utilizar comandos Bash)."
      ]
    },
    {
      "cell_type": "code",
      "metadata": {
        "id": "vQzjmkDga5nY"
      },
      "source": [
        "## !unzip \"local do arquivo\" -d \"local a ser descompactado\"\r\n",
        "# !unzip '/content/drive/MyDrive/Alura Bootcamp DS/Módulo 3/PeNSE_2015_AMOSTRA2.zip' -d '/content/drive/MyDrive/Alura Bootcamp DS/Módulo 3/PeNSE_2015_AMOSTRA2'"
      ],
      "execution_count": null,
      "outputs": []
    },
    {
      "cell_type": "markdown",
      "metadata": {
        "id": "OjcGLmjRZopK"
      },
      "source": [
        "### Desafio 02 - Estudar sobre a base de dados que vamos trabalhar (PeNSE - 2015 Amostra 2)."
      ]
    },
    {
      "cell_type": "markdown",
      "metadata": {
        "id": "K5yOsMfNVODG"
      },
      "source": [
        "Aqui vai um vídeo curto explicativo, sobre a base de dados a ser estudada:"
      ]
    },
    {
      "cell_type": "code",
      "metadata": {
        "colab": {
          "base_uri": "https://localhost:8080/",
          "height": 501
        },
        "id": "rc9kt1-vfPOF",
        "outputId": "e05a1ee8-b824-4aa5-c33e-475aac4449b6"
      },
      "source": [
        "HTML('<center><iframe width=\"853\" height=\"480\" src=\"https://www.youtube.com/embed/z4BBCHZUvD4\" frameborder=\"0\" allow=\"accelerometer; autoplay; clipboard-write; encrypted-media; gyroscope; picture-in-picture\"></iframe></center>')"
      ],
      "execution_count": null,
      "outputs": [
        {
          "output_type": "execute_result",
          "data": {
            "text/html": [
              "<center><iframe width=\"853\" height=\"480\" src=\"https://www.youtube.com/embed/z4BBCHZUvD4\" frameborder=\"0\" allow=\"accelerometer; autoplay; clipboard-write; encrypted-media; gyroscope; picture-in-picture\"></iframe></center>"
            ],
            "text/plain": [
              "<IPython.core.display.HTML object>"
            ]
          },
          "metadata": {
            "tags": []
          },
          "execution_count": 13
        }
      ]
    },
    {
      "cell_type": "markdown",
      "metadata": {
        "id": "je-0UcDkZsz4"
      },
      "source": [
        "### Desafio 03 - Classificar algumas perguntas como QualitativaXQuantitativa."
      ]
    },
    {
      "cell_type": "markdown",
      "metadata": {
        "id": "EeFAyiDkVfA2"
      },
      "source": [
        "Exemplos de **Variáveis Qualitativas**:\r\n",
        "\r\n",
        "- **Nominais**:\r\n",
        "\r\n",
        "  - **REGEOGR**\t- Região geográfica\r\n",
        "\r\n",
        "  - **VB01001**\t- Qual é o seu sexo?\r\n",
        "\r\n",
        "  - **VB01002**\t- Qual é a sua cor ou raça?\r\n",
        "\r\n",
        "- **Ordinais**:\r\n",
        "\r\n",
        "  - **VB01021** -\tEm que ano/série você está?\r\n",
        "\r\n",
        "  - **VB01025**\t- Qual o grau de escolaridade mais elevado que você pretendo concluir?\r\n",
        "\r\n",
        "  - **VB07006**\t- NOS ÚLTIMOS 30 DIAS, com que frequência os colegas de sua escola trataram você bem e/ou foram prestativos contigo?\r\n",
        "\r\n",
        "Exemplos de **Variáveis Quantitativas**:\r\n",
        "\r\n",
        "- **Discretas**:\r\n",
        "\r\n",
        "  - **VB01010A** - Contando com você, quantas pessoas moram na sua casa ou apartamento?\r\n",
        "\r\n",
        "- **Contínuas**:\r\n",
        "\r\n",
        "  - **VB17003**\t- Peso do estudante, incluindo os imputados, com uma casa decimal \r\n",
        "\r\n",
        "  - **VB17004**\t- Altura do estudante, incluindo os imputados, com uma casa decimal\r\n",
        "\r\n",
        "  - **PESO** -\tPeso do aluno de acordo com a amostra, utilizado para expansão\r\n",
        "\r\n"
      ]
    },
    {
      "cell_type": "markdown",
      "metadata": {
        "id": "S011EyV4bV6n"
      },
      "source": [
        "## 02. Dados qualitativos e tabelas de frequência"
      ]
    },
    {
      "cell_type": "code",
      "metadata": {
        "colab": {
          "base_uri": "https://localhost:8080/"
        },
        "id": "jKd_qWz9XOqY",
        "outputId": "8e834218-ed9e-4f2b-ff5b-ffdba7cbd817"
      },
      "source": [
        "df['VB01001'].value_counts()"
      ],
      "execution_count": null,
      "outputs": [
        {
          "output_type": "execute_result",
          "data": {
            "text/plain": [
              "1    8287\n",
              "2    8269\n",
              "Name: VB01001, dtype: int64"
            ]
          },
          "metadata": {
            "tags": []
          },
          "execution_count": 14
        }
      ]
    },
    {
      "cell_type": "code",
      "metadata": {
        "colab": {
          "base_uri": "https://localhost:8080/"
        },
        "id": "WO8gxqtIXpEu",
        "outputId": "a50d6108-5470-4f72-b668-b8bbdf163525"
      },
      "source": [
        "df['VB01001'].value_counts(normalize=True) * 100"
      ],
      "execution_count": null,
      "outputs": [
        {
          "output_type": "execute_result",
          "data": {
            "text/plain": [
              "1    50.054361\n",
              "2    49.945639\n",
              "Name: VB01001, dtype: float64"
            ]
          },
          "metadata": {
            "tags": []
          },
          "execution_count": 15
        }
      ]
    },
    {
      "cell_type": "code",
      "metadata": {
        "colab": {
          "base_uri": "https://localhost:8080/"
        },
        "id": "ILxf0liaYDsV",
        "outputId": "1ac43b7d-34dd-4bc7-ab68-cd6ef173b5e6"
      },
      "source": [
        "frequency = df['VB11007'].value_counts()\r\n",
        "frequency"
      ],
      "execution_count": null,
      "outputs": [
        {
          "output_type": "execute_result",
          "data": {
            "text/plain": [
              "2     6920\n",
              "1     4608\n",
              "4     2326\n",
              "3     1807\n",
              "5      714\n",
              "99     181\n",
              "Name: VB11007, dtype: int64"
            ]
          },
          "metadata": {
            "tags": []
          },
          "execution_count": 16
        }
      ]
    },
    {
      "cell_type": "code",
      "metadata": {
        "colab": {
          "base_uri": "https://localhost:8080/"
        },
        "id": "IbnfSbbwY1Lf",
        "outputId": "b6cb40a8-dcb7-48e1-cae4-e8aea6e9d682"
      },
      "source": [
        "percentage = df['VB11007'].value_counts(normalize=True) * 100\r\n",
        "percentage"
      ],
      "execution_count": null,
      "outputs": [
        {
          "output_type": "execute_result",
          "data": {
            "text/plain": [
              "2     41.797536\n",
              "1     27.832810\n",
              "4     14.049287\n",
              "3     10.914472\n",
              "5      4.312636\n",
              "99     1.093259\n",
              "Name: VB11007, dtype: float64"
            ]
          },
          "metadata": {
            "tags": []
          },
          "execution_count": 17
        }
      ]
    },
    {
      "cell_type": "code",
      "metadata": {
        "colab": {
          "base_uri": "https://localhost:8080/"
        },
        "id": "3fMm-mHxZUKC",
        "outputId": "8863e40f-deea-4559-eb35-d15e45091078"
      },
      "source": [
        "answers = {\r\n",
        "    1 : 'Muito satisfeito(a)',\r\n",
        "    2 : 'Satisfeito(a)',\r\n",
        "    3 : 'Indiferente',\r\n",
        "    4 : 'Insatisfeito(a)',\r\n",
        "    5 : 'Muito insatisfeito(a)',\r\n",
        "    99 : 'Não informado'\r\n",
        "}\r\n",
        "\r\n",
        "freq_dist = pd.DataFrame({'frequencia':frequency, 'percentual':percentage})\r\n",
        "freq_dist.rename(answers, inplace=True)\r\n",
        "freq_dist.rename_axis('Sentimento em relação ao seu corpo', axis=1, inplace=True)\r\n",
        "freq_dist"
      ],
      "execution_count": null,
      "outputs": [
        {
          "output_type": "execute_result",
          "data": {
            "text/html": [
              "<div>\n",
              "<style scoped>\n",
              "    .dataframe tbody tr th:only-of-type {\n",
              "        vertical-align: middle;\n",
              "    }\n",
              "\n",
              "    .dataframe tbody tr th {\n",
              "        vertical-align: top;\n",
              "    }\n",
              "\n",
              "    .dataframe thead th {\n",
              "        text-align: right;\n",
              "    }\n",
              "</style>\n",
              "<table border=\"1\" class=\"dataframe\">\n",
              "  <thead>\n",
              "    <tr style=\"text-align: right;\">\n",
              "      <th>Sentimento em relação ao seu corpo</th>\n",
              "      <th>frequencia</th>\n",
              "      <th>percentual</th>\n",
              "    </tr>\n",
              "  </thead>\n",
              "  <tbody>\n",
              "    <tr>\n",
              "      <th>Satisfeito(a)</th>\n",
              "      <td>6920</td>\n",
              "      <td>41.797536</td>\n",
              "    </tr>\n",
              "    <tr>\n",
              "      <th>Muito satisfeito(a)</th>\n",
              "      <td>4608</td>\n",
              "      <td>27.832810</td>\n",
              "    </tr>\n",
              "    <tr>\n",
              "      <th>Insatisfeito(a)</th>\n",
              "      <td>2326</td>\n",
              "      <td>14.049287</td>\n",
              "    </tr>\n",
              "    <tr>\n",
              "      <th>Indiferente</th>\n",
              "      <td>1807</td>\n",
              "      <td>10.914472</td>\n",
              "    </tr>\n",
              "    <tr>\n",
              "      <th>Muito insatisfeito(a)</th>\n",
              "      <td>714</td>\n",
              "      <td>4.312636</td>\n",
              "    </tr>\n",
              "    <tr>\n",
              "      <th>Não informado</th>\n",
              "      <td>181</td>\n",
              "      <td>1.093259</td>\n",
              "    </tr>\n",
              "  </tbody>\n",
              "</table>\n",
              "</div>"
            ],
            "text/plain": [
              "Sentimento em relação ao seu corpo  frequencia  percentual\n",
              "Satisfeito(a)                             6920   41.797536\n",
              "Muito satisfeito(a)                       4608   27.832810\n",
              "Insatisfeito(a)                           2326   14.049287\n",
              "Indiferente                               1807   10.914472\n",
              "Muito insatisfeito(a)                      714    4.312636\n",
              "Não informado                              181    1.093259"
            ]
          },
          "metadata": {
            "tags": []
          },
          "execution_count": 18
        }
      ]
    },
    {
      "cell_type": "markdown",
      "metadata": {
        "id": "4esFH6l1cYZK"
      },
      "source": [
        "### Desafio 01 - Criar uma função para gerar as tabelas de frequência e fazer a análise de outras informações. Compartilhar no discord suas análises."
      ]
    },
    {
      "cell_type": "code",
      "metadata": {
        "id": "qeDzZi9HcerY"
      },
      "source": [
        "def make_freq_table(df, column, question_title=None, answers_dict=None):\r\n",
        "  freq = df[column].value_counts()\r\n",
        "  pct = df[column].value_counts(normalize=True) * 100\r\n",
        "\r\n",
        "  freq_table = pd.DataFrame({'frequencia':freq, 'percentual':pct})\r\n",
        "  if question_title:\r\n",
        "    freq_table.rename_axis(question_title, axis=1, inplace=True)\r\n",
        "  if answers_dict:\r\n",
        "    freq_table.rename(answers_dict, inplace=True)\r\n",
        "\r\n",
        "  return freq_table"
      ],
      "execution_count": null,
      "outputs": []
    },
    {
      "cell_type": "code",
      "metadata": {
        "colab": {
          "base_uri": "https://localhost:8080/"
        },
        "id": "KK2I0BVdeeUn",
        "outputId": "29b4d89a-e63b-414e-b41a-8d23620dda4e"
      },
      "source": [
        "foul_health_answers = {\r\n",
        "    1 : 'Não faltei a escola nos últimos 12 meses por motivos de saúde',\r\n",
        "    2 : '1 a 3 dias nos últimos 12 meses',\r\n",
        "    3\t: '4 a 7 dias nos últimos 12 meses',\r\n",
        "    4\t: '8 a 15 dias nos últimos 12 meses',\r\n",
        "    5\t: '16 dias ou mais nos últimos 12 meses',\r\n",
        "    99 : 'Não informado'\r\n",
        "}\r\n",
        "\r\n",
        "make_freq_table(df, column='VB13006', answers_dict=foul_health_answers,\r\n",
        "                question_title='NOS ÚLTIMOS 12 MESES, quantos dias você faltou a escola por motivo(s) relacionado(s) à sua saúde?')"
      ],
      "execution_count": null,
      "outputs": [
        {
          "output_type": "execute_result",
          "data": {
            "text/html": [
              "<div>\n",
              "<style scoped>\n",
              "    .dataframe tbody tr th:only-of-type {\n",
              "        vertical-align: middle;\n",
              "    }\n",
              "\n",
              "    .dataframe tbody tr th {\n",
              "        vertical-align: top;\n",
              "    }\n",
              "\n",
              "    .dataframe thead th {\n",
              "        text-align: right;\n",
              "    }\n",
              "</style>\n",
              "<table border=\"1\" class=\"dataframe\">\n",
              "  <thead>\n",
              "    <tr style=\"text-align: right;\">\n",
              "      <th>NOS ÚLTIMOS 12 MESES, quantos dias você faltou a escola por motivo(s) relacionado(s) à sua saúde?</th>\n",
              "      <th>frequencia</th>\n",
              "      <th>percentual</th>\n",
              "    </tr>\n",
              "  </thead>\n",
              "  <tbody>\n",
              "    <tr>\n",
              "      <th>Não faltei a escola nos últimos 12 meses por motivos de saúde</th>\n",
              "      <td>8030</td>\n",
              "      <td>48.502054</td>\n",
              "    </tr>\n",
              "    <tr>\n",
              "      <th>1 a 3 dias nos últimos 12 meses</th>\n",
              "      <td>5540</td>\n",
              "      <td>33.462189</td>\n",
              "    </tr>\n",
              "    <tr>\n",
              "      <th>4 a 7 dias nos últimos 12 meses</th>\n",
              "      <td>1714</td>\n",
              "      <td>10.352742</td>\n",
              "    </tr>\n",
              "    <tr>\n",
              "      <th>8 a 15 dias nos últimos 12 meses</th>\n",
              "      <td>594</td>\n",
              "      <td>3.587823</td>\n",
              "    </tr>\n",
              "    <tr>\n",
              "      <th>16 dias ou mais nos últimos 12 meses</th>\n",
              "      <td>500</td>\n",
              "      <td>3.020053</td>\n",
              "    </tr>\n",
              "    <tr>\n",
              "      <th>Não informado</th>\n",
              "      <td>178</td>\n",
              "      <td>1.075139</td>\n",
              "    </tr>\n",
              "  </tbody>\n",
              "</table>\n",
              "</div>"
            ],
            "text/plain": [
              "NOS ÚLTIMOS 12 MESES, quantos dias você faltou a escola por motivo(s) relacionado(s) à sua saúde?  frequencia  percentual\n",
              "Não faltei a escola nos últimos 12 meses por mo...                                                       8030   48.502054\n",
              "1 a 3 dias nos últimos 12 meses                                                                          5540   33.462189\n",
              "4 a 7 dias nos últimos 12 meses                                                                          1714   10.352742\n",
              "8 a 15 dias nos últimos 12 meses                                                                          594    3.587823\n",
              "16 dias ou mais nos últimos 12 meses                                                                      500    3.020053\n",
              "Não informado                                                                                             178    1.075139"
            ]
          },
          "metadata": {
            "tags": []
          },
          "execution_count": 20
        }
      ]
    },
    {
      "cell_type": "markdown",
      "metadata": {
        "id": "MQW6cpbij5ls"
      },
      "source": [
        "## 03. Frequência em dados contínuos e pandas CrossTab"
      ]
    },
    {
      "cell_type": "code",
      "metadata": {
        "colab": {
          "base_uri": "https://localhost:8080/"
        },
        "id": "uR-hFij7gRsX",
        "outputId": "728ea487-ecde-4a5a-845f-ebc3983917c2"
      },
      "source": [
        "df['IMC'] = df['VB17003'] / ((df['VB17004']/100)**2)\r\n",
        "df['IMC']"
      ],
      "execution_count": null,
      "outputs": [
        {
          "output_type": "execute_result",
          "data": {
            "text/plain": [
              "0        15.051321\n",
              "1        21.727839\n",
              "2        18.502907\n",
              "3        23.322831\n",
              "4        28.122076\n",
              "           ...    \n",
              "16551    20.113223\n",
              "16552    17.930782\n",
              "16553    23.968489\n",
              "16554    18.995343\n",
              "16555    23.303246\n",
              "Name: IMC, Length: 16556, dtype: float64"
            ]
          },
          "metadata": {
            "tags": []
          },
          "execution_count": 21
        }
      ]
    },
    {
      "cell_type": "code",
      "metadata": {
        "colab": {
          "base_uri": "https://localhost:8080/"
        },
        "id": "SrOYlSs_iDHP",
        "outputId": "afae6334-9583-45b6-f89b-a3eb109a41be"
      },
      "source": [
        "class_range = [0, 18.5, 25, 30, 60]\r\n",
        "labels = ['abaixo', 'normal', 'sobrepeso', 'obesidade']\r\n",
        "\r\n",
        "df['CLASSE_IMC'] = pd.cut(x=df['IMC'], bins=class_range, \r\n",
        "                          labels=labels, include_lowest=True)\r\n",
        "df[['IMC', 'CLASSE_IMC']]"
      ],
      "execution_count": null,
      "outputs": [
        {
          "output_type": "execute_result",
          "data": {
            "text/html": [
              "<div>\n",
              "<style scoped>\n",
              "    .dataframe tbody tr th:only-of-type {\n",
              "        vertical-align: middle;\n",
              "    }\n",
              "\n",
              "    .dataframe tbody tr th {\n",
              "        vertical-align: top;\n",
              "    }\n",
              "\n",
              "    .dataframe thead th {\n",
              "        text-align: right;\n",
              "    }\n",
              "</style>\n",
              "<table border=\"1\" class=\"dataframe\">\n",
              "  <thead>\n",
              "    <tr style=\"text-align: right;\">\n",
              "      <th></th>\n",
              "      <th>IMC</th>\n",
              "      <th>CLASSE_IMC</th>\n",
              "    </tr>\n",
              "  </thead>\n",
              "  <tbody>\n",
              "    <tr>\n",
              "      <th>0</th>\n",
              "      <td>15.051321</td>\n",
              "      <td>abaixo</td>\n",
              "    </tr>\n",
              "    <tr>\n",
              "      <th>1</th>\n",
              "      <td>21.727839</td>\n",
              "      <td>normal</td>\n",
              "    </tr>\n",
              "    <tr>\n",
              "      <th>2</th>\n",
              "      <td>18.502907</td>\n",
              "      <td>normal</td>\n",
              "    </tr>\n",
              "    <tr>\n",
              "      <th>3</th>\n",
              "      <td>23.322831</td>\n",
              "      <td>normal</td>\n",
              "    </tr>\n",
              "    <tr>\n",
              "      <th>4</th>\n",
              "      <td>28.122076</td>\n",
              "      <td>sobrepeso</td>\n",
              "    </tr>\n",
              "    <tr>\n",
              "      <th>...</th>\n",
              "      <td>...</td>\n",
              "      <td>...</td>\n",
              "    </tr>\n",
              "    <tr>\n",
              "      <th>16551</th>\n",
              "      <td>20.113223</td>\n",
              "      <td>normal</td>\n",
              "    </tr>\n",
              "    <tr>\n",
              "      <th>16552</th>\n",
              "      <td>17.930782</td>\n",
              "      <td>abaixo</td>\n",
              "    </tr>\n",
              "    <tr>\n",
              "      <th>16553</th>\n",
              "      <td>23.968489</td>\n",
              "      <td>normal</td>\n",
              "    </tr>\n",
              "    <tr>\n",
              "      <th>16554</th>\n",
              "      <td>18.995343</td>\n",
              "      <td>normal</td>\n",
              "    </tr>\n",
              "    <tr>\n",
              "      <th>16555</th>\n",
              "      <td>23.303246</td>\n",
              "      <td>normal</td>\n",
              "    </tr>\n",
              "  </tbody>\n",
              "</table>\n",
              "<p>16556 rows × 2 columns</p>\n",
              "</div>"
            ],
            "text/plain": [
              "             IMC CLASSE_IMC\n",
              "0      15.051321     abaixo\n",
              "1      21.727839     normal\n",
              "2      18.502907     normal\n",
              "3      23.322831     normal\n",
              "4      28.122076  sobrepeso\n",
              "...          ...        ...\n",
              "16551  20.113223     normal\n",
              "16552  17.930782     abaixo\n",
              "16553  23.968489     normal\n",
              "16554  18.995343     normal\n",
              "16555  23.303246     normal\n",
              "\n",
              "[16556 rows x 2 columns]"
            ]
          },
          "metadata": {
            "tags": []
          },
          "execution_count": 22
        }
      ]
    },
    {
      "cell_type": "code",
      "metadata": {
        "colab": {
          "base_uri": "https://localhost:8080/"
        },
        "id": "bNxAD9SkjfmD",
        "outputId": "a3ea8c5e-53aa-43b5-c9e9-c4166fe6cf54"
      },
      "source": [
        "freq_dist = make_freq_table(df=df, column='CLASSE_IMC', question_title='classificacao_IMC')\r\n",
        "freq_dist"
      ],
      "execution_count": null,
      "outputs": [
        {
          "output_type": "execute_result",
          "data": {
            "text/html": [
              "<div>\n",
              "<style scoped>\n",
              "    .dataframe tbody tr th:only-of-type {\n",
              "        vertical-align: middle;\n",
              "    }\n",
              "\n",
              "    .dataframe tbody tr th {\n",
              "        vertical-align: top;\n",
              "    }\n",
              "\n",
              "    .dataframe thead th {\n",
              "        text-align: right;\n",
              "    }\n",
              "</style>\n",
              "<table border=\"1\" class=\"dataframe\">\n",
              "  <thead>\n",
              "    <tr style=\"text-align: right;\">\n",
              "      <th>classificacao_IMC</th>\n",
              "      <th>frequencia</th>\n",
              "      <th>percentual</th>\n",
              "    </tr>\n",
              "  </thead>\n",
              "  <tbody>\n",
              "    <tr>\n",
              "      <th>normal</th>\n",
              "      <td>9188</td>\n",
              "      <td>55.496497</td>\n",
              "    </tr>\n",
              "    <tr>\n",
              "      <th>abaixo</th>\n",
              "      <td>4975</td>\n",
              "      <td>30.049529</td>\n",
              "    </tr>\n",
              "    <tr>\n",
              "      <th>sobrepeso</th>\n",
              "      <td>1760</td>\n",
              "      <td>10.630587</td>\n",
              "    </tr>\n",
              "    <tr>\n",
              "      <th>obesidade</th>\n",
              "      <td>633</td>\n",
              "      <td>3.823387</td>\n",
              "    </tr>\n",
              "  </tbody>\n",
              "</table>\n",
              "</div>"
            ],
            "text/plain": [
              "classificacao_IMC  frequencia  percentual\n",
              "normal                   9188   55.496497\n",
              "abaixo                   4975   30.049529\n",
              "sobrepeso                1760   10.630587\n",
              "obesidade                 633    3.823387"
            ]
          },
          "metadata": {
            "tags": []
          },
          "execution_count": 23
        }
      ]
    },
    {
      "cell_type": "code",
      "metadata": {
        "colab": {
          "base_uri": "https://localhost:8080/"
        },
        "id": "sAEACYupmNTQ",
        "outputId": "25a0d02b-b6e1-41f1-98f6-48ee4e8f96e7"
      },
      "source": [
        "sample_size = len(df)\r\n",
        "\r\n",
        "k = int(1 + (10/3) * np.log10(sample_size))\r\n",
        "df['CLASSE_ALTURA'] = pd.cut(x=df['VB17004'], bins=15, include_lowest=True)\r\n",
        "freq_dist = make_freq_table(df, column='CLASSE_ALTURA')\r\n",
        "freq_dist"
      ],
      "execution_count": null,
      "outputs": [
        {
          "output_type": "execute_result",
          "data": {
            "text/html": [
              "<div>\n",
              "<style scoped>\n",
              "    .dataframe tbody tr th:only-of-type {\n",
              "        vertical-align: middle;\n",
              "    }\n",
              "\n",
              "    .dataframe tbody tr th {\n",
              "        vertical-align: top;\n",
              "    }\n",
              "\n",
              "    .dataframe thead th {\n",
              "        text-align: right;\n",
              "    }\n",
              "</style>\n",
              "<table border=\"1\" class=\"dataframe\">\n",
              "  <thead>\n",
              "    <tr style=\"text-align: right;\">\n",
              "      <th></th>\n",
              "      <th>frequencia</th>\n",
              "      <th>percentual</th>\n",
              "    </tr>\n",
              "  </thead>\n",
              "  <tbody>\n",
              "    <tr>\n",
              "      <th>(157.327, 162.073]</th>\n",
              "      <td>3110</td>\n",
              "      <td>18.784731</td>\n",
              "    </tr>\n",
              "    <tr>\n",
              "      <th>(152.58, 157.327]</th>\n",
              "      <td>2734</td>\n",
              "      <td>16.513651</td>\n",
              "    </tr>\n",
              "    <tr>\n",
              "      <th>(162.073, 166.82]</th>\n",
              "      <td>2550</td>\n",
              "      <td>15.402271</td>\n",
              "    </tr>\n",
              "    <tr>\n",
              "      <th>(166.82, 171.567]</th>\n",
              "      <td>2063</td>\n",
              "      <td>12.460739</td>\n",
              "    </tr>\n",
              "    <tr>\n",
              "      <th>(147.833, 152.58]</th>\n",
              "      <td>1782</td>\n",
              "      <td>10.763469</td>\n",
              "    </tr>\n",
              "    <tr>\n",
              "      <th>(171.567, 176.313]</th>\n",
              "      <td>1416</td>\n",
              "      <td>8.552791</td>\n",
              "    </tr>\n",
              "    <tr>\n",
              "      <th>(143.087, 147.833]</th>\n",
              "      <td>1012</td>\n",
              "      <td>6.112588</td>\n",
              "    </tr>\n",
              "    <tr>\n",
              "      <th>(176.313, 181.06]</th>\n",
              "      <td>749</td>\n",
              "      <td>4.524040</td>\n",
              "    </tr>\n",
              "    <tr>\n",
              "      <th>(138.34, 143.087]</th>\n",
              "      <td>484</td>\n",
              "      <td>2.923411</td>\n",
              "    </tr>\n",
              "    <tr>\n",
              "      <th>(181.06, 185.807]</th>\n",
              "      <td>300</td>\n",
              "      <td>1.812032</td>\n",
              "    </tr>\n",
              "    <tr>\n",
              "      <th>(133.593, 138.34]</th>\n",
              "      <td>199</td>\n",
              "      <td>1.201981</td>\n",
              "    </tr>\n",
              "    <tr>\n",
              "      <th>(185.807, 190.553]</th>\n",
              "      <td>94</td>\n",
              "      <td>0.567770</td>\n",
              "    </tr>\n",
              "    <tr>\n",
              "      <th>(128.847, 133.593]</th>\n",
              "      <td>47</td>\n",
              "      <td>0.283885</td>\n",
              "    </tr>\n",
              "    <tr>\n",
              "      <th>(190.553, 195.3]</th>\n",
              "      <td>13</td>\n",
              "      <td>0.078521</td>\n",
              "    </tr>\n",
              "    <tr>\n",
              "      <th>(124.02799999999999, 128.847]</th>\n",
              "      <td>3</td>\n",
              "      <td>0.018120</td>\n",
              "    </tr>\n",
              "  </tbody>\n",
              "</table>\n",
              "</div>"
            ],
            "text/plain": [
              "                               frequencia  percentual\n",
              "(157.327, 162.073]                   3110   18.784731\n",
              "(152.58, 157.327]                    2734   16.513651\n",
              "(162.073, 166.82]                    2550   15.402271\n",
              "(166.82, 171.567]                    2063   12.460739\n",
              "(147.833, 152.58]                    1782   10.763469\n",
              "(171.567, 176.313]                   1416    8.552791\n",
              "(143.087, 147.833]                   1012    6.112588\n",
              "(176.313, 181.06]                     749    4.524040\n",
              "(138.34, 143.087]                     484    2.923411\n",
              "(181.06, 185.807]                     300    1.812032\n",
              "(133.593, 138.34]                     199    1.201981\n",
              "(185.807, 190.553]                     94    0.567770\n",
              "(128.847, 133.593]                     47    0.283885\n",
              "(190.553, 195.3]                       13    0.078521\n",
              "(124.02799999999999, 128.847]           3    0.018120"
            ]
          },
          "metadata": {
            "tags": []
          },
          "execution_count": 24
        }
      ]
    },
    {
      "cell_type": "code",
      "metadata": {
        "colab": {
          "base_uri": "https://localhost:8080/"
        },
        "id": "YjfKmXwXoZzK",
        "outputId": "b3090bfb-0d81-4abc-e1eb-e170614d0f56"
      },
      "source": [
        "df['VB17004'].min()"
      ],
      "execution_count": null,
      "outputs": [
        {
          "output_type": "execute_result",
          "data": {
            "text/plain": [
              "124.1"
            ]
          },
          "metadata": {
            "tags": []
          },
          "execution_count": 25
        }
      ]
    },
    {
      "cell_type": "code",
      "metadata": {
        "colab": {
          "base_uri": "https://localhost:8080/"
        },
        "id": "ilr-TaA-oxLh",
        "outputId": "300c8dd7-134a-4276-b4ec-e93576577d97"
      },
      "source": [
        "df['VB17004'].max()"
      ],
      "execution_count": null,
      "outputs": [
        {
          "output_type": "execute_result",
          "data": {
            "text/plain": [
              "195.3"
            ]
          },
          "metadata": {
            "tags": []
          },
          "execution_count": 26
        }
      ]
    },
    {
      "cell_type": "code",
      "metadata": {
        "colab": {
          "base_uri": "https://localhost:8080/"
        },
        "id": "Fg8GUPQK-Eca",
        "outputId": "9c2a350a-2a3a-4f03-b804-f15908e1cfbd"
      },
      "source": [
        "cross_freq = pd.crosstab(df['VB11007'], df['VB01001'])\r\n",
        "cross_freq.rename(index=answers, inplace=True)\r\n",
        "cross_freq.rename(columns={1 : 'Masculino', 2 : 'Feminino'}, inplace=True)\r\n",
        "cross_freq"
      ],
      "execution_count": null,
      "outputs": [
        {
          "output_type": "execute_result",
          "data": {
            "text/html": [
              "<div>\n",
              "<style scoped>\n",
              "    .dataframe tbody tr th:only-of-type {\n",
              "        vertical-align: middle;\n",
              "    }\n",
              "\n",
              "    .dataframe tbody tr th {\n",
              "        vertical-align: top;\n",
              "    }\n",
              "\n",
              "    .dataframe thead th {\n",
              "        text-align: right;\n",
              "    }\n",
              "</style>\n",
              "<table border=\"1\" class=\"dataframe\">\n",
              "  <thead>\n",
              "    <tr style=\"text-align: right;\">\n",
              "      <th>VB01001</th>\n",
              "      <th>Masculino</th>\n",
              "      <th>Feminino</th>\n",
              "    </tr>\n",
              "    <tr>\n",
              "      <th>VB11007</th>\n",
              "      <th></th>\n",
              "      <th></th>\n",
              "    </tr>\n",
              "  </thead>\n",
              "  <tbody>\n",
              "    <tr>\n",
              "      <th>Muito satisfeito(a)</th>\n",
              "      <td>2682</td>\n",
              "      <td>1926</td>\n",
              "    </tr>\n",
              "    <tr>\n",
              "      <th>Satisfeito(a)</th>\n",
              "      <td>3490</td>\n",
              "      <td>3430</td>\n",
              "    </tr>\n",
              "    <tr>\n",
              "      <th>Indiferente</th>\n",
              "      <td>950</td>\n",
              "      <td>857</td>\n",
              "    </tr>\n",
              "    <tr>\n",
              "      <th>Insatisfeito(a)</th>\n",
              "      <td>786</td>\n",
              "      <td>1540</td>\n",
              "    </tr>\n",
              "    <tr>\n",
              "      <th>Muito insatisfeito(a)</th>\n",
              "      <td>260</td>\n",
              "      <td>454</td>\n",
              "    </tr>\n",
              "    <tr>\n",
              "      <th>Não informado</th>\n",
              "      <td>119</td>\n",
              "      <td>62</td>\n",
              "    </tr>\n",
              "  </tbody>\n",
              "</table>\n",
              "</div>"
            ],
            "text/plain": [
              "VB01001                Masculino  Feminino\n",
              "VB11007                                   \n",
              "Muito satisfeito(a)         2682      1926\n",
              "Satisfeito(a)               3490      3430\n",
              "Indiferente                  950       857\n",
              "Insatisfeito(a)              786      1540\n",
              "Muito insatisfeito(a)        260       454\n",
              "Não informado                119        62"
            ]
          },
          "metadata": {
            "tags": []
          },
          "execution_count": 27
        }
      ]
    },
    {
      "cell_type": "code",
      "metadata": {
        "colab": {
          "base_uri": "https://localhost:8080/"
        },
        "id": "cO3uGNNB_NhW",
        "outputId": "b98992d1-aeb3-4731-b953-0ab28d2f675e"
      },
      "source": [
        "cross_freq = pd.crosstab(df['VB11007'], df['VB01001'], normalize=True) * 100\r\n",
        "cross_freq.rename(index=answers, inplace=True)\r\n",
        "cross_freq.rename(columns={1 : 'Masculino', 2 : 'Feminino'}, inplace=True)\r\n",
        "cross_freq"
      ],
      "execution_count": null,
      "outputs": [
        {
          "output_type": "execute_result",
          "data": {
            "text/html": [
              "<div>\n",
              "<style scoped>\n",
              "    .dataframe tbody tr th:only-of-type {\n",
              "        vertical-align: middle;\n",
              "    }\n",
              "\n",
              "    .dataframe tbody tr th {\n",
              "        vertical-align: top;\n",
              "    }\n",
              "\n",
              "    .dataframe thead th {\n",
              "        text-align: right;\n",
              "    }\n",
              "</style>\n",
              "<table border=\"1\" class=\"dataframe\">\n",
              "  <thead>\n",
              "    <tr style=\"text-align: right;\">\n",
              "      <th>VB01001</th>\n",
              "      <th>Masculino</th>\n",
              "      <th>Feminino</th>\n",
              "    </tr>\n",
              "    <tr>\n",
              "      <th>VB11007</th>\n",
              "      <th></th>\n",
              "      <th></th>\n",
              "    </tr>\n",
              "  </thead>\n",
              "  <tbody>\n",
              "    <tr>\n",
              "      <th>Muito satisfeito(a)</th>\n",
              "      <td>16.199565</td>\n",
              "      <td>11.633245</td>\n",
              "    </tr>\n",
              "    <tr>\n",
              "      <th>Satisfeito(a)</th>\n",
              "      <td>21.079971</td>\n",
              "      <td>20.717565</td>\n",
              "    </tr>\n",
              "    <tr>\n",
              "      <th>Indiferente</th>\n",
              "      <td>5.738101</td>\n",
              "      <td>5.176371</td>\n",
              "    </tr>\n",
              "    <tr>\n",
              "      <th>Insatisfeito(a)</th>\n",
              "      <td>4.747524</td>\n",
              "      <td>9.301764</td>\n",
              "    </tr>\n",
              "    <tr>\n",
              "      <th>Muito insatisfeito(a)</th>\n",
              "      <td>1.570428</td>\n",
              "      <td>2.742208</td>\n",
              "    </tr>\n",
              "    <tr>\n",
              "      <th>Não informado</th>\n",
              "      <td>0.718773</td>\n",
              "      <td>0.374487</td>\n",
              "    </tr>\n",
              "  </tbody>\n",
              "</table>\n",
              "</div>"
            ],
            "text/plain": [
              "VB01001                Masculino   Feminino\n",
              "VB11007                                    \n",
              "Muito satisfeito(a)    16.199565  11.633245\n",
              "Satisfeito(a)          21.079971  20.717565\n",
              "Indiferente             5.738101   5.176371\n",
              "Insatisfeito(a)         4.747524   9.301764\n",
              "Muito insatisfeito(a)   1.570428   2.742208\n",
              "Não informado           0.718773   0.374487"
            ]
          },
          "metadata": {
            "tags": []
          },
          "execution_count": 28
        }
      ]
    },
    {
      "cell_type": "code",
      "metadata": {
        "colab": {
          "base_uri": "https://localhost:8080/"
        },
        "id": "YyIwamBw_RyH",
        "outputId": "e0ee803b-58a1-4716-fbfc-7edf8566e150"
      },
      "source": [
        "cross_freq = pd.crosstab(df['VB11007'], df['VB01001'], normalize='columns') * 100\r\n",
        "cross_freq.rename(index=answers, inplace=True)\r\n",
        "cross_freq.rename(columns={1 : 'Masculino', 2 : 'Feminino'}, inplace=True)\r\n",
        "cross_freq"
      ],
      "execution_count": null,
      "outputs": [
        {
          "output_type": "execute_result",
          "data": {
            "text/html": [
              "<div>\n",
              "<style scoped>\n",
              "    .dataframe tbody tr th:only-of-type {\n",
              "        vertical-align: middle;\n",
              "    }\n",
              "\n",
              "    .dataframe tbody tr th {\n",
              "        vertical-align: top;\n",
              "    }\n",
              "\n",
              "    .dataframe thead th {\n",
              "        text-align: right;\n",
              "    }\n",
              "</style>\n",
              "<table border=\"1\" class=\"dataframe\">\n",
              "  <thead>\n",
              "    <tr style=\"text-align: right;\">\n",
              "      <th>VB01001</th>\n",
              "      <th>Masculino</th>\n",
              "      <th>Feminino</th>\n",
              "    </tr>\n",
              "    <tr>\n",
              "      <th>VB11007</th>\n",
              "      <th></th>\n",
              "      <th></th>\n",
              "    </tr>\n",
              "  </thead>\n",
              "  <tbody>\n",
              "    <tr>\n",
              "      <th>Muito satisfeito(a)</th>\n",
              "      <td>32.363944</td>\n",
              "      <td>23.291813</td>\n",
              "    </tr>\n",
              "    <tr>\n",
              "      <th>Satisfeito(a)</th>\n",
              "      <td>42.114155</td>\n",
              "      <td>41.480227</td>\n",
              "    </tr>\n",
              "    <tr>\n",
              "      <th>Indiferente</th>\n",
              "      <td>11.463738</td>\n",
              "      <td>10.364010</td>\n",
              "    </tr>\n",
              "    <tr>\n",
              "      <th>Insatisfeito(a)</th>\n",
              "      <td>9.484735</td>\n",
              "      <td>18.623776</td>\n",
              "    </tr>\n",
              "    <tr>\n",
              "      <th>Muito insatisfeito(a)</th>\n",
              "      <td>3.137444</td>\n",
              "      <td>5.490386</td>\n",
              "    </tr>\n",
              "    <tr>\n",
              "      <th>Não informado</th>\n",
              "      <td>1.435984</td>\n",
              "      <td>0.749788</td>\n",
              "    </tr>\n",
              "  </tbody>\n",
              "</table>\n",
              "</div>"
            ],
            "text/plain": [
              "VB01001                Masculino   Feminino\n",
              "VB11007                                    \n",
              "Muito satisfeito(a)    32.363944  23.291813\n",
              "Satisfeito(a)          42.114155  41.480227\n",
              "Indiferente            11.463738  10.364010\n",
              "Insatisfeito(a)         9.484735  18.623776\n",
              "Muito insatisfeito(a)   3.137444   5.490386\n",
              "Não informado           1.435984   0.749788"
            ]
          },
          "metadata": {
            "tags": []
          },
          "execution_count": 29
        }
      ]
    },
    {
      "cell_type": "code",
      "metadata": {
        "colab": {
          "base_uri": "https://localhost:8080/"
        },
        "id": "VtbdGX2E_UkU",
        "outputId": "f2f0fb6c-3f9d-420c-80b6-f115e129b963"
      },
      "source": [
        "cross_freq = pd.crosstab(df['VB11007'], df['VB01001'], normalize='index') * 100\r\n",
        "cross_freq.rename(index=answers, inplace=True)\r\n",
        "cross_freq.rename(columns={1 : 'Masculino', 2 : 'Feminino'}, inplace=True)\r\n",
        "cross_freq"
      ],
      "execution_count": null,
      "outputs": [
        {
          "output_type": "execute_result",
          "data": {
            "text/html": [
              "<div>\n",
              "<style scoped>\n",
              "    .dataframe tbody tr th:only-of-type {\n",
              "        vertical-align: middle;\n",
              "    }\n",
              "\n",
              "    .dataframe tbody tr th {\n",
              "        vertical-align: top;\n",
              "    }\n",
              "\n",
              "    .dataframe thead th {\n",
              "        text-align: right;\n",
              "    }\n",
              "</style>\n",
              "<table border=\"1\" class=\"dataframe\">\n",
              "  <thead>\n",
              "    <tr style=\"text-align: right;\">\n",
              "      <th>VB01001</th>\n",
              "      <th>Masculino</th>\n",
              "      <th>Feminino</th>\n",
              "    </tr>\n",
              "    <tr>\n",
              "      <th>VB11007</th>\n",
              "      <th></th>\n",
              "      <th></th>\n",
              "    </tr>\n",
              "  </thead>\n",
              "  <tbody>\n",
              "    <tr>\n",
              "      <th>Muito satisfeito(a)</th>\n",
              "      <td>58.203125</td>\n",
              "      <td>41.796875</td>\n",
              "    </tr>\n",
              "    <tr>\n",
              "      <th>Satisfeito(a)</th>\n",
              "      <td>50.433526</td>\n",
              "      <td>49.566474</td>\n",
              "    </tr>\n",
              "    <tr>\n",
              "      <th>Indiferente</th>\n",
              "      <td>52.573326</td>\n",
              "      <td>47.426674</td>\n",
              "    </tr>\n",
              "    <tr>\n",
              "      <th>Insatisfeito(a)</th>\n",
              "      <td>33.791917</td>\n",
              "      <td>66.208083</td>\n",
              "    </tr>\n",
              "    <tr>\n",
              "      <th>Muito insatisfeito(a)</th>\n",
              "      <td>36.414566</td>\n",
              "      <td>63.585434</td>\n",
              "    </tr>\n",
              "    <tr>\n",
              "      <th>Não informado</th>\n",
              "      <td>65.745856</td>\n",
              "      <td>34.254144</td>\n",
              "    </tr>\n",
              "  </tbody>\n",
              "</table>\n",
              "</div>"
            ],
            "text/plain": [
              "VB01001                Masculino   Feminino\n",
              "VB11007                                    \n",
              "Muito satisfeito(a)    58.203125  41.796875\n",
              "Satisfeito(a)          50.433526  49.566474\n",
              "Indiferente            52.573326  47.426674\n",
              "Insatisfeito(a)        33.791917  66.208083\n",
              "Muito insatisfeito(a)  36.414566  63.585434\n",
              "Não informado          65.745856  34.254144"
            ]
          },
          "metadata": {
            "tags": []
          },
          "execution_count": 30
        }
      ]
    },
    {
      "cell_type": "markdown",
      "metadata": {
        "id": "EI2qD7-DBwWn"
      },
      "source": [
        "### Desafio 01 - Criar uma tabela de frequência para o peso seguindo a regra de Sturges."
      ]
    },
    {
      "cell_type": "code",
      "metadata": {
        "colab": {
          "base_uri": "https://localhost:8080/"
        },
        "id": "M-jKgsuZCa96",
        "outputId": "8d774115-14aa-4a3a-d40a-292d2894b4b8"
      },
      "source": [
        "df['CLASSE_PESO'] = pd.cut(x=df['VB17003'], bins=k, include_lowest=True)\r\n",
        "freq_dist = make_freq_table(df=df, column='CLASSE_PESO')\r\n",
        "freq_dist"
      ],
      "execution_count": null,
      "outputs": [
        {
          "output_type": "execute_result",
          "data": {
            "text/html": [
              "<div>\n",
              "<style scoped>\n",
              "    .dataframe tbody tr th:only-of-type {\n",
              "        vertical-align: middle;\n",
              "    }\n",
              "\n",
              "    .dataframe tbody tr th {\n",
              "        vertical-align: top;\n",
              "    }\n",
              "\n",
              "    .dataframe thead th {\n",
              "        text-align: right;\n",
              "    }\n",
              "</style>\n",
              "<table border=\"1\" class=\"dataframe\">\n",
              "  <thead>\n",
              "    <tr style=\"text-align: right;\">\n",
              "      <th></th>\n",
              "      <th>frequencia</th>\n",
              "      <th>percentual</th>\n",
              "    </tr>\n",
              "  </thead>\n",
              "  <tbody>\n",
              "    <tr>\n",
              "      <th>(46.32, 57.7]</th>\n",
              "      <td>5754</td>\n",
              "      <td>34.754772</td>\n",
              "    </tr>\n",
              "    <tr>\n",
              "      <th>(34.94, 46.32]</th>\n",
              "      <td>3852</td>\n",
              "      <td>23.266489</td>\n",
              "    </tr>\n",
              "    <tr>\n",
              "      <th>(57.7, 69.08]</th>\n",
              "      <td>3724</td>\n",
              "      <td>22.493356</td>\n",
              "    </tr>\n",
              "    <tr>\n",
              "      <th>(69.08, 80.46]</th>\n",
              "      <td>1425</td>\n",
              "      <td>8.607151</td>\n",
              "    </tr>\n",
              "    <tr>\n",
              "      <th>(23.56, 34.94]</th>\n",
              "      <td>927</td>\n",
              "      <td>5.599179</td>\n",
              "    </tr>\n",
              "    <tr>\n",
              "      <th>(80.46, 91.84]</th>\n",
              "      <td>544</td>\n",
              "      <td>3.285818</td>\n",
              "    </tr>\n",
              "    <tr>\n",
              "      <th>(91.84, 103.22]</th>\n",
              "      <td>202</td>\n",
              "      <td>1.220101</td>\n",
              "    </tr>\n",
              "    <tr>\n",
              "      <th>(103.22, 114.6]</th>\n",
              "      <td>77</td>\n",
              "      <td>0.465088</td>\n",
              "    </tr>\n",
              "    <tr>\n",
              "      <th>(114.6, 125.98]</th>\n",
              "      <td>20</td>\n",
              "      <td>0.120802</td>\n",
              "    </tr>\n",
              "    <tr>\n",
              "      <th>(125.98, 137.36]</th>\n",
              "      <td>15</td>\n",
              "      <td>0.090602</td>\n",
              "    </tr>\n",
              "    <tr>\n",
              "      <th>(137.36, 148.74]</th>\n",
              "      <td>6</td>\n",
              "      <td>0.036241</td>\n",
              "    </tr>\n",
              "    <tr>\n",
              "      <th>(148.74, 160.12]</th>\n",
              "      <td>4</td>\n",
              "      <td>0.024160</td>\n",
              "    </tr>\n",
              "    <tr>\n",
              "      <th>(12.18, 23.56]</th>\n",
              "      <td>3</td>\n",
              "      <td>0.018120</td>\n",
              "    </tr>\n",
              "    <tr>\n",
              "      <th>(160.12, 171.5]</th>\n",
              "      <td>2</td>\n",
              "      <td>0.012080</td>\n",
              "    </tr>\n",
              "    <tr>\n",
              "      <th>(0.628, 12.18]</th>\n",
              "      <td>1</td>\n",
              "      <td>0.006040</td>\n",
              "    </tr>\n",
              "  </tbody>\n",
              "</table>\n",
              "</div>"
            ],
            "text/plain": [
              "                  frequencia  percentual\n",
              "(46.32, 57.7]           5754   34.754772\n",
              "(34.94, 46.32]          3852   23.266489\n",
              "(57.7, 69.08]           3724   22.493356\n",
              "(69.08, 80.46]          1425    8.607151\n",
              "(23.56, 34.94]           927    5.599179\n",
              "(80.46, 91.84]           544    3.285818\n",
              "(91.84, 103.22]          202    1.220101\n",
              "(103.22, 114.6]           77    0.465088\n",
              "(114.6, 125.98]           20    0.120802\n",
              "(125.98, 137.36]          15    0.090602\n",
              "(137.36, 148.74]           6    0.036241\n",
              "(148.74, 160.12]           4    0.024160\n",
              "(12.18, 23.56]             3    0.018120\n",
              "(160.12, 171.5]            2    0.012080\n",
              "(0.628, 12.18]             1    0.006040"
            ]
          },
          "metadata": {
            "tags": []
          },
          "execution_count": 31
        }
      ]
    },
    {
      "cell_type": "markdown",
      "metadata": {
        "id": "-wDCGsHvB372"
      },
      "source": [
        "### Desafio 02 - Criar outros CrossTabs para analisar outras variáveis, além das abordadas em aulas. Pesquisar sobre o parâmetro aggfunc e testar em pelo menos uma tabela criada."
      ]
    },
    {
      "cell_type": "code",
      "metadata": {
        "colab": {
          "base_uri": "https://localhost:8080/"
        },
        "id": "0baHhTtnFmy4",
        "outputId": "ba4ea0ae-128a-40ba-d490-3263b7efa7bd"
      },
      "source": [
        "cross_freq = pd.crosstab(df['VB07007'], df['VB07008'], normalize='index',\r\n",
        "                         rownames=['NOS ÚLTIMOS 30 DIAS, com que frequência algum dos seus colegas de escola te esculacharam, zoaram, mangaram, intimidaram ou caçoaram tanto que você ficou magoado, incomodado, aborrecido, ofendido ou humilhado?'],\r\n",
        "                         colnames=['NOS ÚLTIMOS 30 DIAS, qual o motivo/causa de seus colegas terem te esculachado, zombado, zoado, caçoado, mangado, intimidado ou humilhado?']) * 100\r\n",
        "cross_freq.rename(index={\r\n",
        "    1 : 'Nunca',\r\n",
        "    2 : 'Raramente',\r\n",
        "    3 : 'Às vezes',\r\n",
        "    4 : 'Na maior parte do tempo',\r\n",
        "    5\t: 'Sempre',\r\n",
        "    99 : 'Não informado'}, inplace=True)\r\n",
        "cross_freq.rename(columns={\r\n",
        "    -1 : 'Pulo no questionário',\r\n",
        "    1\t: 'A minha cor ou raça',\r\n",
        "    2\t: 'A minha religião',\r\n",
        "    3\t: 'A aparência do meu rosto',\r\n",
        "    4\t: 'A aparência do meu corpo',\r\n",
        "    5\t: 'A minha orientação sexual',\r\n",
        "    6\t: 'A minha região de origem',\r\n",
        "    7\t: 'Outros motivos/causas',\r\n",
        "    99 : 'Não informado'}, inplace=True)\r\n",
        "cross_freq"
      ],
      "execution_count": null,
      "outputs": [
        {
          "output_type": "execute_result",
          "data": {
            "text/html": [
              "<div>\n",
              "<style scoped>\n",
              "    .dataframe tbody tr th:only-of-type {\n",
              "        vertical-align: middle;\n",
              "    }\n",
              "\n",
              "    .dataframe tbody tr th {\n",
              "        vertical-align: top;\n",
              "    }\n",
              "\n",
              "    .dataframe thead th {\n",
              "        text-align: right;\n",
              "    }\n",
              "</style>\n",
              "<table border=\"1\" class=\"dataframe\">\n",
              "  <thead>\n",
              "    <tr style=\"text-align: right;\">\n",
              "      <th>NOS ÚLTIMOS 30 DIAS, qual o motivo/causa de seus colegas terem te esculachado, zombado, zoado, caçoado, mangado, intimidado ou humilhado?</th>\n",
              "      <th>Pulo no questionário</th>\n",
              "      <th>A minha cor ou raça</th>\n",
              "      <th>A minha religião</th>\n",
              "      <th>A aparência do meu rosto</th>\n",
              "      <th>A aparência do meu corpo</th>\n",
              "      <th>A minha orientação sexual</th>\n",
              "      <th>A minha região de origem</th>\n",
              "      <th>Outros motivos/causas</th>\n",
              "      <th>Não informado</th>\n",
              "    </tr>\n",
              "    <tr>\n",
              "      <th>NOS ÚLTIMOS 30 DIAS, com que frequência algum dos seus colegas de escola te esculacharam, zoaram, mangaram, intimidaram ou caçoaram tanto que você ficou magoado, incomodado, aborrecido, ofendido ou humilhado?</th>\n",
              "      <th></th>\n",
              "      <th></th>\n",
              "      <th></th>\n",
              "      <th></th>\n",
              "      <th></th>\n",
              "      <th></th>\n",
              "      <th></th>\n",
              "      <th></th>\n",
              "      <th></th>\n",
              "    </tr>\n",
              "  </thead>\n",
              "  <tbody>\n",
              "    <tr>\n",
              "      <th>Nunca</th>\n",
              "      <td>100.0</td>\n",
              "      <td>0.000000</td>\n",
              "      <td>0.000000</td>\n",
              "      <td>0.000000</td>\n",
              "      <td>0.000000</td>\n",
              "      <td>0.000000</td>\n",
              "      <td>0.000000</td>\n",
              "      <td>0.000000</td>\n",
              "      <td>0.000000</td>\n",
              "    </tr>\n",
              "    <tr>\n",
              "      <th>Raramente</th>\n",
              "      <td>0.0</td>\n",
              "      <td>4.518498</td>\n",
              "      <td>2.937023</td>\n",
              "      <td>7.822649</td>\n",
              "      <td>12.962440</td>\n",
              "      <td>1.863880</td>\n",
              "      <td>1.412030</td>\n",
              "      <td>67.353855</td>\n",
              "      <td>1.129624</td>\n",
              "    </tr>\n",
              "    <tr>\n",
              "      <th>Às vezes</th>\n",
              "      <td>0.0</td>\n",
              "      <td>6.000000</td>\n",
              "      <td>3.921569</td>\n",
              "      <td>10.549020</td>\n",
              "      <td>15.882353</td>\n",
              "      <td>2.313725</td>\n",
              "      <td>1.647059</td>\n",
              "      <td>58.549020</td>\n",
              "      <td>1.137255</td>\n",
              "    </tr>\n",
              "    <tr>\n",
              "      <th>Na maior parte do tempo</th>\n",
              "      <td>0.0</td>\n",
              "      <td>5.671642</td>\n",
              "      <td>2.238806</td>\n",
              "      <td>14.925373</td>\n",
              "      <td>20.149254</td>\n",
              "      <td>3.582090</td>\n",
              "      <td>2.089552</td>\n",
              "      <td>50.298507</td>\n",
              "      <td>1.044776</td>\n",
              "    </tr>\n",
              "    <tr>\n",
              "      <th>Sempre</th>\n",
              "      <td>0.0</td>\n",
              "      <td>9.541284</td>\n",
              "      <td>4.036697</td>\n",
              "      <td>10.825688</td>\n",
              "      <td>20.366972</td>\n",
              "      <td>2.018349</td>\n",
              "      <td>2.385321</td>\n",
              "      <td>50.275229</td>\n",
              "      <td>0.550459</td>\n",
              "    </tr>\n",
              "    <tr>\n",
              "      <th>Não informado</th>\n",
              "      <td>100.0</td>\n",
              "      <td>0.000000</td>\n",
              "      <td>0.000000</td>\n",
              "      <td>0.000000</td>\n",
              "      <td>0.000000</td>\n",
              "      <td>0.000000</td>\n",
              "      <td>0.000000</td>\n",
              "      <td>0.000000</td>\n",
              "      <td>0.000000</td>\n",
              "    </tr>\n",
              "  </tbody>\n",
              "</table>\n",
              "</div>"
            ],
            "text/plain": [
              "NOS ÚLTIMOS 30 DIAS, qual o motivo/causa de seus colegas terem te esculachado, zombado, zoado, caçoado, mangado, intimidado ou humilhado?  Pulo no questionário  ...  Não informado\n",
              "NOS ÚLTIMOS 30 DIAS, com que frequência algum d...                                                                                                               ...               \n",
              "Nunca                                                                                                                                                     100.0  ...       0.000000\n",
              "Raramente                                                                                                                                                   0.0  ...       1.129624\n",
              "Às vezes                                                                                                                                                    0.0  ...       1.137255\n",
              "Na maior parte do tempo                                                                                                                                     0.0  ...       1.044776\n",
              "Sempre                                                                                                                                                      0.0  ...       0.550459\n",
              "Não informado                                                                                                                                             100.0  ...       0.000000\n",
              "\n",
              "[6 rows x 9 columns]"
            ]
          },
          "metadata": {
            "tags": []
          },
          "execution_count": 32
        }
      ]
    },
    {
      "cell_type": "code",
      "metadata": {
        "colab": {
          "base_uri": "https://localhost:8080/"
        },
        "id": "FWde-o-HLqvD",
        "outputId": "60f5ebcb-cb6d-4122-d35a-a105264b5746"
      },
      "source": [
        "cross_freq = pd.crosstab(df['VB07008'], df['VB01001'], normalize='index',\r\n",
        "                         rownames=['NOS ÚLTIMOS 30 DIAS, qual o motivo/causa de seus colegas terem te esculachado, zombado, zoado, caçoado, mangado, intimidado ou humilhado?'],\r\n",
        "                         colnames=['Qual é o seu sexo?']) * 100\r\n",
        "cross_freq.rename(columns={1 : 'Masculino', 2 : 'Feminino'}, inplace=True)\r\n",
        "cross_freq.rename(index={\r\n",
        "    -1 : 'Pulo no questionário',\r\n",
        "    1\t: 'A minha cor ou raça',\r\n",
        "    2\t: 'A minha religião',\r\n",
        "    3\t: 'A aparência do meu rosto',\r\n",
        "    4\t: 'A aparência do meu corpo',\r\n",
        "    5\t: 'A minha orientação sexual',\r\n",
        "    6\t: 'A minha região de origem',\r\n",
        "    7\t: 'Outros motivos/causas',\r\n",
        "    99 : 'Não informado'}, inplace=True)\r\n",
        "cross_freq"
      ],
      "execution_count": null,
      "outputs": [
        {
          "output_type": "execute_result",
          "data": {
            "text/html": [
              "<div>\n",
              "<style scoped>\n",
              "    .dataframe tbody tr th:only-of-type {\n",
              "        vertical-align: middle;\n",
              "    }\n",
              "\n",
              "    .dataframe tbody tr th {\n",
              "        vertical-align: top;\n",
              "    }\n",
              "\n",
              "    .dataframe thead th {\n",
              "        text-align: right;\n",
              "    }\n",
              "</style>\n",
              "<table border=\"1\" class=\"dataframe\">\n",
              "  <thead>\n",
              "    <tr style=\"text-align: right;\">\n",
              "      <th>Qual é o seu sexo?</th>\n",
              "      <th>Masculino</th>\n",
              "      <th>Feminino</th>\n",
              "    </tr>\n",
              "    <tr>\n",
              "      <th>NOS ÚLTIMOS 30 DIAS, qual o motivo/causa de seus colegas terem te esculachado, zombado, zoado, caçoado, mangado, intimidado ou humilhado?</th>\n",
              "      <th></th>\n",
              "      <th></th>\n",
              "    </tr>\n",
              "  </thead>\n",
              "  <tbody>\n",
              "    <tr>\n",
              "      <th>Pulo no questionário</th>\n",
              "      <td>49.113514</td>\n",
              "      <td>50.886486</td>\n",
              "    </tr>\n",
              "    <tr>\n",
              "      <th>A minha cor ou raça</th>\n",
              "      <td>65.508685</td>\n",
              "      <td>34.491315</td>\n",
              "    </tr>\n",
              "    <tr>\n",
              "      <th>A minha religião</th>\n",
              "      <td>56.846473</td>\n",
              "      <td>43.153527</td>\n",
              "    </tr>\n",
              "    <tr>\n",
              "      <th>A aparência do meu rosto</th>\n",
              "      <td>55.177305</td>\n",
              "      <td>44.822695</td>\n",
              "    </tr>\n",
              "    <tr>\n",
              "      <th>A aparência do meu corpo</th>\n",
              "      <td>44.414414</td>\n",
              "      <td>55.585586</td>\n",
              "    </tr>\n",
              "    <tr>\n",
              "      <th>A minha orientação sexual</th>\n",
              "      <td>71.875000</td>\n",
              "      <td>28.125000</td>\n",
              "    </tr>\n",
              "    <tr>\n",
              "      <th>A minha região de origem</th>\n",
              "      <td>57.142857</td>\n",
              "      <td>42.857143</td>\n",
              "    </tr>\n",
              "    <tr>\n",
              "      <th>Outros motivos/causas</th>\n",
              "      <td>49.766095</td>\n",
              "      <td>50.233905</td>\n",
              "    </tr>\n",
              "    <tr>\n",
              "      <th>Não informado</th>\n",
              "      <td>55.696203</td>\n",
              "      <td>44.303797</td>\n",
              "    </tr>\n",
              "  </tbody>\n",
              "</table>\n",
              "</div>"
            ],
            "text/plain": [
              "Qual é o seu sexo?                                  Masculino   Feminino\n",
              "NOS ÚLTIMOS 30 DIAS, qual o motivo/causa de seu...                      \n",
              "Pulo no questionário                                49.113514  50.886486\n",
              "A minha cor ou raça                                 65.508685  34.491315\n",
              "A minha religião                                    56.846473  43.153527\n",
              "A aparência do meu rosto                            55.177305  44.822695\n",
              "A aparência do meu corpo                            44.414414  55.585586\n",
              "A minha orientação sexual                           71.875000  28.125000\n",
              "A minha região de origem                            57.142857  42.857143\n",
              "Outros motivos/causas                               49.766095  50.233905\n",
              "Não informado                                       55.696203  44.303797"
            ]
          },
          "metadata": {
            "tags": []
          },
          "execution_count": 33
        }
      ]
    },
    {
      "cell_type": "code",
      "metadata": {
        "colab": {
          "base_uri": "https://localhost:8080/"
        },
        "id": "RwMZtSbLtyob",
        "outputId": "575dfa50-0ab0-48cf-e9b5-2295f49e4dd1"
      },
      "source": [
        "cross_freq = pd.crosstab(df['VB07010'], df['VB01001'],\r\n",
        "                         rownames=['Você já sofreu bullying?'],\r\n",
        "                         colnames=['Qual é o seu sexo?'])\r\n",
        "cross_freq.rename(columns={1 : 'Masculino', 2 : 'Feminino'}, inplace=True)\r\n",
        "cross_freq.rename(index={\r\n",
        "    1\t: 'Sim',\r\n",
        "    2\t: 'Não',\r\n",
        "    3\t: 'Não sei o que é bullying',\r\n",
        "    99 : 'Não informado'}, inplace=True)\r\n",
        "cross_freq"
      ],
      "execution_count": null,
      "outputs": [
        {
          "output_type": "execute_result",
          "data": {
            "text/html": [
              "<div>\n",
              "<style scoped>\n",
              "    .dataframe tbody tr th:only-of-type {\n",
              "        vertical-align: middle;\n",
              "    }\n",
              "\n",
              "    .dataframe tbody tr th {\n",
              "        vertical-align: top;\n",
              "    }\n",
              "\n",
              "    .dataframe thead th {\n",
              "        text-align: right;\n",
              "    }\n",
              "</style>\n",
              "<table border=\"1\" class=\"dataframe\">\n",
              "  <thead>\n",
              "    <tr style=\"text-align: right;\">\n",
              "      <th>Qual é o seu sexo?</th>\n",
              "      <th>Masculino</th>\n",
              "      <th>Feminino</th>\n",
              "    </tr>\n",
              "    <tr>\n",
              "      <th>Você já sofreu bullying?</th>\n",
              "      <th></th>\n",
              "      <th></th>\n",
              "    </tr>\n",
              "  </thead>\n",
              "  <tbody>\n",
              "    <tr>\n",
              "      <th>Sim</th>\n",
              "      <td>3650</td>\n",
              "      <td>3934</td>\n",
              "    </tr>\n",
              "    <tr>\n",
              "      <th>Não</th>\n",
              "      <td>4378</td>\n",
              "      <td>4155</td>\n",
              "    </tr>\n",
              "    <tr>\n",
              "      <th>Não sei o que é bullying</th>\n",
              "      <td>227</td>\n",
              "      <td>160</td>\n",
              "    </tr>\n",
              "    <tr>\n",
              "      <th>Não informado</th>\n",
              "      <td>32</td>\n",
              "      <td>20</td>\n",
              "    </tr>\n",
              "  </tbody>\n",
              "</table>\n",
              "</div>"
            ],
            "text/plain": [
              "Qual é o seu sexo?        Masculino  Feminino\n",
              "Você já sofreu bullying?                     \n",
              "Sim                            3650      3934\n",
              "Não                            4378      4155\n",
              "Não sei o que é bullying        227       160\n",
              "Não informado                    32        20"
            ]
          },
          "metadata": {
            "tags": []
          },
          "execution_count": 34
        }
      ]
    },
    {
      "cell_type": "code",
      "metadata": {
        "colab": {
          "base_uri": "https://localhost:8080/"
        },
        "id": "dNxEcc5QvDJV",
        "outputId": "2df90810-6de2-4d68-e388-5012656e03e5"
      },
      "source": [
        "cross_freq = pd.crosstab(df['VB07010'], df['VB01001'],\r\n",
        "                         rownames=['Você já sofreu bullying?'],\r\n",
        "                         colnames=['Qual é o seu sexo?'],\r\n",
        "                         values=df['IMC'], aggfunc='mean')\r\n",
        "cross_freq.rename(columns={1 : 'Masculino', 2 : 'Feminino'}, inplace=True)\r\n",
        "cross_freq.rename(index={\r\n",
        "    1\t: 'Sim',\r\n",
        "    2\t: 'Não',\r\n",
        "    3\t: 'Não sei o que é bullying',\r\n",
        "    99 : 'Não informado'}, inplace=True)\r\n",
        "cross_freq"
      ],
      "execution_count": null,
      "outputs": [
        {
          "output_type": "execute_result",
          "data": {
            "text/html": [
              "<div>\n",
              "<style scoped>\n",
              "    .dataframe tbody tr th:only-of-type {\n",
              "        vertical-align: middle;\n",
              "    }\n",
              "\n",
              "    .dataframe tbody tr th {\n",
              "        vertical-align: top;\n",
              "    }\n",
              "\n",
              "    .dataframe thead th {\n",
              "        text-align: right;\n",
              "    }\n",
              "</style>\n",
              "<table border=\"1\" class=\"dataframe\">\n",
              "  <thead>\n",
              "    <tr style=\"text-align: right;\">\n",
              "      <th>Qual é o seu sexo?</th>\n",
              "      <th>Masculino</th>\n",
              "      <th>Feminino</th>\n",
              "    </tr>\n",
              "    <tr>\n",
              "      <th>Você já sofreu bullying?</th>\n",
              "      <th></th>\n",
              "      <th></th>\n",
              "    </tr>\n",
              "  </thead>\n",
              "  <tbody>\n",
              "    <tr>\n",
              "      <th>Sim</th>\n",
              "      <td>21.222677</td>\n",
              "      <td>21.456524</td>\n",
              "    </tr>\n",
              "    <tr>\n",
              "      <th>Não</th>\n",
              "      <td>20.537438</td>\n",
              "      <td>20.778654</td>\n",
              "    </tr>\n",
              "    <tr>\n",
              "      <th>Não sei o que é bullying</th>\n",
              "      <td>20.093492</td>\n",
              "      <td>20.469833</td>\n",
              "    </tr>\n",
              "    <tr>\n",
              "      <th>Não informado</th>\n",
              "      <td>19.825445</td>\n",
              "      <td>19.653441</td>\n",
              "    </tr>\n",
              "  </tbody>\n",
              "</table>\n",
              "</div>"
            ],
            "text/plain": [
              "Qual é o seu sexo?        Masculino   Feminino\n",
              "Você já sofreu bullying?                      \n",
              "Sim                       21.222677  21.456524\n",
              "Não                       20.537438  20.778654\n",
              "Não sei o que é bullying  20.093492  20.469833\n",
              "Não informado             19.825445  19.653441"
            ]
          },
          "metadata": {
            "tags": []
          },
          "execution_count": 35
        }
      ]
    },
    {
      "cell_type": "markdown",
      "metadata": {
        "id": "C3hFN1_vfleP"
      },
      "source": [
        "## 04. Histograma e Boxplot"
      ]
    },
    {
      "cell_type": "code",
      "metadata": {
        "colab": {
          "base_uri": "https://localhost:8080/"
        },
        "id": "5UEWVYLslNU3",
        "outputId": "2dba77e6-6700-4deb-e283-dadf89103ce6"
      },
      "source": [
        "ax = sns.histplot(x='VB17004', data=df, kde=True)\r\n",
        "ax.figure.set_size_inches(12, 6)\r\n",
        "ax.set_title('Distribuição de frequência')\r\n",
        "ax.set_xlabel('Altura')\r\n",
        "ax;"
      ],
      "execution_count": null,
      "outputs": [
        {
          "output_type": "display_data",
          "data": {
            "image/png": "[encoded data removed]",
            "text/plain": [
              "<Figure size 864x432 with 1 Axes>"
            ]
          },
          "metadata": {
            "tags": [],
            "needs_background": "light"
          }
        }
      ]
    },
    {
      "cell_type": "code",
      "metadata": {
        "colab": {
          "base_uri": "https://localhost:8080/"
        },
        "id": "eYHvcLLhm1DF",
        "outputId": "ec23395f-9838-4007-f817-05fa6ba9bbfa"
      },
      "source": [
        "ax = sns.histplot(x='VB17004', data=df, kde=True, hue='VB01001')\r\n",
        "ax.figure.set_size_inches(12, 6)\r\n",
        "ax.set_title('Distribuição de frequência')\r\n",
        "ax.set_xlabel('Altura')\r\n",
        "ax;"
      ],
      "execution_count": null,
      "outputs": [
        {
          "output_type": "display_data",
          "data": {
            "image/png": "[encoded data removed]",
            "text/plain": [
              "<Figure size 864x432 with 1 Axes>"
            ]
          },
          "metadata": {
            "tags": [],
            "needs_background": "light"
          }
        }
      ]
    },
    {
      "cell_type": "code",
      "metadata": {
        "colab": {
          "base_uri": "https://localhost:8080/"
        },
        "id": "jPdv70SQndgk",
        "outputId": "27114cb7-eedc-49d4-9446-077575af412c"
      },
      "source": [
        "ax = sns.histplot(x='VB17004', data=df, kde=True, hue='VB01003')\r\n",
        "ax.figure.set_size_inches(12, 6)\r\n",
        "ax.set_title('Distribuição de frequência')\r\n",
        "ax.set_xlabel('Altura')\r\n",
        "ax;"
      ],
      "execution_count": null,
      "outputs": [
        {
          "output_type": "display_data",
          "data": {
            "image/png": "[encoded data removed]",
            "text/plain": [
              "<Figure size 864x432 with 1 Axes>"
            ]
          },
          "metadata": {
            "tags": [],
            "needs_background": "light"
          }
        }
      ]
    },
    {
      "cell_type": "code",
      "metadata": {
        "colab": {
          "base_uri": "https://localhost:8080/"
        },
        "id": "2MsOBL1OvC2v",
        "outputId": "cfe51ecc-ab1e-4620-cada-3604e67d2d8f"
      },
      "source": [
        "ax = sns.boxplot(df['VB17004'])\r\n",
        "ax.figure.set_size_inches(12, 6)\r\n",
        "ax.set_title('Boxplot da altura')\r\n",
        "ax.set_xlabel('Altura')\r\n",
        "ax;"
      ],
      "execution_count": null,
      "outputs": [
        {
          "output_type": "stream",
          "text": [
            "/usr/local/lib/python3.6/dist-packages/seaborn/_decorators.py:43: FutureWarning: Pass the following variable as a keyword arg: x. From version 0.12, the only valid positional argument will be `data`, and passing other arguments without an explicit keyword will result in an error or misinterpretation.\n",
            "  FutureWarning\n"
          ],
          "name": "stderr"
        },
        {
          "output_type": "display_data",
          "data": {
            "image/png": "[encoded data removed]",
            "text/plain": [
              "<Figure size 864x432 with 1 Axes>"
            ]
          },
          "metadata": {
            "tags": [],
            "needs_background": "light"
          }
        }
      ]
    },
    {
      "cell_type": "code",
      "metadata": {
        "colab": {
          "base_uri": "https://localhost:8080/"
        },
        "id": "5erNhDZMxBP4",
        "outputId": "c011410e-3352-4f53-bcfe-a680c4e9e4e1"
      },
      "source": [
        "df['VB17004'].quantile(0.75)"
      ],
      "execution_count": null,
      "outputs": [
        {
          "output_type": "execute_result",
          "data": {
            "text/plain": [
              "167.9"
            ]
          },
          "metadata": {
            "tags": []
          },
          "execution_count": 40
        }
      ]
    },
    {
      "cell_type": "code",
      "metadata": {
        "colab": {
          "base_uri": "https://localhost:8080/"
        },
        "id": "KFRcTuYxxBSP",
        "outputId": "04b4ff8d-89b7-45cb-e5aa-11b32cc4ce66"
      },
      "source": [
        "df['VB17004'].max()"
      ],
      "execution_count": null,
      "outputs": [
        {
          "output_type": "execute_result",
          "data": {
            "text/plain": [
              "195.3"
            ]
          },
          "metadata": {
            "tags": []
          },
          "execution_count": 41
        }
      ]
    },
    {
      "cell_type": "code",
      "metadata": {
        "colab": {
          "base_uri": "https://localhost:8080/"
        },
        "id": "VM1CrmNXxYN6",
        "outputId": "34626746-3399-4546-d64f-2bc496f0fc50"
      },
      "source": [
        "ax = sns.boxplot(x='VB17004', y='VB01001', orient='h', data=df)\r\n",
        "ax.figure.set_size_inches(12, 6)\r\n",
        "ax.set_title('Boxplot da altura')\r\n",
        "ax.set_xlabel('Altura')\r\n",
        "ax.set_ylabel('Sexo')\r\n",
        "ax;"
      ],
      "execution_count": null,
      "outputs": [
        {
          "output_type": "display_data",
          "data": {
            "image/png": "[encoded data removed]",
            "text/plain": [
              "<Figure size 864x432 with 1 Axes>"
            ]
          },
          "metadata": {
            "tags": [],
            "needs_background": "light"
          }
        }
      ]
    },
    {
      "cell_type": "code",
      "metadata": {
        "colab": {
          "base_uri": "https://localhost:8080/"
        },
        "id": "4nlE9n91yeyj",
        "outputId": "cfaa06dc-3885-4439-a306-0bce8fa90071"
      },
      "source": [
        "ax = sns.boxplot(x='VB01003', y='VB17004', data=df)\r\n",
        "ax.figure.set_size_inches(12, 6)\r\n",
        "ax.set_title('Boxplot da altura por idade')\r\n",
        "ax.set_xlabel('Idade')\r\n",
        "ax;"
      ],
      "execution_count": null,
      "outputs": [
        {
          "output_type": "display_data",
          "data": {
            "image/png": "[encoded data removed]",
            "text/plain": [
              "<Figure size 864x432 with 1 Axes>"
            ]
          },
          "metadata": {
            "tags": [],
            "needs_background": "light"
          }
        }
      ]
    },
    {
      "cell_type": "code",
      "metadata": {
        "colab": {
          "base_uri": "https://localhost:8080/"
        },
        "id": "YuNw20SNzR_U",
        "outputId": "4486e57c-2c7d-4a1d-a370-70917c45aa3c"
      },
      "source": [
        "ax = sns.boxplot(x='VB01003', y='VB17004', hue='VB01001', data=df)\r\n",
        "ax.figure.set_size_inches(12, 6)\r\n",
        "ax.set_title('Boxplot da altura por idade')\r\n",
        "ax.set_xlabel('Idade')\r\n",
        "ax.set_ylabel('Altura')\r\n",
        "ax;"
      ],
      "execution_count": null,
      "outputs": [
        {
          "output_type": "display_data",
          "data": {
            "image/png": "[encoded data removed]",
            "text/plain": [
              "<Figure size 864x432 with 1 Axes>"
            ]
          },
          "metadata": {
            "tags": [],
            "needs_background": "light"
          }
        }
      ]
    },
    {
      "cell_type": "code",
      "metadata": {
        "colab": {
          "base_uri": "https://localhost:8080/"
        },
        "id": "0IB-SKYk0fil",
        "outputId": "f0ce4119-505a-425e-b450-1711af3b93a5"
      },
      "source": [
        "ax = sns.histplot(x='VB17004', data=df, kde=True, \r\n",
        "                  cumulative=True, stat='density',\r\n",
        "                  bins=15)\r\n",
        "ax.figure.set_size_inches(12, 6)\r\n",
        "ax.set_title('Histograma Acumulado')\r\n",
        "ax.set_xlabel('Altura')\r\n",
        "ax;"
      ],
      "execution_count": null,
      "outputs": [
        {
          "output_type": "display_data",
          "data": {
            "image/png": "[encoded data removed]",
            "text/plain": [
              "<Figure size 864x432 with 1 Axes>"
            ]
          },
          "metadata": {
            "tags": [],
            "needs_background": "light"
          }
        }
      ]
    },
    {
      "cell_type": "markdown",
      "metadata": {
        "id": "p0G3EhmroBou"
      },
      "source": [
        "### Desafio 01 - Calcular o desvio padrão, média, moda e mediana e plotar no gráfico de histograma."
      ]
    },
    {
      "cell_type": "code",
      "metadata": {
        "colab": {
          "base_uri": "https://localhost:8080/"
        },
        "id": "ZgOi9pTNoS56",
        "outputId": "fcbd54d7-4d51-4251-be21-9787a99c7d9e"
      },
      "source": [
        "wanted_info = [df['VB17004'].std(), df['VB17004'].mean(), \r\n",
        "               stats.mode(df['VB17004'])[0][0], df['VB17004'].median()]\r\n",
        "wanted_info_index = ['desvio_padrao', 'media', 'moda', 'mediana']\r\n",
        "pd.DataFrame(wanted_info, index=wanted_info_index, columns=['altura'])"
      ],
      "execution_count": null,
      "outputs": [
        {
          "output_type": "execute_result",
          "data": {
            "text/html": [
              "<div>\n",
              "<style scoped>\n",
              "    .dataframe tbody tr th:only-of-type {\n",
              "        vertical-align: middle;\n",
              "    }\n",
              "\n",
              "    .dataframe tbody tr th {\n",
              "        vertical-align: top;\n",
              "    }\n",
              "\n",
              "    .dataframe thead th {\n",
              "        text-align: right;\n",
              "    }\n",
              "</style>\n",
              "<table border=\"1\" class=\"dataframe\">\n",
              "  <thead>\n",
              "    <tr style=\"text-align: right;\">\n",
              "      <th></th>\n",
              "      <th>altura</th>\n",
              "    </tr>\n",
              "  </thead>\n",
              "  <tbody>\n",
              "    <tr>\n",
              "      <th>desvio_padrao</th>\n",
              "      <td>10.340070</td>\n",
              "    </tr>\n",
              "    <tr>\n",
              "      <th>media</th>\n",
              "      <td>160.713113</td>\n",
              "    </tr>\n",
              "    <tr>\n",
              "      <th>moda</th>\n",
              "      <td>160.000000</td>\n",
              "    </tr>\n",
              "    <tr>\n",
              "      <th>mediana</th>\n",
              "      <td>160.400000</td>\n",
              "    </tr>\n",
              "  </tbody>\n",
              "</table>\n",
              "</div>"
            ],
            "text/plain": [
              "                   altura\n",
              "desvio_padrao   10.340070\n",
              "media          160.713113\n",
              "moda           160.000000\n",
              "mediana        160.400000"
            ]
          },
          "metadata": {
            "tags": []
          },
          "execution_count": 46
        }
      ]
    },
    {
      "cell_type": "code",
      "metadata": {
        "colab": {
          "base_uri": "https://localhost:8080/"
        },
        "id": "yZFWGNhgq8NL",
        "outputId": "4cbc6f75-d51f-415b-e8a9-628fae4a6d25"
      },
      "source": [
        "ax = sns.histplot(x='VB17004', data=df, kde=True)\r\n",
        "ax.figure.set_size_inches(12, 6)\r\n",
        "ax.set_title('Distribuição de frequência')\r\n",
        "ax.set_xlabel('Altura')\r\n",
        "plt.axvline(x=df['VB17004'].mean(), color='r', label='Média')\r\n",
        "plt.axvline(x=stats.mode(df['VB17004'])[0][0], color='b', label='Moda')\r\n",
        "plt.axvline(x=df['VB17004'].median(), color='g', label='Mediana')\r\n",
        "plt.axvline(x=df['VB17004'].mean() - df['VB17004'].std(), color='y', \r\n",
        "            label='Desvio padrão')\r\n",
        "plt.axvline(x=df['VB17004'].mean() + df['VB17004'].std(), color='y')\r\n",
        "plt.legend()\r\n",
        "ax;"
      ],
      "execution_count": null,
      "outputs": [
        {
          "output_type": "display_data",
          "data": {
            "image/png": "[encoded data removed]",
            "text/plain": [
              "<Figure size 864x432 with 1 Axes>"
            ]
          },
          "metadata": {
            "tags": [],
            "needs_background": "light"
          }
        }
      ]
    },
    {
      "cell_type": "markdown",
      "metadata": {
        "id": "2XMXVM_2oEJS"
      },
      "source": [
        "### Desafio 02 - Fazer a análise com o histograma para outras informações da base de dados."
      ]
    },
    {
      "cell_type": "code",
      "metadata": {
        "colab": {
          "base_uri": "https://localhost:8080/"
        },
        "id": "aUSs_2Zkt7Bv",
        "outputId": "9d880f09-91c5-4000-d4a3-5f3278d7eeb7"
      },
      "source": [
        "ax = sns.histplot(x='VB17003', data=df, kde=True)\r\n",
        "ax.figure.set_size_inches(12, 6)\r\n",
        "ax.set_title('Distribuição de frequência')\r\n",
        "ax.set_xlabel('Peso')\r\n",
        "plt.axvline(x=df['VB17003'].mean(), color='r', label='Média')\r\n",
        "plt.axvline(x=stats.mode(df['VB17003'])[0][0], color='b', label='Moda')\r\n",
        "plt.axvline(x=df['VB17003'].median(), color='g', label='Mediana')\r\n",
        "plt.axvline(x=df['VB17003'].mean() - df['VB17003'].std(), color='y', \r\n",
        "            label='Desvio padrão')\r\n",
        "plt.axvline(x=df['VB17003'].mean() + df['VB17003'].std(), color='y')\r\n",
        "plt.legend()\r\n",
        "ax;"
      ],
      "execution_count": null,
      "outputs": [
        {
          "output_type": "display_data",
          "data": {
            "image/png": "[encoded data removed]",
            "text/plain": [
              "<Figure size 864x432 with 1 Axes>"
            ]
          },
          "metadata": {
            "tags": [],
            "needs_background": "light"
          }
        }
      ]
    },
    {
      "cell_type": "markdown",
      "metadata": {
        "id": "vJXt1_IsoDcd"
      },
      "source": [
        "### Desafio 03 - **Pesquisar como é determinado os outliers no boxplot do seaborn. Calcular na mão utilizando a função .quantile()"
      ]
    },
    {
      "cell_type": "markdown",
      "metadata": {
        "id": "sDAHkeEO2crp"
      },
      "source": [
        "- **Limite Inferior** = Primeiro Quartil – 1,5 * (Terceiro Quartil – Primeiro Quartil)\r\n",
        "\r\n",
        "- **Limite Superior** = Terceiro Quartil + 1,5 * (Terceiro Quartil – Primeiro Quartil)"
      ]
    },
    {
      "cell_type": "code",
      "metadata": {
        "colab": {
          "base_uri": "https://localhost:8080/"
        },
        "id": "Q5g_xZR82pDJ",
        "outputId": "dc1007ea-a44a-41a9-8680-6b1b5932744e"
      },
      "source": [
        "inf_lim = df['VB17004'].quantile(0.25) - 1.5 * (df['VB17004'].quantile(0.75) - df['VB17004'].quantile(0.25))\r\n",
        "upp_lim = df['VB17004'].quantile(0.75) + 1.5 * (df['VB17004'].quantile(0.75) - df['VB17004'].quantile(0.25))\r\n",
        "\r\n",
        "print(f'Limite inferior: {inf_lim}\\nLimite superior: {upp_lim}')"
      ],
      "execution_count": null,
      "outputs": [
        {
          "output_type": "stream",
          "text": [
            "Limite inferior: 132.65000000000003\n",
            "Limite superior: 189.05\n"
          ],
          "name": "stdout"
        }
      ]
    },
    {
      "cell_type": "markdown",
      "metadata": {
        "id": "rYDIHGYSFeut"
      },
      "source": [
        "## 05. Medida de centralidade e dispersão"
      ]
    },
    {
      "cell_type": "code",
      "metadata": {
        "colab": {
          "base_uri": "https://localhost:8080/"
        },
        "id": "xJU3roDZGU1Z",
        "outputId": "8388d555-813d-47a2-e228-997bca39aa13"
      },
      "source": [
        "df['VB17004'].mode()"
      ],
      "execution_count": null,
      "outputs": [
        {
          "output_type": "execute_result",
          "data": {
            "text/plain": [
              "0    160.0\n",
              "dtype: float64"
            ]
          },
          "metadata": {
            "tags": []
          },
          "execution_count": 50
        }
      ]
    },
    {
      "cell_type": "code",
      "metadata": {
        "colab": {
          "base_uri": "https://localhost:8080/"
        },
        "id": "hwF6qBHtFOEI",
        "outputId": "1f3499a9-39db-42f1-88ef-a0129a2bedcc"
      },
      "source": [
        "df['VB17004'].mean()"
      ],
      "execution_count": null,
      "outputs": [
        {
          "output_type": "execute_result",
          "data": {
            "text/plain": [
              "160.71311307078818"
            ]
          },
          "metadata": {
            "tags": []
          },
          "execution_count": 51
        }
      ]
    },
    {
      "cell_type": "code",
      "metadata": {
        "colab": {
          "base_uri": "https://localhost:8080/"
        },
        "id": "Qyz713OFFu3u",
        "outputId": "71bed30f-d38d-4a33-bce7-f284222aa7c9"
      },
      "source": [
        "df.groupby('VB01001')['VB17004'].mean()"
      ],
      "execution_count": null,
      "outputs": [
        {
          "output_type": "execute_result",
          "data": {
            "text/plain": [
              "VB01001\n",
              "1    163.860758\n",
              "2    157.558617\n",
              "Name: VB17004, dtype: float64"
            ]
          },
          "metadata": {
            "tags": []
          },
          "execution_count": 52
        }
      ]
    },
    {
      "cell_type": "code",
      "metadata": {
        "colab": {
          "base_uri": "https://localhost:8080/"
        },
        "id": "7yExlELbGcqj",
        "outputId": "52902923-4ce9-4740-d124-cbed53aadd62"
      },
      "source": [
        "df.groupby(['VB01001', 'VB01003'])['VB17004'].mean()"
      ],
      "execution_count": null,
      "outputs": [
        {
          "output_type": "execute_result",
          "data": {
            "text/plain": [
              "VB01001  VB01003\n",
              "1        11         147.617753\n",
              "         12         153.696764\n",
              "         13         160.719801\n",
              "         14         166.406922\n",
              "         15         170.336297\n",
              "         16         172.424933\n",
              "         17         173.814341\n",
              "         18         173.024561\n",
              "         19         172.143158\n",
              "2        11         149.522512\n",
              "         12         154.965021\n",
              "         13         157.673105\n",
              "         14         159.340320\n",
              "         15         160.759848\n",
              "         16         160.386527\n",
              "         17         160.907937\n",
              "         18         159.438462\n",
              "         19         158.977193\n",
              "Name: VB17004, dtype: float64"
            ]
          },
          "metadata": {
            "tags": []
          },
          "execution_count": 53
        }
      ]
    },
    {
      "cell_type": "code",
      "metadata": {
        "colab": {
          "base_uri": "https://localhost:8080/"
        },
        "id": "xh8Ow1_snszr",
        "outputId": "d5801fc6-efbb-4818-a974-dd45355a63dc"
      },
      "source": [
        "height_mean = df['VB17004'].mean()\r\n",
        "df['MEDIA_ALTURA'] = height_mean\r\n",
        "\r\n",
        "mean_difference = df['VB17004'] - height_mean\r\n",
        "df['DIFERENCA_MEDIA'] = mean_difference\r\n",
        "\r\n",
        "difference_squared = mean_difference ** 2\r\n",
        "df['DIFERENCA_QUADRADO'] = difference_squared\r\n",
        "\r\n",
        "df[['VB17004', 'MEDIA_ALTURA', 'DIFERENCA_MEDIA', 'DIFERENCA_QUADRADO']]"
      ],
      "execution_count": null,
      "outputs": [
        {
          "output_type": "execute_result",
          "data": {
            "text/html": [
              "<div>\n",
              "<style scoped>\n",
              "    .dataframe tbody tr th:only-of-type {\n",
              "        vertical-align: middle;\n",
              "    }\n",
              "\n",
              "    .dataframe tbody tr th {\n",
              "        vertical-align: top;\n",
              "    }\n",
              "\n",
              "    .dataframe thead th {\n",
              "        text-align: right;\n",
              "    }\n",
              "</style>\n",
              "<table border=\"1\" class=\"dataframe\">\n",
              "  <thead>\n",
              "    <tr style=\"text-align: right;\">\n",
              "      <th></th>\n",
              "      <th>VB17004</th>\n",
              "      <th>MEDIA_ALTURA</th>\n",
              "      <th>DIFERENCA_MEDIA</th>\n",
              "      <th>DIFERENCA_QUADRADO</th>\n",
              "    </tr>\n",
              "  </thead>\n",
              "  <tbody>\n",
              "    <tr>\n",
              "      <th>0</th>\n",
              "      <td>157.0</td>\n",
              "      <td>160.713113</td>\n",
              "      <td>-3.713113</td>\n",
              "      <td>13.787209</td>\n",
              "    </tr>\n",
              "    <tr>\n",
              "      <th>1</th>\n",
              "      <td>152.0</td>\n",
              "      <td>160.713113</td>\n",
              "      <td>-8.713113</td>\n",
              "      <td>75.918339</td>\n",
              "    </tr>\n",
              "    <tr>\n",
              "      <th>2</th>\n",
              "      <td>161.4</td>\n",
              "      <td>160.713113</td>\n",
              "      <td>0.686887</td>\n",
              "      <td>0.471814</td>\n",
              "    </tr>\n",
              "    <tr>\n",
              "      <th>3</th>\n",
              "      <td>172.5</td>\n",
              "      <td>160.713113</td>\n",
              "      <td>11.786887</td>\n",
              "      <td>138.930703</td>\n",
              "    </tr>\n",
              "    <tr>\n",
              "      <th>4</th>\n",
              "      <td>167.5</td>\n",
              "      <td>160.713113</td>\n",
              "      <td>6.786887</td>\n",
              "      <td>46.061834</td>\n",
              "    </tr>\n",
              "    <tr>\n",
              "      <th>...</th>\n",
              "      <td>...</td>\n",
              "      <td>...</td>\n",
              "      <td>...</td>\n",
              "      <td>...</td>\n",
              "    </tr>\n",
              "    <tr>\n",
              "      <th>16551</th>\n",
              "      <td>167.9</td>\n",
              "      <td>160.713113</td>\n",
              "      <td>7.186887</td>\n",
              "      <td>51.651344</td>\n",
              "    </tr>\n",
              "    <tr>\n",
              "      <th>16552</th>\n",
              "      <td>185.8</td>\n",
              "      <td>160.713113</td>\n",
              "      <td>25.086887</td>\n",
              "      <td>629.351896</td>\n",
              "    </tr>\n",
              "    <tr>\n",
              "      <th>16553</th>\n",
              "      <td>159.4</td>\n",
              "      <td>160.713113</td>\n",
              "      <td>-1.313113</td>\n",
              "      <td>1.724266</td>\n",
              "    </tr>\n",
              "    <tr>\n",
              "      <th>16554</th>\n",
              "      <td>157.8</td>\n",
              "      <td>160.713113</td>\n",
              "      <td>-2.913113</td>\n",
              "      <td>8.486228</td>\n",
              "    </tr>\n",
              "    <tr>\n",
              "      <th>16555</th>\n",
              "      <td>163.9</td>\n",
              "      <td>160.713113</td>\n",
              "      <td>3.186887</td>\n",
              "      <td>10.156248</td>\n",
              "    </tr>\n",
              "  </tbody>\n",
              "</table>\n",
              "<p>16556 rows × 4 columns</p>\n",
              "</div>"
            ],
            "text/plain": [
              "       VB17004  MEDIA_ALTURA  DIFERENCA_MEDIA  DIFERENCA_QUADRADO\n",
              "0        157.0    160.713113        -3.713113           13.787209\n",
              "1        152.0    160.713113        -8.713113           75.918339\n",
              "2        161.4    160.713113         0.686887            0.471814\n",
              "3        172.5    160.713113        11.786887          138.930703\n",
              "4        167.5    160.713113         6.786887           46.061834\n",
              "...        ...           ...              ...                 ...\n",
              "16551    167.9    160.713113         7.186887           51.651344\n",
              "16552    185.8    160.713113        25.086887          629.351896\n",
              "16553    159.4    160.713113        -1.313113            1.724266\n",
              "16554    157.8    160.713113        -2.913113            8.486228\n",
              "16555    163.9    160.713113         3.186887           10.156248\n",
              "\n",
              "[16556 rows x 4 columns]"
            ]
          },
          "metadata": {
            "tags": []
          },
          "execution_count": 54
        }
      ]
    },
    {
      "cell_type": "code",
      "metadata": {
        "colab": {
          "base_uri": "https://localhost:8080/"
        },
        "id": "YTs_lHDVqhX0",
        "outputId": "946a0c19-7700-44e4-9678-7fa8d512315b"
      },
      "source": [
        "sample_variance = difference_squared.sum() / (len(df) - 1)\r\n",
        "sample_variance"
      ],
      "execution_count": null,
      "outputs": [
        {
          "output_type": "execute_result",
          "data": {
            "text/plain": [
              "106.91705244049119"
            ]
          },
          "metadata": {
            "tags": []
          },
          "execution_count": 55
        }
      ]
    },
    {
      "cell_type": "code",
      "metadata": {
        "colab": {
          "base_uri": "https://localhost:8080/"
        },
        "id": "Z9JuL6NFrN_s",
        "outputId": "670ad335-7f43-4eb7-ce76-6de95697d37c"
      },
      "source": [
        "standard_deviation = np.sqrt(sample_variance)\r\n",
        "standard_deviation"
      ],
      "execution_count": null,
      "outputs": [
        {
          "output_type": "execute_result",
          "data": {
            "text/plain": [
              "10.340070233827776"
            ]
          },
          "metadata": {
            "tags": []
          },
          "execution_count": 56
        }
      ]
    },
    {
      "cell_type": "markdown",
      "metadata": {
        "id": "77PeP6yWsDLE"
      },
      "source": [
        "### Desafio 01 -Fazer a descrição de outras variáveis, analisar e compartilhas suas análises no discord."
      ]
    },
    {
      "cell_type": "code",
      "metadata": {
        "colab": {
          "base_uri": "https://localhost:8080/"
        },
        "id": "difAOXPA0ba7",
        "outputId": "c5635b2f-86f1-4731-8558-8a3565500a68"
      },
      "source": [
        "df.groupby(['V0007', 'VB01001'])['VB17003'].mean()"
      ],
      "execution_count": null,
      "outputs": [
        {
          "output_type": "execute_result",
          "data": {
            "text/plain": [
              "V0007  VB01001\n",
              "1      1          56.148355\n",
              "       2          52.640033\n",
              "2      1          58.470331\n",
              "       2          52.805097\n",
              "Name: VB17003, dtype: float64"
            ]
          },
          "metadata": {
            "tags": []
          },
          "execution_count": 57
        }
      ]
    },
    {
      "cell_type": "markdown",
      "metadata": {
        "id": "Ymp9o00p18xE"
      },
      "source": [
        "Temos que as crianças da escola privada (V0007 - item 2) possuem uma média de peso um pouco maior, no caso do sexo masculino (VB01001 - item 2). Já no feminino, a dependência administrativa da escola não é algo que diferencie tanto no peso. Além de que o peso masculino é maior que o feminino, em ambos os tipos escolares."
      ]
    },
    {
      "cell_type": "code",
      "metadata": {
        "colab": {
          "base_uri": "https://localhost:8080/"
        },
        "id": "J7uZIDro2gqX",
        "outputId": "0f6766a0-bb1e-4fe8-b031-56332a27f901"
      },
      "source": [
        "df.groupby(['V0006', 'VB01001'])['VB17003'].mean()"
      ],
      "execution_count": null,
      "outputs": [
        {
          "output_type": "execute_result",
          "data": {
            "text/plain": [
              "V0006  VB01001\n",
              "1      1          57.029994\n",
              "       2          52.863253\n",
              "2      1          51.427876\n",
              "       2          49.113784\n",
              "Name: VB17003, dtype: float64"
            ]
          },
          "metadata": {
            "tags": []
          },
          "execution_count": 58
        }
      ]
    },
    {
      "cell_type": "markdown",
      "metadata": {
        "id": "POz-3Bil2tAK"
      },
      "source": [
        "As crianças das escolas urbanas (V0006 - item 1) apresentam, em média, pesos maiores, comparado com as rurais. Além disso, o sexo masculino apresenta um peso médio maior que o feminino, para os dois tipos de localidade."
      ]
    },
    {
      "cell_type": "markdown",
      "metadata": {
        "id": "CWmttQ54sEsz"
      },
      "source": [
        "### Desafio 02 - Fazer o calculo da média por sexo e idade, através do crosstab."
      ]
    },
    {
      "cell_type": "code",
      "metadata": {
        "colab": {
          "base_uri": "https://localhost:8080/"
        },
        "id": "U5JZK12s3YP0",
        "outputId": "6cf2f544-8992-4987-c4d8-13ca4582ed3b"
      },
      "source": [
        "cross_height_mean = pd.crosstab(df['VB01003'], df['VB01001'], \r\n",
        "                                values=df['VB17004'], aggfunc='mean', \r\n",
        "                                rownames=['Idade'], colnames=['Sexo'])\r\n",
        "cross_height_mean.rename(columns={1 : 'Masculino', 2 : 'Feminino'},\r\n",
        "                         inplace=True)\r\n",
        "cross_height_mean"
      ],
      "execution_count": null,
      "outputs": [
        {
          "output_type": "execute_result",
          "data": {
            "text/html": [
              "<div>\n",
              "<style scoped>\n",
              "    .dataframe tbody tr th:only-of-type {\n",
              "        vertical-align: middle;\n",
              "    }\n",
              "\n",
              "    .dataframe tbody tr th {\n",
              "        vertical-align: top;\n",
              "    }\n",
              "\n",
              "    .dataframe thead th {\n",
              "        text-align: right;\n",
              "    }\n",
              "</style>\n",
              "<table border=\"1\" class=\"dataframe\">\n",
              "  <thead>\n",
              "    <tr style=\"text-align: right;\">\n",
              "      <th>Sexo</th>\n",
              "      <th>Masculino</th>\n",
              "      <th>Feminino</th>\n",
              "    </tr>\n",
              "    <tr>\n",
              "      <th>Idade</th>\n",
              "      <th></th>\n",
              "      <th></th>\n",
              "    </tr>\n",
              "  </thead>\n",
              "  <tbody>\n",
              "    <tr>\n",
              "      <th>11</th>\n",
              "      <td>147.617753</td>\n",
              "      <td>149.522512</td>\n",
              "    </tr>\n",
              "    <tr>\n",
              "      <th>12</th>\n",
              "      <td>153.696764</td>\n",
              "      <td>154.965021</td>\n",
              "    </tr>\n",
              "    <tr>\n",
              "      <th>13</th>\n",
              "      <td>160.719801</td>\n",
              "      <td>157.673105</td>\n",
              "    </tr>\n",
              "    <tr>\n",
              "      <th>14</th>\n",
              "      <td>166.406922</td>\n",
              "      <td>159.340320</td>\n",
              "    </tr>\n",
              "    <tr>\n",
              "      <th>15</th>\n",
              "      <td>170.336297</td>\n",
              "      <td>160.759848</td>\n",
              "    </tr>\n",
              "    <tr>\n",
              "      <th>16</th>\n",
              "      <td>172.424933</td>\n",
              "      <td>160.386527</td>\n",
              "    </tr>\n",
              "    <tr>\n",
              "      <th>17</th>\n",
              "      <td>173.814341</td>\n",
              "      <td>160.907937</td>\n",
              "    </tr>\n",
              "    <tr>\n",
              "      <th>18</th>\n",
              "      <td>173.024561</td>\n",
              "      <td>159.438462</td>\n",
              "    </tr>\n",
              "    <tr>\n",
              "      <th>19</th>\n",
              "      <td>172.143158</td>\n",
              "      <td>158.977193</td>\n",
              "    </tr>\n",
              "  </tbody>\n",
              "</table>\n",
              "</div>"
            ],
            "text/plain": [
              "Sexo    Masculino    Feminino\n",
              "Idade                        \n",
              "11     147.617753  149.522512\n",
              "12     153.696764  154.965021\n",
              "13     160.719801  157.673105\n",
              "14     166.406922  159.340320\n",
              "15     170.336297  160.759848\n",
              "16     172.424933  160.386527\n",
              "17     173.814341  160.907937\n",
              "18     173.024561  159.438462\n",
              "19     172.143158  158.977193"
            ]
          },
          "metadata": {
            "tags": []
          },
          "execution_count": 59
        }
      ]
    },
    {
      "cell_type": "markdown",
      "metadata": {
        "id": "W4XYRsSEsHzV"
      },
      "source": [
        "### Super-desafio 01: Criar um dicionário para facilitar a busca da pergunta."
      ]
    },
    {
      "cell_type": "code",
      "metadata": {
        "id": "aWMguRIj53oh"
      },
      "source": [
        "dict_path_in_drive = '/content/drive/MyDrive/Alura Bootcamp DS/Módulo 3/PeNSE_2015_AMOSTRA2/Dicionario_PENSE_Microdados_AMOSTRA2.xls'"
      ],
      "execution_count": null,
      "outputs": []
    },
    {
      "cell_type": "code",
      "metadata": {
        "colab": {
          "base_uri": "https://localhost:8080/"
        },
        "id": "fFqP9z-A68Yr",
        "outputId": "9a8e2fbe-b633-4bd4-b0a9-0cec38fbb6f7"
      },
      "source": [
        "df_dictionary = pd.read_excel(dict_path_in_drive, sheet_name='AMOSTRA2_ALUNO')\r\n",
        "df_dictionary"
      ],
      "execution_count": null,
      "outputs": [
        {
          "output_type": "execute_result",
          "data": {
            "text/html": [
              "<div>\n",
              "<style scoped>\n",
              "    .dataframe tbody tr th:only-of-type {\n",
              "        vertical-align: middle;\n",
              "    }\n",
              "\n",
              "    .dataframe tbody tr th {\n",
              "        vertical-align: top;\n",
              "    }\n",
              "\n",
              "    .dataframe thead th {\n",
              "        text-align: right;\n",
              "    }\n",
              "</style>\n",
              "<table border=\"1\" class=\"dataframe\">\n",
              "  <thead>\n",
              "    <tr style=\"text-align: right;\">\n",
              "      <th></th>\n",
              "      <th>VARIÁVEL</th>\n",
              "      <th>QUESTIONÁRIO DO ALUNO</th>\n",
              "    </tr>\n",
              "  </thead>\n",
              "  <tbody>\n",
              "    <tr>\n",
              "      <th>0</th>\n",
              "      <td>ANOPESQ</td>\n",
              "      <td>Ano em que a pesquisa foi realizada</td>\n",
              "    </tr>\n",
              "    <tr>\n",
              "      <th>1</th>\n",
              "      <td>PAIS</td>\n",
              "      <td>País</td>\n",
              "    </tr>\n",
              "    <tr>\n",
              "      <th>2</th>\n",
              "      <td>76</td>\n",
              "      <td>Brasil</td>\n",
              "    </tr>\n",
              "    <tr>\n",
              "      <th>3</th>\n",
              "      <td>REGEOGR</td>\n",
              "      <td>Região geográfica</td>\n",
              "    </tr>\n",
              "    <tr>\n",
              "      <th>4</th>\n",
              "      <td>1</td>\n",
              "      <td>Norte</td>\n",
              "    </tr>\n",
              "    <tr>\n",
              "      <th>...</th>\n",
              "      <td>...</td>\n",
              "      <td>...</td>\n",
              "    </tr>\n",
              "    <tr>\n",
              "      <th>1213</th>\n",
              "      <td>3</td>\n",
              "      <td>Confessional</td>\n",
              "    </tr>\n",
              "    <tr>\n",
              "      <th>1214</th>\n",
              "      <td>4</td>\n",
              "      <td>Filantrópica</td>\n",
              "    </tr>\n",
              "    <tr>\n",
              "      <th>1215</th>\n",
              "      <td>aluno</td>\n",
              "      <td>contador de aluno</td>\n",
              "    </tr>\n",
              "    <tr>\n",
              "      <th>1216</th>\n",
              "      <td>escola</td>\n",
              "      <td>UPA (unidade primária de amostragem)</td>\n",
              "    </tr>\n",
              "    <tr>\n",
              "      <th>1217</th>\n",
              "      <td>turma</td>\n",
              "      <td>USA (unidade secundária de amostragem)</td>\n",
              "    </tr>\n",
              "  </tbody>\n",
              "</table>\n",
              "<p>1218 rows × 2 columns</p>\n",
              "</div>"
            ],
            "text/plain": [
              "     VARIÁVEL                   QUESTIONÁRIO DO ALUNO\n",
              "0     ANOPESQ     Ano em que a pesquisa foi realizada\n",
              "1        PAIS                                    País\n",
              "2          76                                  Brasil\n",
              "3     REGEOGR                       Região geográfica\n",
              "4           1                                   Norte\n",
              "...       ...                                     ...\n",
              "1213        3                            Confessional\n",
              "1214        4                            Filantrópica\n",
              "1215    aluno                       contador de aluno\n",
              "1216   escola    UPA (unidade primária de amostragem)\n",
              "1217    turma  USA (unidade secundária de amostragem)\n",
              "\n",
              "[1218 rows x 2 columns]"
            ]
          },
          "metadata": {
            "tags": []
          },
          "execution_count": 61
        }
      ]
    },
    {
      "cell_type": "code",
      "metadata": {
        "colab": {
          "base_uri": "https://localhost:8080/"
        },
        "id": "VKO6jF0aCbe2",
        "outputId": "66fd90b1-d33e-457a-91e7-94c881a31a73"
      },
      "source": [
        "dict_pense = {}\r\n",
        "for i in range(len(df_dictionary)):\r\n",
        "  try:\r\n",
        "    int(df_dictionary.iloc[i, 0])\r\n",
        "  except ValueError:\r\n",
        "    dict_pense[df_dictionary.iloc[i, 0]] = df_dictionary.iloc[i, 1]\r\n",
        "\r\n",
        "dict_pense.pop('0 a 2999')\r\n",
        "dict_pense"
      ],
      "execution_count": null,
      "outputs": [
        {
          "output_type": "execute_result",
          "data": {
            "text/plain": [
              "{'ANOPESQ': 'Ano em que a pesquisa foi realizada',\n",
              " 'ESTRATOGEOREG': 'Indicador de estrato georeg',\n",
              " 'ESTRATO_EXP': 'Expressão do estrato',\n",
              " 'PAIS': 'País',\n",
              " 'PESO': 'Peso do aluno de acordo com a amostra, utilizado para expansão',\n",
              " 'REGEOGR': 'Região geográfica',\n",
              " 'TEMPODESLOC': 'Refere-se ao tempo médio diário acumulado pelo escolar, com o deslocamento da casa para escola e da escola para casa feito a pé ou de bicicleta, nos últimos sete dias anteriores à pesquisa. Em minutos.',\n",
              " 'TEMPOEDFIS': 'Refere-se ao tempo médio acumulado, nos últimos sete dias anteriores à pesquisa, que o escolar fez atividade física ou esporte durante as aulas de educação física na escola. Em minutos.',\n",
              " 'TEMPOEST': 'A atividade física globalmente estimada refere-se ao número de dias que os escolares declararam fazer, pelo menos, uma hora por dia de atividade física, nos sete dias anteriores à pesquisa. Em minutos.',\n",
              " 'TEMPOEXTRA': 'Refere-se ao tempo médio diário acumulado pelo escolar com a prática de alguma atividade física extraescolar como esportes, dança, ginástica, musculação, lutas ou outra atividade, nos últimos sete dias anteriores à data da pesquisa. Em minutos',\n",
              " 'TEMPOTOTAL': 'A atividade física acumulada foi estimada calculando o produto entre o número de dias e o tempo médio que os escolares gastam em atividades físicas, nos sete dias anteriores à pesquisa, considerando os seguintes domínios: ir e voltar da escola, aulas de educação física e outras atividades extraescolares. Em minutos.',\n",
              " 'V0006': 'Situação da escola',\n",
              " 'V0007': 'Dependência Administrativa da escola',\n",
              " 'V0008': 'Esfera Administrativa da escola',\n",
              " 'V0041': 'Tipo de escola privada',\n",
              " 'VB00004': 'Prezado(a) estudante, você concorda em participar dessa pesquisa?',\n",
              " 'VB01001': 'Qual é o seu sexo?',\n",
              " 'VB01002': 'Qual é a sua cor ou raça?',\n",
              " 'VB01003': 'Qual é a sua idade?',\n",
              " 'VB01004': 'Qual é o mês do seu aniversário?',\n",
              " 'VB01005': 'Em que ano você nasceu?',\n",
              " 'VB01006': 'Você mora com sua mãe?',\n",
              " 'VB01007': 'Você mora com seu pai?',\n",
              " 'VB01008A': 'Qual nível de ensino (grau) sua mãe estudou ou estuda?',\n",
              " 'VB01010A': 'Contando com você, quantas pessoas moram na sua casa ou apartamento?',\n",
              " 'VB01011': 'Você tem algum trabalho, emprego ou negócio atualmente?',\n",
              " 'VB01012': 'Você recebe dinheiro por este trabalho, emprego ou negócio?',\n",
              " 'VB01013': 'Na sua casa tem telefone fixo (convencional)?',\n",
              " 'VB01014': 'Você tem celular?',\n",
              " 'VB01015A': 'Na sua casa tem computador (de mesa, ou netbook, laptop, etc)?',\n",
              " 'VB01016': 'Você tem acesso à internet em sua casa?',\n",
              " 'VB01017': 'Alguém que mora na sua casa tem carro?',\n",
              " 'VB01018': 'Alguém que mora na sua casa tem moto?',\n",
              " 'VB01019': 'Quantos banheiros com chuveiro têm dentro da sua casa?',\n",
              " 'VB01020A': 'Tem empregado(a) doméstico(a) recebendo dinheiro para fazer o trabalho em sua casa, três ou mais dias por semana?',\n",
              " 'VB01021': 'Em que ano/série você está?',\n",
              " 'VB01022': 'Em que turno você estuda?',\n",
              " 'VB01023': 'Você estuda em regime integral (tem atividades escolares por 7 horas ou mais horas diárias, durante todo o período escolar)?',\n",
              " 'VB01024': 'Você estuda em regime de internato (a escola possui alojamento onde os alunos permanecem e dormem diariamente, durante todo o período escolar)?',\n",
              " 'VB01025': 'Qual o grau de escolaridade mais elevado que você pretendo concluir?',\n",
              " 'VB01026': 'Quando terminar o ciclo/curso que você está frequentando atualmente, você pretende?',\n",
              " 'VB02001': 'NOS ÚLTIMOS 7 DIAS, em quantos dias você comeu feijão?',\n",
              " 'VB02002': 'NOS ÚLTIMOS 7 DIAS, em quantos dias você comeu salgados fritos? Exemplo: batata frita (sem contar a batata de pacote) ou salgados fritos como coxinha de galinha, quibe frito, pastel frito, acarajé etc.',\n",
              " 'VB02004A': 'NOS ÚLTIMOS 7 DIAS, em quantos dias você comeu pelo menos um tipo de legume ou verdura? Exemplos: alface, abóbora, brócolis, cebola, cenoura, chuchu, couve, espinafre, pepino, tomate etc. Não inclua batata e aipim (mandioca/macaxeira).',\n",
              " 'VB02010': 'NOS ÚLTIMOS 7 DIAS, em quantos dias você comeu guloseimas (doces, balas, chocolates, chicletes, bombons ou pirulitos)?',\n",
              " 'VB02011': 'NOS ÚLTIMOS 7 DIAS, em quantos dias você comeu frutas frescas ou salada de frutas? ',\n",
              " 'VB02013': 'NOS ÚLTIMOS 7 DIAS, em quantos dias você tomou refrigerante?',\n",
              " 'VB02017A': 'Você costuma almoçar ou jantar com sua mãe, pai ou responsável? ',\n",
              " 'VB02018A': 'Você costuma comer quando está assistindo à TV ou estudando?',\n",
              " 'VB02019A': 'Você costuma tomar o café da manhã?',\n",
              " 'VB02020A': 'Você costuma comer a comida (merenda/almoço) oferecida pela escola? (Não considerar lanches/comida comprados na cantina).',\n",
              " 'VB02021': 'Sua escola oferece comida (merenda escolar/almoço) aos alunos da sua turma? (Não considerar lanches/comida comprados na cantina)',\n",
              " 'VB02022': 'NOS ÚLTIMOS 7 DIAS, em quantos dias você comeu alimentos industrializados/ultraprocessados salgados, como hambúrguer, presunto, mortadela, salame, linguiça, salsicha, macarrão instantâneo, salgadinho de pacote, biscoitos salgados?',\n",
              " 'VB02023': 'NOS ÚLTIMOS 7 DIAS, em quantos dias você comeu em restaurantes fast food, tais como lanchonetes, barracas de cachorro quentes, pizzaria etc?',\n",
              " 'VB02024': 'NOS ÚLTIMOS 30 DIAS, com que frequência você ficou com fome por não ter comida suficiente em sua casa?',\n",
              " 'VB02025': 'NOS ÚLTIMOS 30 DIAS, quantas vezes por dia você normalmente comeu frutas frescas ou salada de frutas?',\n",
              " 'VB02026': 'NOS ÚLTIMOS 30 DIAS, quantas vezes por dia você normalmente comeu legumes ou verduras, tais como alface, abóbora, brócolis, cebola, cenoura, chuchu, couve, espinafre, pepino, tomate etc? Não inclua batata e aipim (mandioca/macaxeira)',\n",
              " 'VB02027': 'NOS ÚLTIMOS 30 DIAS, quantas vezes por dia você tomou refrigerante?',\n",
              " 'VB03001A1': 'NOS ÚLTIMOS 7 DIAS, em quantos dias você FOI a pé ou de bicicleta para a escola?',\n",
              " 'VB03001A2': 'NOS ÚLTIMOS 7 DIAS, em quantos dias você VOLTOU a pé ou de bicicleta da escola?',\n",
              " 'VB03002A1': 'Quando você VAI para a escola a pé ou de bicicleta, quanto tempo você gasta?',\n",
              " 'VB03002A2': 'Quando você VOLTA da escola a pé ou de bicicleta, quanto tempo você gasta?',\n",
              " 'VB03003A': 'NOS ÚLTIMOS 7 DIAS, quantos dias você teve aulas de educação física na escola?',\n",
              " 'VB03005A': 'NOS ÚLTIMOS 7 DIAS, quanto tempo por dia você fez atividade física ou esporte durante as aulas de educação física na escola?',\n",
              " 'VB03006A': 'NOS ÚLTIMOS 7 DIAS, sem contar as aulas de educação física da escola, em quantos dias você praticou alguma atividade física, como esportes, dança, ginástica, musculação, lutas ou outra atividade?',\n",
              " 'VB03007': 'NORMALMENTE, quanto tempo por dia duram essas atividades (como esportes, dança, ginástica, musculação, lutas ou outra atividade) que você faz? (Sem contar as aulas de educação física)',\n",
              " 'VB03008': 'Se você tivesse oportunidade de fazer atividade física na maioria dos dias da semana, qual seria a sua atitude?',\n",
              " 'VB03009A': 'Em um dia de semana comum, quantas horas por dia você assiste a TV? (não contar sábado, domingo e feriado)',\n",
              " 'VB03010A': 'Em um dia de semana comum, quanto tempo você fica sentado(a), assistindo televisão, usando computador, jogando videogame, conversando com amigos(as) ou fazendo outras atividades sentado(a)? (não contar sábado, domingo, feriados e o tempo sentado na escola)',\n",
              " 'VB03011A': 'NOS ÚLTIMOS 7 DIAS, em quantos dias você fez atividade física por pelo menos 60 minutos (1 hora) por dia? (Some todo o tempo que você gastou em qualquer tipo de atividade física EM CADA DIA)',\n",
              " 'VB04001': 'Alguma vez na vida, você já fumou cigarro, mesmo uma ou duas tragadas? ',\n",
              " 'VB04002': 'Que idade você tinha quando experimentou fumar cigarro pela primeira vez?',\n",
              " 'VB04003': 'NOS ÚLTIMOS 30 DIAS, em quantos dias você fumou cigarros?',\n",
              " 'VB04005': 'NOS ÚLTIMOS 7 DIAS, em quantos dias pessoas fumaram na sua presença?',\n",
              " 'VB04006A': 'Algum de seus pais ou responsáveis fuma? ',\n",
              " 'VB04008A': 'NOS ÚLTIMOS 30 DIAS, em quantos dias você usou outros produtos de tabaco: cigarros de palha ou enrolados a mão, charuto, cachimbo, cigarrilha, cigarro indiano ou bali, narguilé, rapé, fumo de mascar etc? (não incluir cigarro comum)',\n",
              " 'VB04009': 'NOS ÚLTIMOS 30 DIAS, em geral, como você conseguiu seus próprios cigarros?',\n",
              " 'VB04010': 'NOS ÚLTIMOS 30 DIAS, alguém se recusou a lhe vender cigarros por causa de sua idade?',\n",
              " 'VB04011': 'Qual outro produto do tabaco você usou com mais frequência NOS ÚLTIMOS 30 DIAS?',\n",
              " 'VB05002': 'Alguma vez na vida você tomou uma dose de bebida alcoólica? (Uma dose equivale a uma lata de cerveja ou uma taça de vinho ou uma dose de cachaça ou uísque etc)',\n",
              " 'VB05003': 'Que idade você tinha quando tomou a primeira dose de bebida alcoólica? (Uma dose equivale a uma lata de cerveja ou uma taça de vinho ou uma dose de cachaça ou uísque etc)',\n",
              " 'VB05004': 'NOS ÚLTIMOS 30 DIAS, em quantos dias você tomou pelo menos um copo ou uma dose de bebida alcoólica? (Uma dose equivale a uma lata de cerveja ou uma taça de vinho ou uma dose de cachaça ou uísque etc)',\n",
              " 'VB05005': 'NOS ÚLTIMOS 30 DIAS, nos dias em que você tomou alguma bebida alcoólica, quantos copos ou doses você tomou por dia? ',\n",
              " 'VB05006A': 'NOS ÚLTIMOS 30 DIAS, na maioria das vezes, como você conseguiu a bebida que tomou?',\n",
              " 'VB05007': 'Na sua vida, quantas vezes você bebeu tanto que ficou realmente bêbado(a)?',\n",
              " 'VB05009': 'Na sua vida, quantas vezes você teve problemas com sua família ou amigos, perdeu aulas ou brigou por que tinha bebido?',\n",
              " 'VB05010': 'Quantos amigos seus consomem bebida alcoólica?',\n",
              " 'VB06001': 'Alguma vez na vida, você já usou alguma droga-como: maconha, cocaína, crack, loló, lança-perfume, ecstasy, oxy, etc?',\n",
              " 'VB06002': 'Que idade você tinha quando usou droga como maconha, cocaína, crack, cola, loló, lança-perfume, ecstasy, oxy ou outra, pela primeira vez?',\n",
              " 'VB06003A': 'NOS ÚLTIMOS 30 DIAS, quantos dias você usou droga como maconha, cocaína, crack, cola, loló, lança-perfume, ecstasy, oxy, etc?',\n",
              " 'VB06004A': 'NOS ÚLTIMOS 30 DIAS, quantos dias você usou maconha? ',\n",
              " 'VB06005A': 'NOS ÚLTIMOS 30 DIAS, quantos dias você usou crack?',\n",
              " 'VB06006': 'Quantos amigos seus usam drogas?',\n",
              " 'VB07001': 'NOS ÚLTIMOS 30 DIAS, em quantos dias você faltou às aulas ou à escola sem permissão dos seus pais ou responsáveis?',\n",
              " 'VB07002': 'NOS ÚLTIMOS 30 DIAS, com que frequência seus pais ou responsáveis sabiam realmente o que você estava fazendo em seu tempo livre?',\n",
              " 'VB07003': 'NOS ÚLTIMOS 30 DIAS, com que frequência seus pais ou responsáveis verificaram se os seus deveres de casa (lição de casa) foram feitos?',\n",
              " 'VB07004': 'NOS ÚLTIMOS 30 DIAS, com que frequência seus pais ou responsáveis entenderam seus problemas e preocupações?',\n",
              " 'VB07005': 'NOS ÚLTIMOS 30 DIAS, com que frequência seus pais ou responsáveis mexeram em suas coisas sem a sua concordância?',\n",
              " 'VB07006': 'NOS ÚLTIMOS 30 DIAS, com que frequência os colegas de sua escola trataram você bem e/ou foram prestativos contigo?',\n",
              " 'VB07007': 'NOS ÚLTIMOS 30 DIAS, com que frequência algum dos seus colegas de escola te esculacharam, zoaram, mangaram, intimidaram ou caçoaram tanto que você ficou magoado, incomodado, aborrecido, ofendido ou humilhado?',\n",
              " 'VB07008': 'NOS ÚLTIMOS 30 DIAS, qual o motivo/causa de seus colegas terem te esculachado, zombado, zoado, caçoado, mangado, intimidado ou humilhado?',\n",
              " 'VB07009': 'NOS ÚLTIMOS 30 DIAS, você esculachou, zombou, mangou, intimidou ou caçoou algum de seus colegas da escola tanto que ele ficou magoado, aborrecido, ofendido ou humilhado?',\n",
              " 'VB07010': 'Você já sofreu bullying?',\n",
              " 'VB08001': 'Você já teve relação sexual (transou) alguma vez?',\n",
              " 'VB08002': 'Que idade você tinha quando teve relação sexual (transou) pela primeira vez?',\n",
              " 'VB08003A': 'Na sua vida, com quantas pessoas você teve relações sexuais (transou)?',\n",
              " 'VB08005': 'Na última vez que você teve relação sexual (transou), você ou seu(sua) parceiro(a) usou algum método para evitar a gravidez e/ou Doenças Sexualmente Transmissíveis (DST)',\n",
              " 'VB08006': 'Na última vez que você teve relação sexual (transou), você ou seu(sua) parceiro(a) usou camisinha (preservativo)?',\n",
              " 'VB08007': 'Na última vez que você teve relação sexual (transou), você ou seu(sua) parceiro(a) usou algum outro método para evitar a gravidez (não contar camisinha)?T)',\n",
              " 'VB08008': 'Na escola, você já recebeu orientação sobre prevenção de gravidez?',\n",
              " 'VB08009': 'Na escola, você já recebeu orientação sobre AIDS ou outras Doenças Sexualmente Transmissíveis (DST)?',\n",
              " 'VB08010': 'Na escola, você já recebeu orientação sobre como conseguir camisinha (preservativo) gratuitamente? ',\n",
              " 'VB08011': 'Você usou preservativo na primeira relação sexual?',\n",
              " 'VB08012': 'Nesta última vez que você teve relação sexual (transou), qual outro método para evitar gravidez você ou sua parceira usou?',\n",
              " 'VB08013': 'Alguma vez na vida você engravidou?',\n",
              " 'VB09001': 'NOS ÚLTIMOS 30 DIAS, em quantos dias você deixou de ir à escola porque não se sentia seguro no caminho de casa para a escola ou da escola para casa?',\n",
              " 'VB09002': 'NOS ÚLTIMOS 30 DIAS, em quantos dias você não foi à escola porque não se sentia seguro na escola?',\n",
              " 'VB09003': 'NOS ÚLTIMOS 30 DIAS, quantas vezes você foi agredido(a) fisicamente por um adulto da sua família?',\n",
              " 'VB09004': 'NOS ÚLTIMOS 30 DIAS, você esteve envolvido(a) em alguma briga em que alguma pessoa usou arma de fogo, como revólver ou espingarda?',\n",
              " 'VB09005': 'NOS ÚLTIMOS 30 DIAS, você esteve envolvido(a) em alguma briga em que alguma pessoa usou alguma outra arma como faca, canivete, peixeira, pedra, pedaço de pau ou garrafa?',\n",
              " 'VB09006A1': 'NOS ÚLTIMOS 30 DIAS, com que frequência você usou cinto de segurança enquanto andava como passageiro(a) no BANCO DA FRENTE de carro/automóvel, van ou táxi?',\n",
              " 'VB09006A2': 'NOS ÚLTIMOS 30 DIAS, com que frequência você usou cinto de segurança enquanto andava como passageiro(a) no BANCO DE TRÁS de carro/automóvel, van ou táxi?',\n",
              " 'VB09007A': 'NOS ÚLTIMOS 30 DIAS, com que frequência você usou capacete ao andar de motocicleta?',\n",
              " 'VB09008': 'NOS ÚLTIMOS 30 DIAS, quantas vezes você dirigiu um veículo motorizado de transporte (carro, motocicleta, voadeira, barco)?',\n",
              " 'VB09009': 'NOS ÚLTIMOS 30 DIAS, quantas vezes você andou em carro ou outro veículo motorizado dirigido por alguém que tinha consumido alguma bebida alcoólica?',\n",
              " 'VB09010': 'NOS ÚLTIMOS 12 MESES, quantas vezes você foi agredido(a) fisicamente?',\n",
              " 'VB09011': 'NOS ÚLTIMOS 12 MESES, quantas vezes você se envolveu em briga (uma luta física)?',\n",
              " 'VB09012': 'NOS ÚLTIMOS 12 MESES, quantas vezes você foi seriamente ferido(a)?',\n",
              " 'VB09013A': 'NOS ÚLTIMOS 12 MESES, qual foi o ferimento ou a lesão mais séria que aconteceu com você?',\n",
              " 'VB09014A': 'NOS ÚLTIMOS 12 MESES, qual foi a principal causa do ferimento ou da lesão mais séria que aconteceu com você?',\n",
              " 'VB09015': 'NOS ÚLTIMOS 12 MESES, você sofreu algum acidente de bicicleta (caiu e se machucou)?',\n",
              " 'VB09016': 'Alguma vez na vida você foi forçado a ter relação sexual? ',\n",
              " 'VB0901701': 'Um(a) namorado(a)/ex-namorado(a) forçou você a ter relação sexual?',\n",
              " 'VB0901702': 'Um(a) amigo(a) forçou você a ter relação sexual?',\n",
              " 'VB0901703': 'Seu pai/mãe/padastro/madrasta forçou você a ter relação sexual?',\n",
              " 'VB0901704': 'Outros familiares forçaram você a ter relação sexual?',\n",
              " 'VB0901705': 'Um(a) desconhecido(a) forçou você a ter relação sexual?',\n",
              " 'VB0901706': 'Outras pessoas forçaram você a ter relação sexual?',\n",
              " 'VB10001A': 'NOS ÚLTIMOS 30 DIAS, quantas vezes por dia você usualmente escovou os dentes?',\n",
              " 'VB10002': 'NOS ÚLTIMOS 6 MESES, você teve dor de dente? (excluir dor de dente causada por uso de aparelho)',\n",
              " 'VB10003': 'NOS ÚLTIMOS 12 MESES, quantas vezes você foi ao dentista?',\n",
              " 'VB10004': 'NOS ÚLTIMOS 30 DIAS, com que frequência você lavou as mãos antes de comer?',\n",
              " 'VB10005': 'NOS ÚLTIMOS 30 DIAS, com que frequência você lavou as mãos após usar o banheiro ou o vaso sanitário?',\n",
              " 'VB10006': 'NOS ÚLTIMOS 30 DIAS, com que frequência você usou sabão ou sabonete quando lavou suas mãos?',\n",
              " 'VB11001': 'Quanto ao seu corpo, você se considera: ',\n",
              " 'VB11002': 'O que você está fazendo em relação a seu peso?',\n",
              " 'VB11003': 'NOS ÚLTIMOS 30 DIAS, você vomitou ou tomou laxantes para perder peso ou evitar ganhar peso? ',\n",
              " 'VB11004A': 'NOS ÚLTIMOS 30 DIAS, você tomou algum remédio, fórmula ou outro produto para perder peso, sem acompanhamento médico?',\n",
              " 'VB11005': 'NOS ÚLTIMOS 30 DIAS, você tomou algum remédio, fórmula ou outro produto para ganhar peso ou massa muscular sem acompanhamento médico? ',\n",
              " 'VB11006': 'Você considera sua imagem corporal como sendo algo:',\n",
              " 'VB11007': 'Como você se sente em relação ao seu corpo?',\n",
              " 'VB12001': 'NOS ÚLTIMOS 12 MESES com que frequência tem se sentido sozinho(a)? ',\n",
              " 'VB12002': 'NOS ÚLTIMOS 12 MESES, com que frequência você não conseguiu dormir à noite porque algo o(a) preocupava muito? ',\n",
              " 'VB12003': 'Quantos amigos(as) próximos você tem?',\n",
              " 'VB13001': 'NOS ÚLTIMOS 12 MESES você procurou algum serviço ou profissional de saúde para atendimento relacionado à própria saúde? ',\n",
              " 'VB13002A': 'NOS ÚLTIMOS 12 MESES, qual foi o serviço de saúde que você procurou com MAIS FREQUÊNCIA?',\n",
              " 'VB13004A': 'Você foi atendido NA ÚLTIMA VEZ que procurou alguma Unidade Básica de Saúde (Centro ou Posto de saúde ou Unidade de Saúde da Família/PSF), NESTES ÚLTIMOS 12 MESES?',\n",
              " 'VB13005': 'Como você classificaria seu estado de saúde?',\n",
              " 'VB13006': 'NOS ÚLTIMOS 12 MESES, quantos dias você faltou a escola por motivo(s) relacionado(s) à sua saúde?',\n",
              " 'VB13007': 'Qual foi o PRINCIPAL MOTIVO da sua procura na Unidade Básica de Saúde (Centro ou Posto de saúde ou Unidade de Saúde da Família/PSF) NESTA ÚLTIMA VEZ?',\n",
              " 'VB13008': 'Você conhece/ouviu falar sobre a campanha de vacinação contra o vírus HPV?',\n",
              " 'VB13009': 'Você foi vacinada contra o vírus HPV?',\n",
              " 'VB14001': 'NOS ÚLTIMOS 12 MESES, você teve chiado (ou piado) no peito? ',\n",
              " 'VB14002': 'Você teve asma alguma vez na vida?',\n",
              " 'VB16001A01': 'Você achou este questionário fácil?',\n",
              " 'VB16001A02': 'Você achou este questionário difícil?',\n",
              " 'VB16001A03': 'Você achou este questionário chato?',\n",
              " 'VB16001A04': 'Você achou este questionário legal?',\n",
              " 'VB16001A05': 'Você achou este questionário interessante?',\n",
              " 'VB16001A06': 'Você achou este questionário informativo?',\n",
              " 'VB16001A07': 'Você achou este questionário cansativo?',\n",
              " 'VB16001A08': 'Você achou este questionário constrangedor?',\n",
              " 'VB17001': 'Qual é o peso do(a) aluno(a)?',\n",
              " 'VB17002': 'Qual é a altura do(a) aluno(a)?',\n",
              " 'VB17003': 'Peso do estudante, incluindo os imputados, com uma casa decimal ',\n",
              " 'VB17004': 'Altura do estudante, incluindo os imputados, com uma casa decimal',\n",
              " 'VB17005': 'Variável identificadora se houve imputação no peso e/ou altura do estudante',\n",
              " 'VB17006': 'Variável identificadora do estado nutricional do estudante, onde: déficit de peso=1',\n",
              " 'aluno': 'contador de aluno',\n",
              " 'escola': 'UPA (unidade primária de amostragem)',\n",
              " 'turma': 'USA (unidade secundária de amostragem)'}"
            ]
          },
          "metadata": {
            "tags": []
          },
          "execution_count": 62
        }
      ]
    },
    {
      "cell_type": "markdown",
      "metadata": {
        "id": "fVfl0EpVsK0Y"
      },
      "source": [
        "### Super-desafio 02: De alguma maniera sumarizar as perguntas para ficar mais curta. NLTK, GESIM..."
      ]
    },
    {
      "cell_type": "markdown",
      "metadata": {
        "id": "JONlnykVEVD7"
      },
      "source": [
        "## 06. Intervalo de confiança e Testes"
      ]
    },
    {
      "cell_type": "code",
      "metadata": {
        "colab": {
          "base_uri": "https://localhost:8080/"
        },
        "id": "lKgrGtB-FyPt",
        "outputId": "66d5cafc-5a5e-4a5f-b348-8f5d416c8a78"
      },
      "source": [
        "zconfint(df['VB17004'].to_list())"
      ],
      "execution_count": null,
      "outputs": [
        {
          "output_type": "execute_result",
          "data": {
            "text/plain": [
              "(160.5556082427712, 160.87061789880892)"
            ]
          },
          "metadata": {
            "tags": []
          },
          "execution_count": 63
        }
      ]
    },
    {
      "cell_type": "code",
      "metadata": {
        "colab": {
          "base_uri": "https://localhost:8080/"
        },
        "id": "MSAp7W0sGWUs",
        "outputId": "c61a0808-ebee-448e-fe3a-5e6edd4360bf"
      },
      "source": [
        "height_description = DescrStatsW(df['VB17004'])\r\n",
        "height_description.tconfint_mean()"
      ],
      "execution_count": null,
      "outputs": [
        {
          "output_type": "execute_result",
          "data": {
            "text/plain": [
              "(160.55559672649298, 160.8706294150872)"
            ]
          },
          "metadata": {
            "tags": []
          },
          "execution_count": 64
        }
      ]
    },
    {
      "cell_type": "code",
      "metadata": {
        "colab": {
          "base_uri": "https://localhost:8080/"
        },
        "id": "Zm7UDRA2G89W",
        "outputId": "027d1986-1afe-44b0-d006-e63b50083071"
      },
      "source": [
        "height_description"
      ],
      "execution_count": null,
      "outputs": [
        {
          "output_type": "execute_result",
          "data": {
            "text/plain": [
              "<statsmodels.stats.weightstats.DescrStatsW at 0x7efc47056f28>"
            ]
          },
          "metadata": {
            "tags": []
          },
          "execution_count": 65
        }
      ]
    },
    {
      "cell_type": "code",
      "metadata": {
        "colab": {
          "base_uri": "https://localhost:8080/"
        },
        "id": "luueWKT7yQQl",
        "outputId": "52aae04e-db39-4853-8796-9e62b61d0212"
      },
      "source": [
        "sns.boxplot(x='VB01001', y='VB17004', data=df);"
      ],
      "execution_count": null,
      "outputs": [
        {
          "output_type": "display_data",
          "data": {
            "image/png": "[encoded data removed]",
            "text/plain": [
              "<Figure size 432x288 with 1 Axes>"
            ]
          },
          "metadata": {
            "tags": [],
            "needs_background": "light"
          }
        }
      ]
    },
    {
      "cell_type": "markdown",
      "metadata": {
        "id": "oKVlfYlH0ZRm"
      },
      "source": [
        "$H_0$: média populacional das alturas masculinas == média populacional das alturas femininas;\r\n",
        "\r\n",
        "$H_1$: média populacional das alturas masculinas != média populacional das alturas femininas."
      ]
    },
    {
      "cell_type": "code",
      "metadata": {
        "colab": {
          "base_uri": "https://localhost:8080/"
        },
        "id": "rDGbyXmLylih",
        "outputId": "65c8604a-31d5-4112-90fb-ccd2e6e9a7f3"
      },
      "source": [
        "m_height_dist = df.query('VB01001 == 1')['VB17004']\r\n",
        "f_height_dist = df.query('VB01001 == 2')['VB17004']\r\n",
        "\r\n",
        "ztest(m_height_dist, f_height_dist)"
      ],
      "execution_count": null,
      "outputs": [
        {
          "output_type": "execute_result",
          "data": {
            "text/plain": [
              "(41.16851708819389, 0.0)"
            ]
          },
          "metadata": {
            "tags": []
          },
          "execution_count": 67
        }
      ]
    },
    {
      "cell_type": "code",
      "metadata": {
        "colab": {
          "base_uri": "https://localhost:8080/"
        },
        "id": "7GRXy3DJzqYL",
        "outputId": "69947e94-1a6b-4a25-e310-b1a0411cb3c1"
      },
      "source": [
        "_ , p_value = ztest(m_height_dist, f_height_dist)\r\n",
        "p_value"
      ],
      "execution_count": null,
      "outputs": [
        {
          "output_type": "execute_result",
          "data": {
            "text/plain": [
              "0.0"
            ]
          },
          "metadata": {
            "tags": []
          },
          "execution_count": 68
        }
      ]
    },
    {
      "cell_type": "markdown",
      "metadata": {
        "id": "1E8tzyY44T6l"
      },
      "source": [
        "Sendo assim, rejeitamos a hipótese nula, ou seja, as médias populacionais entre os 2 sexos são diferentes. Certo?"
      ]
    },
    {
      "cell_type": "markdown",
      "metadata": {
        "id": "VTosxeR5D0nK"
      },
      "source": [
        "Observação: o Z-test assume 2 premissas:\r\n",
        "- O tamanho da amostra deve ser maior que 30;\r\n",
        "- As amostras a serem comparadas devem se aproximar de uma normal."
      ]
    },
    {
      "cell_type": "markdown",
      "metadata": {
        "id": "_67BaXOgGjrk"
      },
      "source": [
        "Verifiquemos essas condições então (Recomenda-se fazer essa verificação antes de aplicarmos o Z-test)."
      ]
    },
    {
      "cell_type": "code",
      "metadata": {
        "colab": {
          "base_uri": "https://localhost:8080/"
        },
        "id": "YuLW6sxY3zWX",
        "outputId": "8ec434f6-ad73-4abf-c6c3-246c202e85bb"
      },
      "source": [
        "print(len(df.query('VB01001 == 1')), len(df.query('VB01001 == 2')))"
      ],
      "execution_count": null,
      "outputs": [
        {
          "output_type": "stream",
          "text": [
            "8287 8269\n"
          ],
          "name": "stdout"
        }
      ]
    },
    {
      "cell_type": "code",
      "metadata": {
        "colab": {
          "base_uri": "https://localhost:8080/"
        },
        "id": "xTuyKUsZGc3p",
        "outputId": "a1f7fbc7-292e-4bff-b9b0-bc27a903ca65"
      },
      "source": [
        "_ , p_value_normal_test_m = normaltest(m_height_dist)\r\n",
        "_ , p_value_normal_test_f = normaltest(f_height_dist)\r\n",
        "\r\n",
        "print(p_value_normal_test_m)\r\n",
        "print(p_value_normal_test_f)"
      ],
      "execution_count": null,
      "outputs": [
        {
          "output_type": "stream",
          "text": [
            "7.695118853996524e-75\n",
            "7.125189471020874e-47\n"
          ],
          "name": "stdout"
        }
      ]
    },
    {
      "cell_type": "markdown",
      "metadata": {
        "id": "3Q8_6uly4Im0"
      },
      "source": [
        "Como o p-value é um valor menor que 0.05 nos dois sexos, então rejeitamos a nossa hipótese nula, ou seja, a hipótese das amostras serem normais. \r\n",
        "\r\n",
        "Logo, o Z-test não é uma boa prática, e assim, temos que usar testes não-paramétricos.\r\n",
        "\r\n",
        "Um desses testes é o \"rank sums\" (Wilcoxon Rank Sums), em que avalia, a partir de amostras independentes, se as duas distribuições são provenientes da mesma distribuição.\r\n"
      ]
    },
    {
      "cell_type": "markdown",
      "metadata": {
        "id": "Fk36GV6aPMvc"
      },
      "source": [
        "$H_0$: as duas distribuições são provenientes da mesma distribuição;\r\n",
        "\r\n",
        "$H_1$: os valores em uma amostra são mais prováveis ​​de serem maiores do que os valores na outra amostra."
      ]
    },
    {
      "cell_type": "code",
      "metadata": {
        "colab": {
          "base_uri": "https://localhost:8080/"
        },
        "id": "rvsUR_NKPxmy",
        "outputId": "0f677773-0bae-429e-e8a7-35698d5ff3ab"
      },
      "source": [
        "ranksums(m_height_dist, f_height_dist)"
      ],
      "execution_count": null,
      "outputs": [
        {
          "output_type": "execute_result",
          "data": {
            "text/plain": [
              "RanksumsResult(statistic=40.7525576033863, pvalue=0.0)"
            ]
          },
          "metadata": {
            "tags": []
          },
          "execution_count": 71
        }
      ]
    },
    {
      "cell_type": "markdown",
      "metadata": {
        "id": "bAlWEEBSQOc2"
      },
      "source": [
        "Como o p-value é um valor abaixo de 0.05, então rejeitamos a hipótese nula, ou seja, os valores na amostra do sexo masculino são maiores que na do sexo feminino."
      ]
    },
    {
      "cell_type": "markdown",
      "metadata": {
        "id": "FHWxq4gEdZDd"
      },
      "source": [
        "### Desafio 1: Estudar as medidas de dispersão e calcular utilizando o pandas, realizar os calculos para as outras colunas numéricas."
      ]
    },
    {
      "cell_type": "code",
      "metadata": {
        "colab": {
          "base_uri": "https://localhost:8080/"
        },
        "id": "ipAZZzThKBh6",
        "outputId": "4435bdb6-3c92-47b1-f8fb-e5ef88694155"
      },
      "source": [
        "wanted_df = df[['VB17003', 'VB17004', 'IMC']].rename(columns={'VB17003':'peso',\r\n",
        "                                                              'VB17004':'altura'})\r\n",
        "wanted_df.head()"
      ],
      "execution_count": null,
      "outputs": [
        {
          "output_type": "execute_result",
          "data": {
            "text/html": [
              "<div>\n",
              "<style scoped>\n",
              "    .dataframe tbody tr th:only-of-type {\n",
              "        vertical-align: middle;\n",
              "    }\n",
              "\n",
              "    .dataframe tbody tr th {\n",
              "        vertical-align: top;\n",
              "    }\n",
              "\n",
              "    .dataframe thead th {\n",
              "        text-align: right;\n",
              "    }\n",
              "</style>\n",
              "<table border=\"1\" class=\"dataframe\">\n",
              "  <thead>\n",
              "    <tr style=\"text-align: right;\">\n",
              "      <th></th>\n",
              "      <th>peso</th>\n",
              "      <th>altura</th>\n",
              "      <th>IMC</th>\n",
              "    </tr>\n",
              "  </thead>\n",
              "  <tbody>\n",
              "    <tr>\n",
              "      <th>0</th>\n",
              "      <td>37.1</td>\n",
              "      <td>157.0</td>\n",
              "      <td>15.051321</td>\n",
              "    </tr>\n",
              "    <tr>\n",
              "      <th>1</th>\n",
              "      <td>50.2</td>\n",
              "      <td>152.0</td>\n",
              "      <td>21.727839</td>\n",
              "    </tr>\n",
              "    <tr>\n",
              "      <th>2</th>\n",
              "      <td>48.2</td>\n",
              "      <td>161.4</td>\n",
              "      <td>18.502907</td>\n",
              "    </tr>\n",
              "    <tr>\n",
              "      <th>3</th>\n",
              "      <td>69.4</td>\n",
              "      <td>172.5</td>\n",
              "      <td>23.322831</td>\n",
              "    </tr>\n",
              "    <tr>\n",
              "      <th>4</th>\n",
              "      <td>78.9</td>\n",
              "      <td>167.5</td>\n",
              "      <td>28.122076</td>\n",
              "    </tr>\n",
              "  </tbody>\n",
              "</table>\n",
              "</div>"
            ],
            "text/plain": [
              "   peso  altura        IMC\n",
              "0  37.1   157.0  15.051321\n",
              "1  50.2   152.0  21.727839\n",
              "2  48.2   161.4  18.502907\n",
              "3  69.4   172.5  23.322831\n",
              "4  78.9   167.5  28.122076"
            ]
          },
          "metadata": {
            "tags": []
          },
          "execution_count": 72
        }
      ]
    },
    {
      "cell_type": "code",
      "metadata": {
        "colab": {
          "base_uri": "https://localhost:8080/"
        },
        "id": "UltZPPZgMqsL",
        "outputId": "da4503b0-04dc-4b77-8062-1af96e7e3492"
      },
      "source": [
        "wanted_columns = ['peso', 'IMC']\r\n",
        "for column in wanted_columns:\r\n",
        "  print('----------------------------------------------------')\r\n",
        "  print(f'Amplitude do {column}: {wanted_df[column].max() - wanted_df[column].min()}')\r\n",
        "  print('----------------------------------------------------')\r\n",
        "  print(f'Desvio médio absoluto do {column}: {wanted_df[column].mad()}')\r\n",
        "  print('----------------------------------------------------')\r\n",
        "  print(f'Variância do {column}: {wanted_df[column].var()}')\r\n",
        "  print('----------------------------------------------------')\r\n",
        "  print(f'Desvio padrão do {column}: {wanted_df[column].std()}')\r\n",
        "  print('----------------------------------------------------\\n\\n')"
      ],
      "execution_count": null,
      "outputs": [
        {
          "output_type": "stream",
          "text": [
            "----------------------------------------------------\n",
            "Amplitude do peso: 170.7\n",
            "----------------------------------------------------\n",
            "Desvio médio absoluto do peso: 10.986241387923256\n",
            "----------------------------------------------------\n",
            "Variância do peso: 211.64035060768379\n",
            "----------------------------------------------------\n",
            "Desvio padrão do peso: 14.547864125282576\n",
            "----------------------------------------------------\n",
            "\n",
            "\n",
            "----------------------------------------------------\n",
            "Amplitude do IMC: 57.081729376005875\n",
            "----------------------------------------------------\n",
            "Desvio médio absoluto do IMC: 3.18584316077019\n",
            "----------------------------------------------------\n",
            "Variância do IMC: 18.015283128347697\n",
            "----------------------------------------------------\n",
            "Desvio padrão do IMC: 4.244441438911331\n",
            "----------------------------------------------------\n",
            "\n",
            "\n"
          ],
          "name": "stdout"
        }
      ]
    },
    {
      "cell_type": "markdown",
      "metadata": {
        "id": "RR0_goBhdcUt"
      },
      "source": [
        "### Desafio 2: Ler e pesquisar sobre o que é intervalo de confiança, nível de confiança e o que é significância."
      ]
    },
    {
      "cell_type": "markdown",
      "metadata": {
        "id": "nNrtBAT1dfqj"
      },
      "source": [
        "### Desafio 3: Plotar o intervalo de confiança no histograma das alturas."
      ]
    },
    {
      "cell_type": "code",
      "metadata": {
        "id": "O13GkoFIRY76"
      },
      "source": [
        "inf_std_lim, upp_std_lim = zconfint(df['VB17004'].to_list())"
      ],
      "execution_count": null,
      "outputs": []
    },
    {
      "cell_type": "code",
      "metadata": {
        "colab": {
          "base_uri": "https://localhost:8080/"
        },
        "id": "nzjewatMSBl3",
        "outputId": "02bb982f-1bb3-49b7-fec5-7ca02483ed34"
      },
      "source": [
        "ax = sns.histplot(x='VB17004', data=df, kde=True)\r\n",
        "ax.figure.set_size_inches(12, 6)\r\n",
        "ax.set_title('Distribuição de frequência')\r\n",
        "ax.set_xlabel('Altura')\r\n",
        "plt.axvline(x=inf_std_lim, color='r')\r\n",
        "plt.axvline(x=upp_std_lim, color='r')\r\n",
        "ax;"
      ],
      "execution_count": null,
      "outputs": [
        {
          "output_type": "display_data",
          "data": {
            "image/png": "[encoded data removed]",
            "text/plain": [
              "<Figure size 864x432 with 1 Axes>"
            ]
          },
          "metadata": {
            "tags": [],
            "needs_background": "light"
          }
        }
      ]
    },
    {
      "cell_type": "markdown",
      "metadata": {
        "id": "OAwYyrNOdh_O"
      },
      "source": [
        "### Desafio 4: Realizar os testes de hipóteses de outras informações, explorando e enriquecendo a análise dos dados."
      ]
    }
  ]
}