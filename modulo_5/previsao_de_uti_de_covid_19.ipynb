{
  "nbformat": 4,
  "nbformat_minor": 0,
  "metadata": {
    "kernelspec": {
      "display_name": "Python 3",
      "language": "python",
      "name": "python3"
    },
    "language_info": {
      "codemirror_mode": {
        "name": "ipython",
        "version": 3
      },
      "file_extension": ".py",
      "mimetype": "text/x-python",
      "name": "python",
      "nbconvert_exporter": "python",
      "pygments_lexer": "ipython3",
      "version": "3.7.6"
    },
    "papermill": {
      "duration": 30.561101,
      "end_time": "2021-01-30T23:01:49.416246",
      "environment_variables": {},
      "exception": null,
      "input_path": "__notebook__.ipynb",
      "output_path": "__notebook__.ipynb",
      "parameters": {},
      "start_time": "2021-01-30T23:01:18.855145",
      "version": "2.1.0"
    },
    "colab": {
      "name": "previsao-de-uti-de-covid-19.ipynb",
      "provenance": [],
      "include_colab_link": true
    }
  },
  "cells": [
    {
      "cell_type": "markdown",
      "metadata": {
        "id": "view-in-github",
        "colab_type": "text"
      },
      "source": [
        "<a href=\"https://colab.research.google.com/github/Emersonmiady/bootcamp-alura-ds/blob/main/modulo_5/previsao_de_uti_de_covid_19.ipynb\" target=\"_parent\"><img src=\"https://colab.research.google.com/assets/colab-badge.svg\" alt=\"Open In Colab\"/></a>"
      ]
    },
    {
      "cell_type": "markdown",
      "metadata": {
        "papermill": {
          "duration": 0.060108,
          "end_time": "2021-01-30T23:01:24.488489",
          "exception": false,
          "start_time": "2021-01-30T23:01:24.428381",
          "status": "completed"
        },
        "tags": [],
        "id": "wpuU86XgobQP"
      },
      "source": [
        "# Módulo 5"
      ]
    },
    {
      "cell_type": "markdown",
      "metadata": {
        "papermill": {
          "duration": 0.057831,
          "end_time": "2021-01-30T23:01:24.605197",
          "exception": false,
          "start_time": "2021-01-30T23:01:24.547366",
          "status": "completed"
        },
        "tags": [],
        "id": "uJsfqDnIobQX"
      },
      "source": [
        "## 01. Machine Learning e Saúde"
      ]
    },
    {
      "cell_type": "markdown",
      "metadata": {
        "papermill": {
          "duration": 0.057716,
          "end_time": "2021-01-30T23:01:24.721379",
          "exception": false,
          "start_time": "2021-01-30T23:01:24.663663",
          "status": "completed"
        },
        "tags": [],
        "id": "btPqIpcVobQY"
      },
      "source": [
        "### Desafio 01: Se você não conhece o Kaggle, explore um pouco os datasets, competições e discussões para verificar o quão rico é esta plataforma."
      ]
    },
    {
      "cell_type": "markdown",
      "metadata": {
        "papermill": {
          "duration": 0.058742,
          "end_time": "2021-01-30T23:01:24.838450",
          "exception": false,
          "start_time": "2021-01-30T23:01:24.779708",
          "status": "completed"
        },
        "tags": [],
        "id": "iQtDIavFobQZ"
      },
      "source": [
        "### Desafio 02: Leia a descrição do problema proposta pelo Sírio Libanês, tentando entender qual é o real problema. Antes de continuar para as próximas aulas, debata no Discord suas conclusões sobre o projeto."
      ]
    },
    {
      "cell_type": "markdown",
      "metadata": {
        "papermill": {
          "duration": 0.038563,
          "end_time": "2021-01-30T23:01:24.915757",
          "exception": false,
          "start_time": "2021-01-30T23:01:24.877194",
          "status": "completed"
        },
        "tags": [],
        "id": "fLdZhLiOobQZ"
      },
      "source": [
        "* ## 02. Desenvolvimento no Kaggle"
      ]
    },
    {
      "cell_type": "code",
      "metadata": {
        "_cell_guid": "b1076dfc-b9ad-4769-8c92-a6c4dae69d19",
        "_uuid": "8f2839f25d086af736a60e9eeb907d3b93b6e0e5",
        "execution": {
          "iopub.execute_input": "2021-01-30T23:01:25.001387Z",
          "iopub.status.busy": "2021-01-30T23:01:25.000478Z",
          "iopub.status.idle": "2021-01-30T23:01:25.022656Z",
          "shell.execute_reply": "2021-01-30T23:01:25.021814Z"
        },
        "papermill": {
          "duration": 0.068928,
          "end_time": "2021-01-30T23:01:25.022781",
          "exception": false,
          "start_time": "2021-01-30T23:01:24.953853",
          "status": "completed"
        },
        "tags": [],
        "id": "91n0HA5yobQZ",
        "outputId": "e879521c-2ac3-41d8-f0c7-1fe588b9bb83"
      },
      "source": [
        "import os\n",
        "for dirname, _, filenames in os.walk('/kaggle/input'):\n",
        "    for filename in filenames:\n",
        "        print(os.path.join(dirname, filename))"
      ],
      "execution_count": null,
      "outputs": [
        {
          "output_type": "stream",
          "text": [
            "/kaggle/input/covid19/Kaggle_Sirio_Libanes_ICU_Prediction.xlsx\n"
          ],
          "name": "stdout"
        }
      ]
    },
    {
      "cell_type": "code",
      "metadata": {
        "execution": {
          "iopub.execute_input": "2021-01-30T23:01:25.147026Z",
          "iopub.status.busy": "2021-01-30T23:01:25.146182Z",
          "iopub.status.idle": "2021-01-30T23:01:25.148415Z",
          "shell.execute_reply": "2021-01-30T23:01:25.149122Z"
        },
        "papermill": {
          "duration": 0.066894,
          "end_time": "2021-01-30T23:01:25.149313",
          "exception": false,
          "start_time": "2021-01-30T23:01:25.082419",
          "status": "completed"
        },
        "tags": [],
        "id": "9538p6F7obQb"
      },
      "source": [
        "import pandas as pd"
      ],
      "execution_count": null,
      "outputs": []
    },
    {
      "cell_type": "code",
      "metadata": {
        "execution": {
          "iopub.execute_input": "2021-01-30T23:01:25.272188Z",
          "iopub.status.busy": "2021-01-30T23:01:25.271424Z",
          "iopub.status.idle": "2021-01-30T23:01:29.376168Z",
          "shell.execute_reply": "2021-01-30T23:01:29.376883Z"
        },
        "papermill": {
          "duration": 4.167985,
          "end_time": "2021-01-30T23:01:29.377048",
          "exception": false,
          "start_time": "2021-01-30T23:01:25.209063",
          "status": "completed"
        },
        "tags": [],
        "id": "pKmmq1yTobQb",
        "outputId": "8bed382f-c849-4682-9bf4-20639c7d87a1"
      },
      "source": [
        "dados = pd.read_excel('/kaggle/input/covid19/Kaggle_Sirio_Libanes_ICU_Prediction.xlsx')\n",
        "dados.head()"
      ],
      "execution_count": null,
      "outputs": [
        {
          "output_type": "execute_result",
          "data": {
            "text/html": [
              "<div>\n",
              "<style scoped>\n",
              "    .dataframe tbody tr th:only-of-type {\n",
              "        vertical-align: middle;\n",
              "    }\n",
              "\n",
              "    .dataframe tbody tr th {\n",
              "        vertical-align: top;\n",
              "    }\n",
              "\n",
              "    .dataframe thead th {\n",
              "        text-align: right;\n",
              "    }\n",
              "</style>\n",
              "<table border=\"1\" class=\"dataframe\">\n",
              "  <thead>\n",
              "    <tr style=\"text-align: right;\">\n",
              "      <th></th>\n",
              "      <th>PATIENT_VISIT_IDENTIFIER</th>\n",
              "      <th>AGE_ABOVE65</th>\n",
              "      <th>AGE_PERCENTIL</th>\n",
              "      <th>GENDER</th>\n",
              "      <th>DISEASE GROUPING 1</th>\n",
              "      <th>DISEASE GROUPING 2</th>\n",
              "      <th>DISEASE GROUPING 3</th>\n",
              "      <th>DISEASE GROUPING 4</th>\n",
              "      <th>DISEASE GROUPING 5</th>\n",
              "      <th>DISEASE GROUPING 6</th>\n",
              "      <th>...</th>\n",
              "      <th>TEMPERATURE_DIFF</th>\n",
              "      <th>OXYGEN_SATURATION_DIFF</th>\n",
              "      <th>BLOODPRESSURE_DIASTOLIC_DIFF_REL</th>\n",
              "      <th>BLOODPRESSURE_SISTOLIC_DIFF_REL</th>\n",
              "      <th>HEART_RATE_DIFF_REL</th>\n",
              "      <th>RESPIRATORY_RATE_DIFF_REL</th>\n",
              "      <th>TEMPERATURE_DIFF_REL</th>\n",
              "      <th>OXYGEN_SATURATION_DIFF_REL</th>\n",
              "      <th>WINDOW</th>\n",
              "      <th>ICU</th>\n",
              "    </tr>\n",
              "  </thead>\n",
              "  <tbody>\n",
              "    <tr>\n",
              "      <th>0</th>\n",
              "      <td>0</td>\n",
              "      <td>1</td>\n",
              "      <td>60th</td>\n",
              "      <td>0</td>\n",
              "      <td>0.0</td>\n",
              "      <td>0.0</td>\n",
              "      <td>0.0</td>\n",
              "      <td>0.0</td>\n",
              "      <td>1.0</td>\n",
              "      <td>1.0</td>\n",
              "      <td>...</td>\n",
              "      <td>-1.000000</td>\n",
              "      <td>-1.000000</td>\n",
              "      <td>-1.000000</td>\n",
              "      <td>-1.000000</td>\n",
              "      <td>-1.000000</td>\n",
              "      <td>-1.000000</td>\n",
              "      <td>-1.000000</td>\n",
              "      <td>-1.000000</td>\n",
              "      <td>0-2</td>\n",
              "      <td>0</td>\n",
              "    </tr>\n",
              "    <tr>\n",
              "      <th>1</th>\n",
              "      <td>0</td>\n",
              "      <td>1</td>\n",
              "      <td>60th</td>\n",
              "      <td>0</td>\n",
              "      <td>0.0</td>\n",
              "      <td>0.0</td>\n",
              "      <td>0.0</td>\n",
              "      <td>0.0</td>\n",
              "      <td>1.0</td>\n",
              "      <td>1.0</td>\n",
              "      <td>...</td>\n",
              "      <td>-1.000000</td>\n",
              "      <td>-1.000000</td>\n",
              "      <td>-1.000000</td>\n",
              "      <td>-1.000000</td>\n",
              "      <td>-1.000000</td>\n",
              "      <td>-1.000000</td>\n",
              "      <td>-1.000000</td>\n",
              "      <td>-1.000000</td>\n",
              "      <td>2-4</td>\n",
              "      <td>0</td>\n",
              "    </tr>\n",
              "    <tr>\n",
              "      <th>2</th>\n",
              "      <td>0</td>\n",
              "      <td>1</td>\n",
              "      <td>60th</td>\n",
              "      <td>0</td>\n",
              "      <td>0.0</td>\n",
              "      <td>0.0</td>\n",
              "      <td>0.0</td>\n",
              "      <td>0.0</td>\n",
              "      <td>1.0</td>\n",
              "      <td>1.0</td>\n",
              "      <td>...</td>\n",
              "      <td>NaN</td>\n",
              "      <td>NaN</td>\n",
              "      <td>NaN</td>\n",
              "      <td>NaN</td>\n",
              "      <td>NaN</td>\n",
              "      <td>NaN</td>\n",
              "      <td>NaN</td>\n",
              "      <td>NaN</td>\n",
              "      <td>4-6</td>\n",
              "      <td>0</td>\n",
              "    </tr>\n",
              "    <tr>\n",
              "      <th>3</th>\n",
              "      <td>0</td>\n",
              "      <td>1</td>\n",
              "      <td>60th</td>\n",
              "      <td>0</td>\n",
              "      <td>0.0</td>\n",
              "      <td>0.0</td>\n",
              "      <td>0.0</td>\n",
              "      <td>0.0</td>\n",
              "      <td>1.0</td>\n",
              "      <td>1.0</td>\n",
              "      <td>...</td>\n",
              "      <td>-1.000000</td>\n",
              "      <td>-1.000000</td>\n",
              "      <td>NaN</td>\n",
              "      <td>NaN</td>\n",
              "      <td>NaN</td>\n",
              "      <td>NaN</td>\n",
              "      <td>-1.000000</td>\n",
              "      <td>-1.000000</td>\n",
              "      <td>6-12</td>\n",
              "      <td>0</td>\n",
              "    </tr>\n",
              "    <tr>\n",
              "      <th>4</th>\n",
              "      <td>0</td>\n",
              "      <td>1</td>\n",
              "      <td>60th</td>\n",
              "      <td>0</td>\n",
              "      <td>0.0</td>\n",
              "      <td>0.0</td>\n",
              "      <td>0.0</td>\n",
              "      <td>0.0</td>\n",
              "      <td>1.0</td>\n",
              "      <td>1.0</td>\n",
              "      <td>...</td>\n",
              "      <td>-0.238095</td>\n",
              "      <td>-0.818182</td>\n",
              "      <td>-0.389967</td>\n",
              "      <td>0.407558</td>\n",
              "      <td>-0.230462</td>\n",
              "      <td>0.096774</td>\n",
              "      <td>-0.242282</td>\n",
              "      <td>-0.814433</td>\n",
              "      <td>ABOVE_12</td>\n",
              "      <td>1</td>\n",
              "    </tr>\n",
              "  </tbody>\n",
              "</table>\n",
              "<p>5 rows × 231 columns</p>\n",
              "</div>"
            ],
            "text/plain": [
              "   PATIENT_VISIT_IDENTIFIER  AGE_ABOVE65 AGE_PERCENTIL  GENDER  \\\n",
              "0                         0            1          60th       0   \n",
              "1                         0            1          60th       0   \n",
              "2                         0            1          60th       0   \n",
              "3                         0            1          60th       0   \n",
              "4                         0            1          60th       0   \n",
              "\n",
              "   DISEASE GROUPING 1  DISEASE GROUPING 2  DISEASE GROUPING 3  \\\n",
              "0                 0.0                 0.0                 0.0   \n",
              "1                 0.0                 0.0                 0.0   \n",
              "2                 0.0                 0.0                 0.0   \n",
              "3                 0.0                 0.0                 0.0   \n",
              "4                 0.0                 0.0                 0.0   \n",
              "\n",
              "   DISEASE GROUPING 4  DISEASE GROUPING 5  DISEASE GROUPING 6  ...  \\\n",
              "0                 0.0                 1.0                 1.0  ...   \n",
              "1                 0.0                 1.0                 1.0  ...   \n",
              "2                 0.0                 1.0                 1.0  ...   \n",
              "3                 0.0                 1.0                 1.0  ...   \n",
              "4                 0.0                 1.0                 1.0  ...   \n",
              "\n",
              "   TEMPERATURE_DIFF  OXYGEN_SATURATION_DIFF  BLOODPRESSURE_DIASTOLIC_DIFF_REL  \\\n",
              "0         -1.000000               -1.000000                         -1.000000   \n",
              "1         -1.000000               -1.000000                         -1.000000   \n",
              "2               NaN                     NaN                               NaN   \n",
              "3         -1.000000               -1.000000                               NaN   \n",
              "4         -0.238095               -0.818182                         -0.389967   \n",
              "\n",
              "   BLOODPRESSURE_SISTOLIC_DIFF_REL  HEART_RATE_DIFF_REL  \\\n",
              "0                        -1.000000            -1.000000   \n",
              "1                        -1.000000            -1.000000   \n",
              "2                              NaN                  NaN   \n",
              "3                              NaN                  NaN   \n",
              "4                         0.407558            -0.230462   \n",
              "\n",
              "   RESPIRATORY_RATE_DIFF_REL  TEMPERATURE_DIFF_REL  \\\n",
              "0                  -1.000000             -1.000000   \n",
              "1                  -1.000000             -1.000000   \n",
              "2                        NaN                   NaN   \n",
              "3                        NaN             -1.000000   \n",
              "4                   0.096774             -0.242282   \n",
              "\n",
              "   OXYGEN_SATURATION_DIFF_REL    WINDOW  ICU  \n",
              "0                   -1.000000       0-2    0  \n",
              "1                   -1.000000       2-4    0  \n",
              "2                         NaN       4-6    0  \n",
              "3                   -1.000000      6-12    0  \n",
              "4                   -0.814433  ABOVE_12    1  \n",
              "\n",
              "[5 rows x 231 columns]"
            ]
          },
          "metadata": {
            "tags": []
          },
          "execution_count": 3
        }
      ]
    },
    {
      "cell_type": "code",
      "metadata": {
        "execution": {
          "iopub.execute_input": "2021-01-30T23:01:29.516330Z",
          "iopub.status.busy": "2021-01-30T23:01:29.515496Z",
          "iopub.status.idle": "2021-01-30T23:01:30.104829Z",
          "shell.execute_reply": "2021-01-30T23:01:30.103932Z"
        },
        "papermill": {
          "duration": 0.663543,
          "end_time": "2021-01-30T23:01:30.104971",
          "exception": false,
          "start_time": "2021-01-30T23:01:29.441428",
          "status": "completed"
        },
        "tags": [],
        "id": "0knKdJSeobQc",
        "outputId": "adbee14f-6da7-4b50-a94e-fa26df84f9d6"
      },
      "source": [
        "dados.describe()"
      ],
      "execution_count": null,
      "outputs": [
        {
          "output_type": "execute_result",
          "data": {
            "text/html": [
              "<div>\n",
              "<style scoped>\n",
              "    .dataframe tbody tr th:only-of-type {\n",
              "        vertical-align: middle;\n",
              "    }\n",
              "\n",
              "    .dataframe tbody tr th {\n",
              "        vertical-align: top;\n",
              "    }\n",
              "\n",
              "    .dataframe thead th {\n",
              "        text-align: right;\n",
              "    }\n",
              "</style>\n",
              "<table border=\"1\" class=\"dataframe\">\n",
              "  <thead>\n",
              "    <tr style=\"text-align: right;\">\n",
              "      <th></th>\n",
              "      <th>PATIENT_VISIT_IDENTIFIER</th>\n",
              "      <th>AGE_ABOVE65</th>\n",
              "      <th>GENDER</th>\n",
              "      <th>DISEASE GROUPING 1</th>\n",
              "      <th>DISEASE GROUPING 2</th>\n",
              "      <th>DISEASE GROUPING 3</th>\n",
              "      <th>DISEASE GROUPING 4</th>\n",
              "      <th>DISEASE GROUPING 5</th>\n",
              "      <th>DISEASE GROUPING 6</th>\n",
              "      <th>HTN</th>\n",
              "      <th>...</th>\n",
              "      <th>RESPIRATORY_RATE_DIFF</th>\n",
              "      <th>TEMPERATURE_DIFF</th>\n",
              "      <th>OXYGEN_SATURATION_DIFF</th>\n",
              "      <th>BLOODPRESSURE_DIASTOLIC_DIFF_REL</th>\n",
              "      <th>BLOODPRESSURE_SISTOLIC_DIFF_REL</th>\n",
              "      <th>HEART_RATE_DIFF_REL</th>\n",
              "      <th>RESPIRATORY_RATE_DIFF_REL</th>\n",
              "      <th>TEMPERATURE_DIFF_REL</th>\n",
              "      <th>OXYGEN_SATURATION_DIFF_REL</th>\n",
              "      <th>ICU</th>\n",
              "    </tr>\n",
              "  </thead>\n",
              "  <tbody>\n",
              "    <tr>\n",
              "      <th>count</th>\n",
              "      <td>1925.000000</td>\n",
              "      <td>1925.000000</td>\n",
              "      <td>1925.000000</td>\n",
              "      <td>1920.000000</td>\n",
              "      <td>1920.000000</td>\n",
              "      <td>1920.000000</td>\n",
              "      <td>1920.000000</td>\n",
              "      <td>1920.000000</td>\n",
              "      <td>1920.000000</td>\n",
              "      <td>1920.000000</td>\n",
              "      <td>...</td>\n",
              "      <td>1177.000000</td>\n",
              "      <td>1231.000000</td>\n",
              "      <td>1239.000000</td>\n",
              "      <td>1240.000000</td>\n",
              "      <td>1240.000000</td>\n",
              "      <td>1240.000000</td>\n",
              "      <td>1177.000000</td>\n",
              "      <td>1231.000000</td>\n",
              "      <td>1239.000000</td>\n",
              "      <td>1925.000000</td>\n",
              "    </tr>\n",
              "    <tr>\n",
              "      <th>mean</th>\n",
              "      <td>192.000000</td>\n",
              "      <td>0.467532</td>\n",
              "      <td>0.368831</td>\n",
              "      <td>0.108333</td>\n",
              "      <td>0.028125</td>\n",
              "      <td>0.097917</td>\n",
              "      <td>0.019792</td>\n",
              "      <td>0.128125</td>\n",
              "      <td>0.046875</td>\n",
              "      <td>0.213021</td>\n",
              "      <td>...</td>\n",
              "      <td>-0.703683</td>\n",
              "      <td>-0.770338</td>\n",
              "      <td>-0.887196</td>\n",
              "      <td>-0.786997</td>\n",
              "      <td>-0.715950</td>\n",
              "      <td>-0.817800</td>\n",
              "      <td>-0.719147</td>\n",
              "      <td>-0.771327</td>\n",
              "      <td>-0.886982</td>\n",
              "      <td>0.267532</td>\n",
              "    </tr>\n",
              "    <tr>\n",
              "      <th>std</th>\n",
              "      <td>111.168431</td>\n",
              "      <td>0.499074</td>\n",
              "      <td>0.482613</td>\n",
              "      <td>0.310882</td>\n",
              "      <td>0.165373</td>\n",
              "      <td>0.297279</td>\n",
              "      <td>0.139320</td>\n",
              "      <td>0.334316</td>\n",
              "      <td>0.211426</td>\n",
              "      <td>0.409549</td>\n",
              "      <td>...</td>\n",
              "      <td>0.482097</td>\n",
              "      <td>0.319001</td>\n",
              "      <td>0.296147</td>\n",
              "      <td>0.324754</td>\n",
              "      <td>0.419103</td>\n",
              "      <td>0.270217</td>\n",
              "      <td>0.446600</td>\n",
              "      <td>0.317694</td>\n",
              "      <td>0.296772</td>\n",
              "      <td>0.442787</td>\n",
              "    </tr>\n",
              "    <tr>\n",
              "      <th>min</th>\n",
              "      <td>0.000000</td>\n",
              "      <td>0.000000</td>\n",
              "      <td>0.000000</td>\n",
              "      <td>0.000000</td>\n",
              "      <td>0.000000</td>\n",
              "      <td>0.000000</td>\n",
              "      <td>0.000000</td>\n",
              "      <td>0.000000</td>\n",
              "      <td>0.000000</td>\n",
              "      <td>0.000000</td>\n",
              "      <td>...</td>\n",
              "      <td>-1.000000</td>\n",
              "      <td>-1.000000</td>\n",
              "      <td>-1.000000</td>\n",
              "      <td>-1.000000</td>\n",
              "      <td>-1.000000</td>\n",
              "      <td>-1.000000</td>\n",
              "      <td>-1.000000</td>\n",
              "      <td>-1.000000</td>\n",
              "      <td>-1.000000</td>\n",
              "      <td>0.000000</td>\n",
              "    </tr>\n",
              "    <tr>\n",
              "      <th>25%</th>\n",
              "      <td>96.000000</td>\n",
              "      <td>0.000000</td>\n",
              "      <td>0.000000</td>\n",
              "      <td>0.000000</td>\n",
              "      <td>0.000000</td>\n",
              "      <td>0.000000</td>\n",
              "      <td>0.000000</td>\n",
              "      <td>0.000000</td>\n",
              "      <td>0.000000</td>\n",
              "      <td>0.000000</td>\n",
              "      <td>...</td>\n",
              "      <td>-1.000000</td>\n",
              "      <td>-1.000000</td>\n",
              "      <td>-1.000000</td>\n",
              "      <td>-1.000000</td>\n",
              "      <td>-1.000000</td>\n",
              "      <td>-1.000000</td>\n",
              "      <td>-1.000000</td>\n",
              "      <td>-1.000000</td>\n",
              "      <td>-1.000000</td>\n",
              "      <td>0.000000</td>\n",
              "    </tr>\n",
              "    <tr>\n",
              "      <th>50%</th>\n",
              "      <td>192.000000</td>\n",
              "      <td>0.000000</td>\n",
              "      <td>0.000000</td>\n",
              "      <td>0.000000</td>\n",
              "      <td>0.000000</td>\n",
              "      <td>0.000000</td>\n",
              "      <td>0.000000</td>\n",
              "      <td>0.000000</td>\n",
              "      <td>0.000000</td>\n",
              "      <td>0.000000</td>\n",
              "      <td>...</td>\n",
              "      <td>-1.000000</td>\n",
              "      <td>-0.976190</td>\n",
              "      <td>-0.979798</td>\n",
              "      <td>-1.000000</td>\n",
              "      <td>-0.984944</td>\n",
              "      <td>-0.989822</td>\n",
              "      <td>-1.000000</td>\n",
              "      <td>-0.975924</td>\n",
              "      <td>-0.980333</td>\n",
              "      <td>0.000000</td>\n",
              "    </tr>\n",
              "    <tr>\n",
              "      <th>75%</th>\n",
              "      <td>288.000000</td>\n",
              "      <td>1.000000</td>\n",
              "      <td>1.000000</td>\n",
              "      <td>0.000000</td>\n",
              "      <td>0.000000</td>\n",
              "      <td>0.000000</td>\n",
              "      <td>0.000000</td>\n",
              "      <td>0.000000</td>\n",
              "      <td>0.000000</td>\n",
              "      <td>0.000000</td>\n",
              "      <td>...</td>\n",
              "      <td>-0.647059</td>\n",
              "      <td>-0.595238</td>\n",
              "      <td>-0.878788</td>\n",
              "      <td>-0.645482</td>\n",
              "      <td>-0.522176</td>\n",
              "      <td>-0.662529</td>\n",
              "      <td>-0.634409</td>\n",
              "      <td>-0.594677</td>\n",
              "      <td>-0.880155</td>\n",
              "      <td>1.000000</td>\n",
              "    </tr>\n",
              "    <tr>\n",
              "      <th>max</th>\n",
              "      <td>384.000000</td>\n",
              "      <td>1.000000</td>\n",
              "      <td>1.000000</td>\n",
              "      <td>1.000000</td>\n",
              "      <td>1.000000</td>\n",
              "      <td>1.000000</td>\n",
              "      <td>1.000000</td>\n",
              "      <td>1.000000</td>\n",
              "      <td>1.000000</td>\n",
              "      <td>1.000000</td>\n",
              "      <td>...</td>\n",
              "      <td>1.000000</td>\n",
              "      <td>1.000000</td>\n",
              "      <td>1.000000</td>\n",
              "      <td>1.000000</td>\n",
              "      <td>1.000000</td>\n",
              "      <td>1.000000</td>\n",
              "      <td>1.000000</td>\n",
              "      <td>1.000000</td>\n",
              "      <td>1.000000</td>\n",
              "      <td>1.000000</td>\n",
              "    </tr>\n",
              "  </tbody>\n",
              "</table>\n",
              "<p>8 rows × 229 columns</p>\n",
              "</div>"
            ],
            "text/plain": [
              "       PATIENT_VISIT_IDENTIFIER  AGE_ABOVE65       GENDER  DISEASE GROUPING 1  \\\n",
              "count               1925.000000  1925.000000  1925.000000         1920.000000   \n",
              "mean                 192.000000     0.467532     0.368831            0.108333   \n",
              "std                  111.168431     0.499074     0.482613            0.310882   \n",
              "min                    0.000000     0.000000     0.000000            0.000000   \n",
              "25%                   96.000000     0.000000     0.000000            0.000000   \n",
              "50%                  192.000000     0.000000     0.000000            0.000000   \n",
              "75%                  288.000000     1.000000     1.000000            0.000000   \n",
              "max                  384.000000     1.000000     1.000000            1.000000   \n",
              "\n",
              "       DISEASE GROUPING 2  DISEASE GROUPING 3  DISEASE GROUPING 4  \\\n",
              "count         1920.000000         1920.000000         1920.000000   \n",
              "mean             0.028125            0.097917            0.019792   \n",
              "std              0.165373            0.297279            0.139320   \n",
              "min              0.000000            0.000000            0.000000   \n",
              "25%              0.000000            0.000000            0.000000   \n",
              "50%              0.000000            0.000000            0.000000   \n",
              "75%              0.000000            0.000000            0.000000   \n",
              "max              1.000000            1.000000            1.000000   \n",
              "\n",
              "       DISEASE GROUPING 5  DISEASE GROUPING 6          HTN  ...  \\\n",
              "count         1920.000000         1920.000000  1920.000000  ...   \n",
              "mean             0.128125            0.046875     0.213021  ...   \n",
              "std              0.334316            0.211426     0.409549  ...   \n",
              "min              0.000000            0.000000     0.000000  ...   \n",
              "25%              0.000000            0.000000     0.000000  ...   \n",
              "50%              0.000000            0.000000     0.000000  ...   \n",
              "75%              0.000000            0.000000     0.000000  ...   \n",
              "max              1.000000            1.000000     1.000000  ...   \n",
              "\n",
              "       RESPIRATORY_RATE_DIFF  TEMPERATURE_DIFF  OXYGEN_SATURATION_DIFF  \\\n",
              "count            1177.000000       1231.000000             1239.000000   \n",
              "mean               -0.703683         -0.770338               -0.887196   \n",
              "std                 0.482097          0.319001                0.296147   \n",
              "min                -1.000000         -1.000000               -1.000000   \n",
              "25%                -1.000000         -1.000000               -1.000000   \n",
              "50%                -1.000000         -0.976190               -0.979798   \n",
              "75%                -0.647059         -0.595238               -0.878788   \n",
              "max                 1.000000          1.000000                1.000000   \n",
              "\n",
              "       BLOODPRESSURE_DIASTOLIC_DIFF_REL  BLOODPRESSURE_SISTOLIC_DIFF_REL  \\\n",
              "count                       1240.000000                      1240.000000   \n",
              "mean                          -0.786997                        -0.715950   \n",
              "std                            0.324754                         0.419103   \n",
              "min                           -1.000000                        -1.000000   \n",
              "25%                           -1.000000                        -1.000000   \n",
              "50%                           -1.000000                        -0.984944   \n",
              "75%                           -0.645482                        -0.522176   \n",
              "max                            1.000000                         1.000000   \n",
              "\n",
              "       HEART_RATE_DIFF_REL  RESPIRATORY_RATE_DIFF_REL  TEMPERATURE_DIFF_REL  \\\n",
              "count          1240.000000                1177.000000           1231.000000   \n",
              "mean             -0.817800                  -0.719147             -0.771327   \n",
              "std               0.270217                   0.446600              0.317694   \n",
              "min              -1.000000                  -1.000000             -1.000000   \n",
              "25%              -1.000000                  -1.000000             -1.000000   \n",
              "50%              -0.989822                  -1.000000             -0.975924   \n",
              "75%              -0.662529                  -0.634409             -0.594677   \n",
              "max               1.000000                   1.000000              1.000000   \n",
              "\n",
              "       OXYGEN_SATURATION_DIFF_REL          ICU  \n",
              "count                 1239.000000  1925.000000  \n",
              "mean                    -0.886982     0.267532  \n",
              "std                      0.296772     0.442787  \n",
              "min                     -1.000000     0.000000  \n",
              "25%                     -1.000000     0.000000  \n",
              "50%                     -0.980333     0.000000  \n",
              "75%                     -0.880155     1.000000  \n",
              "max                      1.000000     1.000000  \n",
              "\n",
              "[8 rows x 229 columns]"
            ]
          },
          "metadata": {
            "tags": []
          },
          "execution_count": 4
        }
      ]
    },
    {
      "cell_type": "markdown",
      "metadata": {
        "papermill": {
          "duration": 0.060681,
          "end_time": "2021-01-30T23:01:30.229634",
          "exception": false,
          "start_time": "2021-01-30T23:01:30.168953",
          "status": "completed"
        },
        "tags": [],
        "id": "-BT2ck0EobQd"
      },
      "source": [
        "**Observação:** Algumas colunas, no mundo real, podem estar **anonimizadas**, por fatores éticos humanos (elas podem descobrir quais pessoas estão sendo usadas para a base de dados, de acordo com tal característica nos dados), ou até mesmo por conta das próprias empresas não quererem que você saiba o que é aquela variável."
      ]
    },
    {
      "cell_type": "code",
      "metadata": {
        "execution": {
          "iopub.execute_input": "2021-01-30T23:01:30.359345Z",
          "iopub.status.busy": "2021-01-30T23:01:30.358436Z",
          "iopub.status.idle": "2021-01-30T23:01:30.364121Z",
          "shell.execute_reply": "2021-01-30T23:01:30.363247Z"
        },
        "papermill": {
          "duration": 0.073736,
          "end_time": "2021-01-30T23:01:30.364252",
          "exception": false,
          "start_time": "2021-01-30T23:01:30.290516",
          "status": "completed"
        },
        "tags": [],
        "id": "KVm7hNLJobQd",
        "outputId": "1ab56b80-0d3c-4ca1-8b2c-ded47b98caf7"
      },
      "source": [
        "dados['ICU']"
      ],
      "execution_count": null,
      "outputs": [
        {
          "output_type": "execute_result",
          "data": {
            "text/plain": [
              "0       0\n",
              "1       0\n",
              "2       0\n",
              "3       0\n",
              "4       1\n",
              "       ..\n",
              "1920    0\n",
              "1921    0\n",
              "1922    0\n",
              "1923    0\n",
              "1924    0\n",
              "Name: ICU, Length: 1925, dtype: int64"
            ]
          },
          "metadata": {
            "tags": []
          },
          "execution_count": 5
        }
      ]
    },
    {
      "cell_type": "code",
      "metadata": {
        "execution": {
          "iopub.execute_input": "2021-01-30T23:01:30.499405Z",
          "iopub.status.busy": "2021-01-30T23:01:30.498492Z",
          "iopub.status.idle": "2021-01-30T23:01:30.503171Z",
          "shell.execute_reply": "2021-01-30T23:01:30.502565Z"
        },
        "papermill": {
          "duration": 0.076034,
          "end_time": "2021-01-30T23:01:30.503292",
          "exception": false,
          "start_time": "2021-01-30T23:01:30.427258",
          "status": "completed"
        },
        "tags": [],
        "id": "pcqDTeBSobQd",
        "outputId": "47e2ba89-ea94-4064-de81-e6a5f8df1619"
      },
      "source": [
        "dados['ICU'].value_counts()"
      ],
      "execution_count": null,
      "outputs": [
        {
          "output_type": "execute_result",
          "data": {
            "text/plain": [
              "0    1410\n",
              "1     515\n",
              "Name: ICU, dtype: int64"
            ]
          },
          "metadata": {
            "tags": []
          },
          "execution_count": 6
        }
      ]
    },
    {
      "cell_type": "markdown",
      "metadata": {
        "papermill": {
          "duration": 0.041792,
          "end_time": "2021-01-30T23:01:30.587339",
          "exception": false,
          "start_time": "2021-01-30T23:01:30.545547",
          "status": "completed"
        },
        "tags": [],
        "id": "HNHbwFAnobQe"
      },
      "source": [
        "- Aprendizado Supervisionado: quando você quer prever o valor de alguma *label*, dado que você sabe qual é esta variável;\n",
        "- Aprendizado Não-Supervisionado: quando você quer prever o valor de alguma *label*, dado que você **não** sabe qual é esta variável. O que acontece na realidade é que, a partir das outras características eu tento agrupar em determinados grupos **sem saber o que realmente é aquele dado.** Ou seja, estamos aprendendo o **conceito** e não a palavra em si."
      ]
    },
    {
      "cell_type": "markdown",
      "metadata": {
        "papermill": {
          "duration": 0.041796,
          "end_time": "2021-01-30T23:01:30.670751",
          "exception": false,
          "start_time": "2021-01-30T23:01:30.628955",
          "status": "completed"
        },
        "tags": [],
        "id": "mKUNcIwFobQe"
      },
      "source": [
        "### Desafio 01 -pesquisar aprendizado supervisionado, não supervisionado, por reforço e mais (forma)."
      ]
    },
    {
      "cell_type": "markdown",
      "metadata": {
        "papermill": {
          "duration": 0.042025,
          "end_time": "2021-01-30T23:01:30.755074",
          "exception": false,
          "start_time": "2021-01-30T23:01:30.713049",
          "status": "completed"
        },
        "tags": [],
        "id": "X5eZQGEzobQe"
      },
      "source": [
        "### Desafio 02 - Pesquisar sobre classificação, regressão e outros problemas que podem ser solucionados com Machine Learning."
      ]
    },
    {
      "cell_type": "markdown",
      "metadata": {
        "papermill": {
          "duration": 0.041492,
          "end_time": "2021-01-30T23:01:30.838495",
          "exception": false,
          "start_time": "2021-01-30T23:01:30.797003",
          "status": "completed"
        },
        "tags": [],
        "id": "3AEEjHgrobQf"
      },
      "source": [
        "## 03. Modelos de Machine Learning"
      ]
    },
    {
      "cell_type": "code",
      "metadata": {
        "execution": {
          "iopub.execute_input": "2021-01-30T23:01:30.938402Z",
          "iopub.status.busy": "2021-01-30T23:01:30.935872Z",
          "iopub.status.idle": "2021-01-30T23:01:31.419407Z",
          "shell.execute_reply": "2021-01-30T23:01:31.418520Z"
        },
        "papermill": {
          "duration": 0.538981,
          "end_time": "2021-01-30T23:01:31.419541",
          "exception": false,
          "start_time": "2021-01-30T23:01:30.880560",
          "status": "completed"
        },
        "tags": [],
        "id": "yRjwrNk2obQf"
      },
      "source": [
        "x_columns = dados.describe().columns\n",
        "\n",
        "dados_limpos = dados.dropna()"
      ],
      "execution_count": null,
      "outputs": []
    },
    {
      "cell_type": "code",
      "metadata": {
        "execution": {
          "iopub.execute_input": "2021-01-30T23:01:31.557020Z",
          "iopub.status.busy": "2021-01-30T23:01:31.556195Z",
          "iopub.status.idle": "2021-01-30T23:01:31.558992Z",
          "shell.execute_reply": "2021-01-30T23:01:31.559633Z"
        },
        "papermill": {
          "duration": 0.075976,
          "end_time": "2021-01-30T23:01:31.559781",
          "exception": false,
          "start_time": "2021-01-30T23:01:31.483805",
          "status": "completed"
        },
        "tags": [],
        "id": "QHGo7GoNobQf"
      },
      "source": [
        "y = dados_limpos['ICU']\n",
        "x = dados_limpos[x_columns].drop('ICU', axis=1)"
      ],
      "execution_count": null,
      "outputs": []
    },
    {
      "cell_type": "code",
      "metadata": {
        "execution": {
          "iopub.execute_input": "2021-01-30T23:01:31.691172Z",
          "iopub.status.busy": "2021-01-30T23:01:31.690357Z",
          "iopub.status.idle": "2021-01-30T23:01:32.810224Z",
          "shell.execute_reply": "2021-01-30T23:01:32.809396Z"
        },
        "papermill": {
          "duration": 1.186693,
          "end_time": "2021-01-30T23:01:32.810415",
          "exception": false,
          "start_time": "2021-01-30T23:01:31.623722",
          "status": "completed"
        },
        "tags": [],
        "id": "hAWqPEt8obQf"
      },
      "source": [
        "from sklearn.linear_model import LogisticRegression"
      ],
      "execution_count": null,
      "outputs": []
    },
    {
      "cell_type": "markdown",
      "metadata": {
        "papermill": {
          "duration": 0.064543,
          "end_time": "2021-01-30T23:01:32.939488",
          "exception": false,
          "start_time": "2021-01-30T23:01:32.874945",
          "status": "completed"
        },
        "tags": [],
        "id": "UVqeTVFTobQg"
      },
      "source": [
        "### Uma explicação introdutória da Regressão Logística\n",
        "O modelo de Regressão Logística é utilizado para descrever uma variável quantitativa como algo classificatório (binário). O método utiliza a probabililidade de ocorrer tal valor (quantitativo), sendo assim, se for uma probabilidade menor que 50%, então ele classifica como \"não possível\" (0), já se for acima, como \"possível\" (1).\n",
        "\n",
        "A função que ela utiliza é a **sigmoid**, com a fórmula abaixo:\n",
        "<img src=\"https://wikimedia.org/api/rest_v1/media/math/render/svg/5e648e1dd38ef843d57777cd34c67465bbca694f\">\n",
        "\n",
        "Dado uma função linear *t*, temos: \n",
        "<img src=\"https://wikimedia.org/api/rest_v1/media/math/render/svg/836d93163447344be4715ec00638c1cd829e376c\">\n",
        "\n",
        "Então:\n",
        "<img src=\"https://wikimedia.org/api/rest_v1/media/math/render/svg/e376fe69caee24c914fab1360de36900b7bb9c24\">\n",
        "\n",
        "\n",
        "\n",
        "Vai um exemplo abaixo:\n",
        "\n",
        "<img src=\"https://upload.wikimedia.org/wikipedia/commons/6/6d/Exam_pass_logistic_curve.jpeg\">\n",
        "\n",
        "**Observação:** o gráfico e as fórmulas são tiradas do Wikipedia."
      ]
    },
    {
      "cell_type": "code",
      "metadata": {
        "execution": {
          "iopub.execute_input": "2021-01-30T23:01:33.080962Z",
          "iopub.status.busy": "2021-01-30T23:01:33.080087Z",
          "iopub.status.idle": "2021-01-30T23:01:33.153520Z",
          "shell.execute_reply": "2021-01-30T23:01:33.152751Z"
        },
        "papermill": {
          "duration": 0.149164,
          "end_time": "2021-01-30T23:01:33.153648",
          "exception": false,
          "start_time": "2021-01-30T23:01:33.004484",
          "status": "completed"
        },
        "tags": [],
        "id": "hscfH4u-obQg",
        "outputId": "e3befcfc-18a2-4d3b-aa57-1bad0801e4fd"
      },
      "source": [
        "modelo = LogisticRegression()\n",
        "modelo.fit(x, y)"
      ],
      "execution_count": null,
      "outputs": [
        {
          "output_type": "stream",
          "text": [
            "/opt/conda/lib/python3.7/site-packages/sklearn/linear_model/_logistic.py:764: ConvergenceWarning: lbfgs failed to converge (status=1):\n",
            "STOP: TOTAL NO. of ITERATIONS REACHED LIMIT.\n",
            "\n",
            "Increase the number of iterations (max_iter) or scale the data as shown in:\n",
            "    https://scikit-learn.org/stable/modules/preprocessing.html\n",
            "Please also refer to the documentation for alternative solver options:\n",
            "    https://scikit-learn.org/stable/modules/linear_model.html#logistic-regression\n",
            "  extra_warning_msg=_LOGISTIC_SOLVER_CONVERGENCE_MSG)\n"
          ],
          "name": "stderr"
        },
        {
          "output_type": "execute_result",
          "data": {
            "text/plain": [
              "LogisticRegression()"
            ]
          },
          "metadata": {
            "tags": []
          },
          "execution_count": 10
        }
      ]
    },
    {
      "cell_type": "code",
      "metadata": {
        "execution": {
          "iopub.execute_input": "2021-01-30T23:01:33.295217Z",
          "iopub.status.busy": "2021-01-30T23:01:33.294151Z",
          "iopub.status.idle": "2021-01-30T23:01:33.300866Z",
          "shell.execute_reply": "2021-01-30T23:01:33.300159Z"
        },
        "papermill": {
          "duration": 0.080641,
          "end_time": "2021-01-30T23:01:33.301000",
          "exception": false,
          "start_time": "2021-01-30T23:01:33.220359",
          "status": "completed"
        },
        "tags": [],
        "id": "MHk3V7c6obQg",
        "outputId": "053a1d0e-c268-4090-edd5-8b59d75ba37c"
      },
      "source": [
        "modelo.predict([x.iloc[4]])"
      ],
      "execution_count": null,
      "outputs": [
        {
          "output_type": "execute_result",
          "data": {
            "text/plain": [
              "array([1])"
            ]
          },
          "metadata": {
            "tags": []
          },
          "execution_count": 11
        }
      ]
    },
    {
      "cell_type": "code",
      "metadata": {
        "execution": {
          "iopub.execute_input": "2021-01-30T23:01:33.439991Z",
          "iopub.status.busy": "2021-01-30T23:01:33.438949Z",
          "iopub.status.idle": "2021-01-30T23:01:33.443882Z",
          "shell.execute_reply": "2021-01-30T23:01:33.444518Z"
        },
        "papermill": {
          "duration": 0.077261,
          "end_time": "2021-01-30T23:01:33.444685",
          "exception": false,
          "start_time": "2021-01-30T23:01:33.367424",
          "status": "completed"
        },
        "tags": [],
        "id": "7qZNPHpDobQh",
        "outputId": "c844d843-55d3-43e1-c22f-c8419a745576"
      },
      "source": [
        "y.iloc[4]"
      ],
      "execution_count": null,
      "outputs": [
        {
          "output_type": "execute_result",
          "data": {
            "text/plain": [
              "1"
            ]
          },
          "metadata": {
            "tags": []
          },
          "execution_count": 12
        }
      ]
    },
    {
      "cell_type": "code",
      "metadata": {
        "execution": {
          "iopub.execute_input": "2021-01-30T23:01:33.589052Z",
          "iopub.status.busy": "2021-01-30T23:01:33.588234Z",
          "iopub.status.idle": "2021-01-30T23:01:33.595011Z",
          "shell.execute_reply": "2021-01-30T23:01:33.594161Z"
        },
        "papermill": {
          "duration": 0.083921,
          "end_time": "2021-01-30T23:01:33.595134",
          "exception": false,
          "start_time": "2021-01-30T23:01:33.511213",
          "status": "completed"
        },
        "tags": [],
        "id": "sl1SHWICobQh",
        "outputId": "819f7432-4f49-451e-e74f-1d493b2cfba0"
      },
      "source": [
        "sum(modelo.predict(x) == y)"
      ],
      "execution_count": null,
      "outputs": [
        {
          "output_type": "execute_result",
          "data": {
            "text/plain": [
              "497"
            ]
          },
          "metadata": {
            "tags": []
          },
          "execution_count": 13
        }
      ]
    },
    {
      "cell_type": "code",
      "metadata": {
        "execution": {
          "iopub.execute_input": "2021-01-30T23:01:33.738761Z",
          "iopub.status.busy": "2021-01-30T23:01:33.737666Z",
          "iopub.status.idle": "2021-01-30T23:01:33.743536Z",
          "shell.execute_reply": "2021-01-30T23:01:33.742918Z"
        },
        "papermill": {
          "duration": 0.081472,
          "end_time": "2021-01-30T23:01:33.743640",
          "exception": false,
          "start_time": "2021-01-30T23:01:33.662168",
          "status": "completed"
        },
        "tags": [],
        "id": "7x-capg1obQh",
        "outputId": "0342d58c-e298-4d31-f026-b6cb3d949935"
      },
      "source": [
        "sum(modelo.predict(x) != y)"
      ],
      "execution_count": null,
      "outputs": [
        {
          "output_type": "execute_result",
          "data": {
            "text/plain": [
              "48"
            ]
          },
          "metadata": {
            "tags": []
          },
          "execution_count": 14
        }
      ]
    },
    {
      "cell_type": "code",
      "metadata": {
        "execution": {
          "iopub.execute_input": "2021-01-30T23:01:33.845657Z",
          "iopub.status.busy": "2021-01-30T23:01:33.843900Z",
          "iopub.status.idle": "2021-01-30T23:01:33.849851Z",
          "shell.execute_reply": "2021-01-30T23:01:33.849235Z"
        },
        "papermill": {
          "duration": 0.061298,
          "end_time": "2021-01-30T23:01:33.849945",
          "exception": false,
          "start_time": "2021-01-30T23:01:33.788647",
          "status": "completed"
        },
        "tags": [],
        "id": "H0dDroddobQi",
        "outputId": "7465041b-0e80-4111-a365-2b62a684c557"
      },
      "source": [
        "accuracy = sum(modelo.predict(x) == y) / len(y) * 100\n",
        "accuracy"
      ],
      "execution_count": null,
      "outputs": [
        {
          "output_type": "execute_result",
          "data": {
            "text/plain": [
              "91.19266055045871"
            ]
          },
          "metadata": {
            "tags": []
          },
          "execution_count": 15
        }
      ]
    },
    {
      "cell_type": "markdown",
      "metadata": {
        "papermill": {
          "duration": 0.045323,
          "end_time": "2021-01-30T23:01:33.940373",
          "exception": false,
          "start_time": "2021-01-30T23:01:33.895050",
          "status": "completed"
        },
        "tags": [],
        "id": "ghWjKtJ5obQi"
      },
      "source": [
        "### Desafio 03 - Qual o motivo de jogar fora o ICU do dado X? O que acontece se estiver no x? Pq seria bom/ruim? ."
      ]
    },
    {
      "cell_type": "markdown",
      "metadata": {
        "papermill": {
          "duration": 0.04452,
          "end_time": "2021-01-30T23:01:34.029990",
          "exception": false,
          "start_time": "2021-01-30T23:01:33.985470",
          "status": "completed"
        },
        "tags": [],
        "id": "fKZ1l2rSobQi"
      },
      "source": [
        "### Desafio 04 - Pesquisar sobre ética em data science/ciência de dados e inteligência artificial ."
      ]
    },
    {
      "cell_type": "markdown",
      "metadata": {
        "papermill": {
          "duration": 0.04571,
          "end_time": "2021-01-30T23:01:34.121645",
          "exception": false,
          "start_time": "2021-01-30T23:01:34.075935",
          "status": "completed"
        },
        "tags": [],
        "id": "06HuCZckobQi"
      },
      "source": [
        "## 04. Métricas e Avaliações"
      ]
    },
    {
      "cell_type": "code",
      "metadata": {
        "execution": {
          "iopub.execute_input": "2021-01-30T23:01:34.217399Z",
          "iopub.status.busy": "2021-01-30T23:01:34.216747Z",
          "iopub.status.idle": "2021-01-30T23:01:34.224363Z",
          "shell.execute_reply": "2021-01-30T23:01:34.224972Z"
        },
        "papermill": {
          "duration": 0.057796,
          "end_time": "2021-01-30T23:01:34.225105",
          "exception": false,
          "start_time": "2021-01-30T23:01:34.167309",
          "status": "completed"
        },
        "tags": [],
        "id": "sXgvjCEOobQj",
        "outputId": "3cbc4154-dc41-4bfc-b9cc-9dbcec41da0a"
      },
      "source": [
        "y.value_counts()"
      ],
      "execution_count": null,
      "outputs": [
        {
          "output_type": "execute_result",
          "data": {
            "text/plain": [
              "0    281\n",
              "1    264\n",
              "Name: ICU, dtype: int64"
            ]
          },
          "metadata": {
            "tags": []
          },
          "execution_count": 16
        }
      ]
    },
    {
      "cell_type": "code",
      "metadata": {
        "execution": {
          "iopub.execute_input": "2021-01-30T23:01:34.322150Z",
          "iopub.status.busy": "2021-01-30T23:01:34.321530Z",
          "iopub.status.idle": "2021-01-30T23:01:34.334852Z",
          "shell.execute_reply": "2021-01-30T23:01:34.334234Z"
        },
        "papermill": {
          "duration": 0.062911,
          "end_time": "2021-01-30T23:01:34.334960",
          "exception": false,
          "start_time": "2021-01-30T23:01:34.272049",
          "status": "completed"
        },
        "tags": [],
        "id": "mGC2uNaeobQj"
      },
      "source": [
        "from sklearn.dummy import DummyClassifier"
      ],
      "execution_count": null,
      "outputs": []
    },
    {
      "cell_type": "markdown",
      "metadata": {
        "papermill": {
          "duration": 0.046645,
          "end_time": "2021-01-30T23:01:34.427860",
          "exception": false,
          "start_time": "2021-01-30T23:01:34.381215",
          "status": "completed"
        },
        "tags": [],
        "id": "K_IqjZjVobQk"
      },
      "source": [
        "### DummyClassifier\n",
        "Esse modelo na verdade chuta o valor de acordo com a **proporcionalidade**. Sendo assim, ele é uma **base** de um algoritmo ingênuo, estimando pela maioria, ou seja, pela moda.\n",
        "\n",
        "Então, se fosse para chutar algum valor no exemplo acima, o modelo chutaria **0** todos os valores."
      ]
    },
    {
      "cell_type": "code",
      "metadata": {
        "execution": {
          "iopub.execute_input": "2021-01-30T23:01:34.527799Z",
          "iopub.status.busy": "2021-01-30T23:01:34.526930Z",
          "iopub.status.idle": "2021-01-30T23:01:34.542455Z",
          "shell.execute_reply": "2021-01-30T23:01:34.541474Z"
        },
        "papermill": {
          "duration": 0.068318,
          "end_time": "2021-01-30T23:01:34.542619",
          "exception": false,
          "start_time": "2021-01-30T23:01:34.474301",
          "status": "completed"
        },
        "tags": [],
        "id": "Gkw4SVw7obQk",
        "outputId": "afc23773-666b-49af-d928-09c96eb6e8f2"
      },
      "source": [
        "modelo = DummyClassifier(\"most_frequent\")\n",
        "modelo.fit(x, y)\n",
        "sum(modelo.predict(x) == y) / len(y) * 100"
      ],
      "execution_count": null,
      "outputs": [
        {
          "output_type": "stream",
          "text": [
            "/opt/conda/lib/python3.7/site-packages/sklearn/utils/validation.py:70: FutureWarning: Pass strategy=most_frequent as keyword args. From version 0.25 passing these as positional arguments will result in an error\n",
            "  FutureWarning)\n"
          ],
          "name": "stderr"
        },
        {
          "output_type": "execute_result",
          "data": {
            "text/plain": [
              "51.559633027522935"
            ]
          },
          "metadata": {
            "tags": []
          },
          "execution_count": 18
        }
      ]
    },
    {
      "cell_type": "code",
      "metadata": {
        "execution": {
          "iopub.execute_input": "2021-01-30T23:01:34.691630Z",
          "iopub.status.busy": "2021-01-30T23:01:34.690774Z",
          "iopub.status.idle": "2021-01-30T23:01:34.694711Z",
          "shell.execute_reply": "2021-01-30T23:01:34.693875Z"
        },
        "papermill": {
          "duration": 0.080254,
          "end_time": "2021-01-30T23:01:34.694845",
          "exception": false,
          "start_time": "2021-01-30T23:01:34.614591",
          "status": "completed"
        },
        "tags": [],
        "id": "roz2SfoJobQk"
      },
      "source": [
        "from sklearn.metrics import accuracy_score"
      ],
      "execution_count": null,
      "outputs": []
    },
    {
      "cell_type": "markdown",
      "metadata": {
        "papermill": {
          "duration": 0.070831,
          "end_time": "2021-01-30T23:01:34.837613",
          "exception": false,
          "start_time": "2021-01-30T23:01:34.766782",
          "status": "completed"
        },
        "tags": [],
        "id": "6IcJEONlobQk"
      },
      "source": [
        "### Acurácia\n",
        "Basicamente, é a taxa de acerto do que foi predito em relação ao que foi testado."
      ]
    },
    {
      "cell_type": "code",
      "metadata": {
        "execution": {
          "iopub.execute_input": "2021-01-30T23:01:34.989252Z",
          "iopub.status.busy": "2021-01-30T23:01:34.988183Z",
          "iopub.status.idle": "2021-01-30T23:01:34.995424Z",
          "shell.execute_reply": "2021-01-30T23:01:34.994645Z"
        },
        "papermill": {
          "duration": 0.086679,
          "end_time": "2021-01-30T23:01:34.995562",
          "exception": false,
          "start_time": "2021-01-30T23:01:34.908883",
          "status": "completed"
        },
        "tags": [],
        "id": "txOEkzbBobQl",
        "outputId": "fa051e14-db9e-4825-e373-869e28a4f9a2"
      },
      "source": [
        "accuracy_score(y, modelo.predict(x))"
      ],
      "execution_count": null,
      "outputs": [
        {
          "output_type": "execute_result",
          "data": {
            "text/plain": [
              "0.5155963302752293"
            ]
          },
          "metadata": {
            "tags": []
          },
          "execution_count": 20
        }
      ]
    },
    {
      "cell_type": "markdown",
      "metadata": {
        "papermill": {
          "duration": 0.072476,
          "end_time": "2021-01-30T23:01:35.141559",
          "exception": false,
          "start_time": "2021-01-30T23:01:35.069083",
          "status": "completed"
        },
        "tags": [],
        "id": "EEz4Y6yzobQl"
      },
      "source": [
        "Repare que o resultado foi o mesmo da célula passada."
      ]
    },
    {
      "cell_type": "code",
      "metadata": {
        "execution": {
          "iopub.execute_input": "2021-01-30T23:01:35.292066Z",
          "iopub.status.busy": "2021-01-30T23:01:35.291212Z",
          "iopub.status.idle": "2021-01-30T23:01:35.298294Z",
          "shell.execute_reply": "2021-01-30T23:01:35.297601Z"
        },
        "papermill": {
          "duration": 0.083589,
          "end_time": "2021-01-30T23:01:35.298431",
          "exception": false,
          "start_time": "2021-01-30T23:01:35.214842",
          "status": "completed"
        },
        "tags": [],
        "id": "GkDPvrq9obQl"
      },
      "source": [
        "import numpy as np\n",
        "\n",
        "np.random.seed(73246)"
      ],
      "execution_count": null,
      "outputs": []
    },
    {
      "cell_type": "code",
      "metadata": {
        "execution": {
          "iopub.execute_input": "2021-01-30T23:01:35.446882Z",
          "iopub.status.busy": "2021-01-30T23:01:35.446052Z",
          "iopub.status.idle": "2021-01-30T23:01:35.452449Z",
          "shell.execute_reply": "2021-01-30T23:01:35.451665Z"
        },
        "papermill": {
          "duration": 0.081454,
          "end_time": "2021-01-30T23:01:35.452587",
          "exception": false,
          "start_time": "2021-01-30T23:01:35.371133",
          "status": "completed"
        },
        "tags": [],
        "id": "opgZiIasobQl"
      },
      "source": [
        "from sklearn.model_selection import train_test_split"
      ],
      "execution_count": null,
      "outputs": []
    },
    {
      "cell_type": "code",
      "metadata": {
        "execution": {
          "iopub.execute_input": "2021-01-30T23:01:35.604848Z",
          "iopub.status.busy": "2021-01-30T23:01:35.601089Z",
          "iopub.status.idle": "2021-01-30T23:01:35.613210Z",
          "shell.execute_reply": "2021-01-30T23:01:35.612476Z"
        },
        "papermill": {
          "duration": 0.088526,
          "end_time": "2021-01-30T23:01:35.613378",
          "exception": false,
          "start_time": "2021-01-30T23:01:35.524852",
          "status": "completed"
        },
        "tags": [],
        "id": "-2irRC1-obQl"
      },
      "source": [
        "x_train, x_test, y_train, y_test = train_test_split(x, y, stratify=y)"
      ],
      "execution_count": null,
      "outputs": []
    },
    {
      "cell_type": "code",
      "metadata": {
        "execution": {
          "iopub.execute_input": "2021-01-30T23:01:35.766925Z",
          "iopub.status.busy": "2021-01-30T23:01:35.766075Z",
          "iopub.status.idle": "2021-01-30T23:01:35.770082Z",
          "shell.execute_reply": "2021-01-30T23:01:35.769243Z"
        },
        "papermill": {
          "duration": 0.08347,
          "end_time": "2021-01-30T23:01:35.770204",
          "exception": false,
          "start_time": "2021-01-30T23:01:35.686734",
          "status": "completed"
        },
        "tags": [],
        "id": "rEaxoKpTobQm",
        "outputId": "ab31844c-a381-4022-a9b6-ddc8bdb5ca5f"
      },
      "source": [
        "print(f'Nº de pacientes para treinar (input -> x): {len(x_train)}')\n",
        "print(f'Nº de pacientes para treinar (o que é tal amostra -> y): {len(y_train)}')\n",
        "print(f'Nº de pacientes para testar (input -> x): {len(x_test)}')\n",
        "print(f'Nº de pacientes para testar (o que é tal amostra -> y): {len(y_test)}')"
      ],
      "execution_count": null,
      "outputs": [
        {
          "output_type": "stream",
          "text": [
            "Nº de pacientes para treinar (input -> x): 408\n",
            "Nº de pacientes para treinar (o que é tal amostra -> y): 408\n",
            "Nº de pacientes para testar (input -> x): 137\n",
            "Nº de pacientes para testar (o que é tal amostra -> y): 137\n"
          ],
          "name": "stdout"
        }
      ]
    },
    {
      "cell_type": "code",
      "metadata": {
        "execution": {
          "iopub.execute_input": "2021-01-30T23:01:35.930904Z",
          "iopub.status.busy": "2021-01-30T23:01:35.930074Z",
          "iopub.status.idle": "2021-01-30T23:01:35.994388Z",
          "shell.execute_reply": "2021-01-30T23:01:35.993806Z"
        },
        "papermill": {
          "duration": 0.15045,
          "end_time": "2021-01-30T23:01:35.994496",
          "exception": false,
          "start_time": "2021-01-30T23:01:35.844046",
          "status": "completed"
        },
        "tags": [],
        "id": "-f7fFhRYobQm",
        "outputId": "2c5eea82-97d6-40b9-8eb7-966c469d13db"
      },
      "source": [
        "modelo = LogisticRegression()\n",
        "modelo.fit(x_train, y_train)\n",
        "\n",
        "y_prediction = modelo.predict(x_test)\n",
        "accuracy_score(y_test, y_prediction)"
      ],
      "execution_count": null,
      "outputs": [
        {
          "output_type": "stream",
          "text": [
            "/opt/conda/lib/python3.7/site-packages/sklearn/linear_model/_logistic.py:764: ConvergenceWarning: lbfgs failed to converge (status=1):\n",
            "STOP: TOTAL NO. of ITERATIONS REACHED LIMIT.\n",
            "\n",
            "Increase the number of iterations (max_iter) or scale the data as shown in:\n",
            "    https://scikit-learn.org/stable/modules/preprocessing.html\n",
            "Please also refer to the documentation for alternative solver options:\n",
            "    https://scikit-learn.org/stable/modules/linear_model.html#logistic-regression\n",
            "  extra_warning_msg=_LOGISTIC_SOLVER_CONVERGENCE_MSG)\n"
          ],
          "name": "stderr"
        },
        {
          "output_type": "execute_result",
          "data": {
            "text/plain": [
              "0.8394160583941606"
            ]
          },
          "metadata": {
            "tags": []
          },
          "execution_count": 25
        }
      ]
    },
    {
      "cell_type": "markdown",
      "metadata": {
        "papermill": {
          "duration": 0.050553,
          "end_time": "2021-01-30T23:01:36.095326",
          "exception": false,
          "start_time": "2021-01-30T23:01:36.044773",
          "status": "completed"
        },
        "tags": [],
        "id": "7H-Esch6obQm"
      },
      "source": [
        "**Observação 1:** se rodarmos nosso modelo novamente, muito provavelmente chegaremos em acurácias distintas. Isso acontece justamente porque o modelo matemático é sim o mesmo, porém os valores que vamos pegando do dataframe, de forma aleatória, é **diferente**! Para definir um único \"modo\" aleatório, precisamos definir o argumento ***random_state***, no *train_test_split*.\n",
        "\n",
        "**Observação 2:** o train_test_split utiliza o numpy por trás dos panos, ou seja, se definirmos a seed antes, com o numpy, não precisamos mexer no *random_state*.\n",
        "\n",
        "**Observação 3:** o *train_test_split* divide o treino e o teste de forma aleatória, e por padrão, coloca uma proporção de 75% para treino e 25% para teste. Entretanto, ninguém garante que os valores que estão dentro do treino são proporcionais aos que estão dentro do teste, por exemplo, 50% de 0 e 50% de 1 no treino, assim como 50% de 0 e 50% de 1 no teste. Para definir essas porcentagens internas, precisamos definir o argumento ***stratify*** (estratificar), no train_test_split.\n",
        "\n",
        "**Observação 4:** se colocarmos ***stratify*** = y, estamos dizendo: \"estratifique de acordo com a proporcionalidade dos valores que existem no y\""
      ]
    },
    {
      "cell_type": "code",
      "metadata": {
        "execution": {
          "iopub.execute_input": "2021-01-30T23:01:36.205778Z",
          "iopub.status.busy": "2021-01-30T23:01:36.204835Z",
          "iopub.status.idle": "2021-01-30T23:01:36.211105Z",
          "shell.execute_reply": "2021-01-30T23:01:36.210533Z"
        },
        "papermill": {
          "duration": 0.065369,
          "end_time": "2021-01-30T23:01:36.211210",
          "exception": false,
          "start_time": "2021-01-30T23:01:36.145841",
          "status": "completed"
        },
        "tags": [],
        "id": "SKK2iOUQobQn",
        "outputId": "50ec0a55-32d9-4a64-c8bb-c33a10f7aafa"
      },
      "source": [
        "y_train.value_counts(normalize=True)"
      ],
      "execution_count": null,
      "outputs": [
        {
          "output_type": "execute_result",
          "data": {
            "text/plain": [
              "0    0.514706\n",
              "1    0.485294\n",
              "Name: ICU, dtype: float64"
            ]
          },
          "metadata": {
            "tags": []
          },
          "execution_count": 26
        }
      ]
    },
    {
      "cell_type": "code",
      "metadata": {
        "execution": {
          "iopub.execute_input": "2021-01-30T23:01:36.325896Z",
          "iopub.status.busy": "2021-01-30T23:01:36.325005Z",
          "iopub.status.idle": "2021-01-30T23:01:36.328917Z",
          "shell.execute_reply": "2021-01-30T23:01:36.328165Z"
        },
        "papermill": {
          "duration": 0.064283,
          "end_time": "2021-01-30T23:01:36.329057",
          "exception": false,
          "start_time": "2021-01-30T23:01:36.264774",
          "status": "completed"
        },
        "tags": [],
        "id": "ExH6ARiiobQn",
        "outputId": "b73ce137-b159-4fb0-860d-df3c6c5fdb83"
      },
      "source": [
        "y_test.value_counts(normalize=True)"
      ],
      "execution_count": null,
      "outputs": [
        {
          "output_type": "execute_result",
          "data": {
            "text/plain": [
              "0    0.518248\n",
              "1    0.481752\n",
              "Name: ICU, dtype: float64"
            ]
          },
          "metadata": {
            "tags": []
          },
          "execution_count": 27
        }
      ]
    },
    {
      "cell_type": "markdown",
      "metadata": {
        "papermill": {
          "duration": 0.076754,
          "end_time": "2021-01-30T23:01:36.483312",
          "exception": false,
          "start_time": "2021-01-30T23:01:36.406558",
          "status": "completed"
        },
        "tags": [],
        "id": "k05lM1VPobQn"
      },
      "source": [
        "### Desafio 05 - Decida quanto você vai escolher para treino e quanto para teste. Quanto as pessoas utilizam e qual o motivo?"
      ]
    },
    {
      "cell_type": "markdown",
      "metadata": {
        "papermill": {
          "duration": 0.077544,
          "end_time": "2021-01-30T23:01:36.638469",
          "exception": false,
          "start_time": "2021-01-30T23:01:36.560925",
          "status": "completed"
        },
        "tags": [],
        "id": "QgDRnhcVobQn"
      },
      "source": [
        "> In a draft copy currently being written by Andrew Ng, he discusses about the amount of data in train-test dataset. My understanding from the book, The traditional and most common value is 70-30 or 75-25. If you have 10k or 30k samples, it is fine to go with 70-30 split. But when dealing with Big-data, for example if you have 1 million samples, it is not recommended to have 30k samples as test data, so in that case, 90-10 is actually okay. Because 10k test samples can pretty much provide an intuition about the model.\n",
        "\n",
        "> in brief: for less samples, go with recommended 70-30 split, for much higher samples, go with number of samples 90-10.\n",
        "\n",
        "link: https://datascience.stackexchange.com/questions/15804/which-train-test-split-performs-better-5050-or-6040"
      ]
    },
    {
      "cell_type": "markdown",
      "metadata": {
        "papermill": {
          "duration": 0.076605,
          "end_time": "2021-01-30T23:01:36.791803",
          "exception": false,
          "start_time": "2021-01-30T23:01:36.715198",
          "status": "completed"
        },
        "tags": [],
        "id": "wviiXB2nobQo"
      },
      "source": [
        "### Desafio 06 - Olhe a documentação da LogisticRegression... o que tem de parâmetro em comum com o train_test_split? O que isso significa pra nós? ."
      ]
    },
    {
      "cell_type": "markdown",
      "metadata": {
        "papermill": {
          "duration": 0.077335,
          "end_time": "2021-01-30T23:01:36.946134",
          "exception": false,
          "start_time": "2021-01-30T23:01:36.868799",
          "status": "completed"
        },
        "tags": [],
        "id": "cIJkiI_3obQo"
      },
      "source": [
        "O parâmetro ***random_state*** é comum às duas funções, entretanto, fazem coisas distintas.\n",
        "\n",
        "O r*andom_state* da *LogisticRegression()* é um código para padronizar a aleatoriedade, assim como no train_test_split, porém esse é definido de acordo com um outro argumento da *LogisticRegression()*, ***o solver***. Este argumento basicamente otimiza o modelo de acordo com algumas condições, são estas em inglês (documentação):\n",
        "\n",
        "- For small datasets, ‘*liblinear*’ is a good choice, whereas ‘*sag*’ and ‘*saga*’ are faster for large ones.\n",
        "\n",
        "- For multiclass problems, only ‘*newton-cg*’, ‘*sag*’, ‘saga’ and ‘*lbfgs*’ handle multinomial loss; ‘*liblinear*’ is limited to one-versus-rest schemes.\n",
        "\n",
        "- ‘*newton-cg*’, ‘*lbfgs*’, ‘sag’ and ‘saga’ handle L2 or no penalty\n",
        "\n",
        "- ‘*liblinear*’ and ‘*saga*’ also handle L1 penalty\n",
        "\n",
        "- ‘*saga*’ also supports ‘*elasticnet*’ penalty\n",
        "\n",
        "- ‘*liblinear*’ does not support setting penalty='*none*'\n",
        "\n",
        "Já o do *train_test_split* é o que foi relatado anteriormente."
      ]
    },
    {
      "cell_type": "markdown",
      "metadata": {
        "papermill": {
          "duration": 0.076744,
          "end_time": "2021-01-30T23:01:37.099227",
          "exception": false,
          "start_time": "2021-01-30T23:01:37.022483",
          "status": "completed"
        },
        "tags": [],
        "id": "dY2q4ArzobQo"
      },
      "source": [
        "## 05. Compreendendo o problema real"
      ]
    },
    {
      "cell_type": "code",
      "metadata": {
        "execution": {
          "iopub.execute_input": "2021-01-30T23:01:37.259192Z",
          "iopub.status.busy": "2021-01-30T23:01:37.258425Z",
          "iopub.status.idle": "2021-01-30T23:01:42.913608Z",
          "shell.execute_reply": "2021-01-30T23:01:42.912738Z"
        },
        "papermill": {
          "duration": 5.736739,
          "end_time": "2021-01-30T23:01:42.913737",
          "exception": false,
          "start_time": "2021-01-30T23:01:37.176998",
          "status": "completed"
        },
        "tags": [],
        "id": "tkNSy0-2obQp",
        "outputId": "109f22a5-e6c2-4505-83b2-d3cb20c1178b"
      },
      "source": [
        "dados = pd.read_excel('/kaggle/input/covid19/Kaggle_Sirio_Libanes_ICU_Prediction.xlsx')\n",
        "dados.head()"
      ],
      "execution_count": null,
      "outputs": [
        {
          "output_type": "execute_result",
          "data": {
            "text/html": [
              "<div>\n",
              "<style scoped>\n",
              "    .dataframe tbody tr th:only-of-type {\n",
              "        vertical-align: middle;\n",
              "    }\n",
              "\n",
              "    .dataframe tbody tr th {\n",
              "        vertical-align: top;\n",
              "    }\n",
              "\n",
              "    .dataframe thead th {\n",
              "        text-align: right;\n",
              "    }\n",
              "</style>\n",
              "<table border=\"1\" class=\"dataframe\">\n",
              "  <thead>\n",
              "    <tr style=\"text-align: right;\">\n",
              "      <th></th>\n",
              "      <th>PATIENT_VISIT_IDENTIFIER</th>\n",
              "      <th>AGE_ABOVE65</th>\n",
              "      <th>AGE_PERCENTIL</th>\n",
              "      <th>GENDER</th>\n",
              "      <th>DISEASE GROUPING 1</th>\n",
              "      <th>DISEASE GROUPING 2</th>\n",
              "      <th>DISEASE GROUPING 3</th>\n",
              "      <th>DISEASE GROUPING 4</th>\n",
              "      <th>DISEASE GROUPING 5</th>\n",
              "      <th>DISEASE GROUPING 6</th>\n",
              "      <th>...</th>\n",
              "      <th>TEMPERATURE_DIFF</th>\n",
              "      <th>OXYGEN_SATURATION_DIFF</th>\n",
              "      <th>BLOODPRESSURE_DIASTOLIC_DIFF_REL</th>\n",
              "      <th>BLOODPRESSURE_SISTOLIC_DIFF_REL</th>\n",
              "      <th>HEART_RATE_DIFF_REL</th>\n",
              "      <th>RESPIRATORY_RATE_DIFF_REL</th>\n",
              "      <th>TEMPERATURE_DIFF_REL</th>\n",
              "      <th>OXYGEN_SATURATION_DIFF_REL</th>\n",
              "      <th>WINDOW</th>\n",
              "      <th>ICU</th>\n",
              "    </tr>\n",
              "  </thead>\n",
              "  <tbody>\n",
              "    <tr>\n",
              "      <th>0</th>\n",
              "      <td>0</td>\n",
              "      <td>1</td>\n",
              "      <td>60th</td>\n",
              "      <td>0</td>\n",
              "      <td>0.0</td>\n",
              "      <td>0.0</td>\n",
              "      <td>0.0</td>\n",
              "      <td>0.0</td>\n",
              "      <td>1.0</td>\n",
              "      <td>1.0</td>\n",
              "      <td>...</td>\n",
              "      <td>-1.000000</td>\n",
              "      <td>-1.000000</td>\n",
              "      <td>-1.000000</td>\n",
              "      <td>-1.000000</td>\n",
              "      <td>-1.000000</td>\n",
              "      <td>-1.000000</td>\n",
              "      <td>-1.000000</td>\n",
              "      <td>-1.000000</td>\n",
              "      <td>0-2</td>\n",
              "      <td>0</td>\n",
              "    </tr>\n",
              "    <tr>\n",
              "      <th>1</th>\n",
              "      <td>0</td>\n",
              "      <td>1</td>\n",
              "      <td>60th</td>\n",
              "      <td>0</td>\n",
              "      <td>0.0</td>\n",
              "      <td>0.0</td>\n",
              "      <td>0.0</td>\n",
              "      <td>0.0</td>\n",
              "      <td>1.0</td>\n",
              "      <td>1.0</td>\n",
              "      <td>...</td>\n",
              "      <td>-1.000000</td>\n",
              "      <td>-1.000000</td>\n",
              "      <td>-1.000000</td>\n",
              "      <td>-1.000000</td>\n",
              "      <td>-1.000000</td>\n",
              "      <td>-1.000000</td>\n",
              "      <td>-1.000000</td>\n",
              "      <td>-1.000000</td>\n",
              "      <td>2-4</td>\n",
              "      <td>0</td>\n",
              "    </tr>\n",
              "    <tr>\n",
              "      <th>2</th>\n",
              "      <td>0</td>\n",
              "      <td>1</td>\n",
              "      <td>60th</td>\n",
              "      <td>0</td>\n",
              "      <td>0.0</td>\n",
              "      <td>0.0</td>\n",
              "      <td>0.0</td>\n",
              "      <td>0.0</td>\n",
              "      <td>1.0</td>\n",
              "      <td>1.0</td>\n",
              "      <td>...</td>\n",
              "      <td>NaN</td>\n",
              "      <td>NaN</td>\n",
              "      <td>NaN</td>\n",
              "      <td>NaN</td>\n",
              "      <td>NaN</td>\n",
              "      <td>NaN</td>\n",
              "      <td>NaN</td>\n",
              "      <td>NaN</td>\n",
              "      <td>4-6</td>\n",
              "      <td>0</td>\n",
              "    </tr>\n",
              "    <tr>\n",
              "      <th>3</th>\n",
              "      <td>0</td>\n",
              "      <td>1</td>\n",
              "      <td>60th</td>\n",
              "      <td>0</td>\n",
              "      <td>0.0</td>\n",
              "      <td>0.0</td>\n",
              "      <td>0.0</td>\n",
              "      <td>0.0</td>\n",
              "      <td>1.0</td>\n",
              "      <td>1.0</td>\n",
              "      <td>...</td>\n",
              "      <td>-1.000000</td>\n",
              "      <td>-1.000000</td>\n",
              "      <td>NaN</td>\n",
              "      <td>NaN</td>\n",
              "      <td>NaN</td>\n",
              "      <td>NaN</td>\n",
              "      <td>-1.000000</td>\n",
              "      <td>-1.000000</td>\n",
              "      <td>6-12</td>\n",
              "      <td>0</td>\n",
              "    </tr>\n",
              "    <tr>\n",
              "      <th>4</th>\n",
              "      <td>0</td>\n",
              "      <td>1</td>\n",
              "      <td>60th</td>\n",
              "      <td>0</td>\n",
              "      <td>0.0</td>\n",
              "      <td>0.0</td>\n",
              "      <td>0.0</td>\n",
              "      <td>0.0</td>\n",
              "      <td>1.0</td>\n",
              "      <td>1.0</td>\n",
              "      <td>...</td>\n",
              "      <td>-0.238095</td>\n",
              "      <td>-0.818182</td>\n",
              "      <td>-0.389967</td>\n",
              "      <td>0.407558</td>\n",
              "      <td>-0.230462</td>\n",
              "      <td>0.096774</td>\n",
              "      <td>-0.242282</td>\n",
              "      <td>-0.814433</td>\n",
              "      <td>ABOVE_12</td>\n",
              "      <td>1</td>\n",
              "    </tr>\n",
              "  </tbody>\n",
              "</table>\n",
              "<p>5 rows × 231 columns</p>\n",
              "</div>"
            ],
            "text/plain": [
              "   PATIENT_VISIT_IDENTIFIER  AGE_ABOVE65 AGE_PERCENTIL  GENDER  \\\n",
              "0                         0            1          60th       0   \n",
              "1                         0            1          60th       0   \n",
              "2                         0            1          60th       0   \n",
              "3                         0            1          60th       0   \n",
              "4                         0            1          60th       0   \n",
              "\n",
              "   DISEASE GROUPING 1  DISEASE GROUPING 2  DISEASE GROUPING 3  \\\n",
              "0                 0.0                 0.0                 0.0   \n",
              "1                 0.0                 0.0                 0.0   \n",
              "2                 0.0                 0.0                 0.0   \n",
              "3                 0.0                 0.0                 0.0   \n",
              "4                 0.0                 0.0                 0.0   \n",
              "\n",
              "   DISEASE GROUPING 4  DISEASE GROUPING 5  DISEASE GROUPING 6  ...  \\\n",
              "0                 0.0                 1.0                 1.0  ...   \n",
              "1                 0.0                 1.0                 1.0  ...   \n",
              "2                 0.0                 1.0                 1.0  ...   \n",
              "3                 0.0                 1.0                 1.0  ...   \n",
              "4                 0.0                 1.0                 1.0  ...   \n",
              "\n",
              "   TEMPERATURE_DIFF  OXYGEN_SATURATION_DIFF  BLOODPRESSURE_DIASTOLIC_DIFF_REL  \\\n",
              "0         -1.000000               -1.000000                         -1.000000   \n",
              "1         -1.000000               -1.000000                         -1.000000   \n",
              "2               NaN                     NaN                               NaN   \n",
              "3         -1.000000               -1.000000                               NaN   \n",
              "4         -0.238095               -0.818182                         -0.389967   \n",
              "\n",
              "   BLOODPRESSURE_SISTOLIC_DIFF_REL  HEART_RATE_DIFF_REL  \\\n",
              "0                        -1.000000            -1.000000   \n",
              "1                        -1.000000            -1.000000   \n",
              "2                              NaN                  NaN   \n",
              "3                              NaN                  NaN   \n",
              "4                         0.407558            -0.230462   \n",
              "\n",
              "   RESPIRATORY_RATE_DIFF_REL  TEMPERATURE_DIFF_REL  \\\n",
              "0                  -1.000000             -1.000000   \n",
              "1                  -1.000000             -1.000000   \n",
              "2                        NaN                   NaN   \n",
              "3                        NaN             -1.000000   \n",
              "4                   0.096774             -0.242282   \n",
              "\n",
              "   OXYGEN_SATURATION_DIFF_REL    WINDOW  ICU  \n",
              "0                   -1.000000       0-2    0  \n",
              "1                   -1.000000       2-4    0  \n",
              "2                         NaN       4-6    0  \n",
              "3                   -1.000000      6-12    0  \n",
              "4                   -0.814433  ABOVE_12    1  \n",
              "\n",
              "[5 rows x 231 columns]"
            ]
          },
          "metadata": {
            "tags": []
          },
          "execution_count": 28
        }
      ]
    },
    {
      "cell_type": "markdown",
      "metadata": {
        "papermill": {
          "duration": 0.077806,
          "end_time": "2021-01-30T23:01:43.069945",
          "exception": false,
          "start_time": "2021-01-30T23:01:42.992139",
          "status": "completed"
        },
        "tags": [],
        "id": "q5U6_yk5obQp"
      },
      "source": [
        "Antes de colocarmos o nosso modelo de ML em prática, deveríamos ter entendido melhor nossa base de dados. \n",
        "\n",
        "Se repararmos, a coluna \"*PATIENT_VISIT_IDENTIFIER*\" é o ID da pessoa que está sendo avaliada. Entretanto, existem vários ID's iguais, por quê?\n",
        "\n",
        "A resposta está [aqui](https://www.kaggle.com/S%C3%ADrio-Libanes/covid19), isso simplesmente acontece pois a avaliação do sangue do paciente foi feita em momentos distintos. Neste link, eles usam janelas separadas de 2 em 2 horas (\"*WINDOW*\"), até a categoria \"*ABOVE_12*\".\n",
        "\n",
        "Na teoria, não há a necessidade de saber o que acontece depois que a pessoa foi para a UTI, e sim o que houve **antes**, pois queremos predizer a partir de características anteriores a ida para este lugar. Além disso, se a pessoa foi para a UTI direto (antes da categoria \"0-2\"), nem precisamos avaliar a situação do paciente, só irá atrapalhar o nosso modelo! Ou seja, podemos descartar tal pessoa.\n",
        "\n",
        "Também perceba que existem valores faltantes no dataframe, e a resposta mais imediata para estes é preenchê-los de acordo com o momento anterior ou posterior a aquele valor vazio, pois não haveriam oscilações tão drásticas de um momento para o outro, no exame de sangue.\n",
        "\n",
        "Sendo assim, precisamos fazer 2 coisas antes de modelarmos os dados:\n",
        "- Preencher os valores contínuos faltantes com os números anteriores ou posteriores na coluna;\n",
        "- Retirar os pacientes que, teoricamente, foram direto para a UTI (\"*WINDOW*\" = \"0-2\")."
      ]
    },
    {
      "cell_type": "code",
      "metadata": {
        "execution": {
          "iopub.execute_input": "2021-01-30T23:01:43.235251Z",
          "iopub.status.busy": "2021-01-30T23:01:43.234230Z",
          "iopub.status.idle": "2021-01-30T23:01:43.241574Z",
          "shell.execute_reply": "2021-01-30T23:01:43.240684Z"
        },
        "papermill": {
          "duration": 0.09317,
          "end_time": "2021-01-30T23:01:43.241711",
          "exception": false,
          "start_time": "2021-01-30T23:01:43.148541",
          "status": "completed"
        },
        "tags": [],
        "id": "VdFFHNcAobQp",
        "outputId": "ca05b810-c203-4166-c1d0-9562676f354c"
      },
      "source": [
        "# Selecionando as features que são contínuas\n",
        "features_continuas = dados.iloc[:, 13:-2].columns\n",
        "features_continuas"
      ],
      "execution_count": null,
      "outputs": [
        {
          "output_type": "execute_result",
          "data": {
            "text/plain": [
              "Index(['ALBUMIN_MEDIAN', 'ALBUMIN_MEAN', 'ALBUMIN_MIN', 'ALBUMIN_MAX',\n",
              "       'ALBUMIN_DIFF', 'BE_ARTERIAL_MEDIAN', 'BE_ARTERIAL_MEAN',\n",
              "       'BE_ARTERIAL_MIN', 'BE_ARTERIAL_MAX', 'BE_ARTERIAL_DIFF',\n",
              "       ...\n",
              "       'HEART_RATE_DIFF', 'RESPIRATORY_RATE_DIFF', 'TEMPERATURE_DIFF',\n",
              "       'OXYGEN_SATURATION_DIFF', 'BLOODPRESSURE_DIASTOLIC_DIFF_REL',\n",
              "       'BLOODPRESSURE_SISTOLIC_DIFF_REL', 'HEART_RATE_DIFF_REL',\n",
              "       'RESPIRATORY_RATE_DIFF_REL', 'TEMPERATURE_DIFF_REL',\n",
              "       'OXYGEN_SATURATION_DIFF_REL'],\n",
              "      dtype='object', length=216)"
            ]
          },
          "metadata": {
            "tags": []
          },
          "execution_count": 29
        }
      ]
    },
    {
      "cell_type": "code",
      "metadata": {
        "execution": {
          "iopub.execute_input": "2021-01-30T23:01:43.410902Z",
          "iopub.status.busy": "2021-01-30T23:01:43.410236Z",
          "iopub.status.idle": "2021-01-30T23:01:43.414650Z",
          "shell.execute_reply": "2021-01-30T23:01:43.413877Z"
        },
        "papermill": {
          "duration": 0.093627,
          "end_time": "2021-01-30T23:01:43.414785",
          "exception": false,
          "start_time": "2021-01-30T23:01:43.321158",
          "status": "completed"
        },
        "tags": [],
        "id": "V49x7JEfobQq"
      },
      "source": [
        "def preenche_tabela(df):\n",
        "    features_continuas_colunas = df.iloc[:, 13:-2].columns\n",
        "    features_continuas = df.groupby('PATIENT_VISIT_IDENTIFIER', as_index=False)[features_continuas_colunas].fillna(method='bfill').fillna(method='ffill')\n",
        "    features_categoricas = df.iloc[:, :13]\n",
        "    saida = df.iloc[:, -2:]\n",
        "    dados_finais = pd.concat([features_categoricas, features_continuas, saida], ignore_index=True, axis=1)\n",
        "    dados_finais.columns = df.columns\n",
        "    return dados_finais"
      ],
      "execution_count": null,
      "outputs": []
    },
    {
      "cell_type": "code",
      "metadata": {
        "execution": {
          "iopub.execute_input": "2021-01-30T23:01:43.580586Z",
          "iopub.status.busy": "2021-01-30T23:01:43.579647Z",
          "iopub.status.idle": "2021-01-30T23:01:43.871587Z",
          "shell.execute_reply": "2021-01-30T23:01:43.870851Z"
        },
        "papermill": {
          "duration": 0.377847,
          "end_time": "2021-01-30T23:01:43.871718",
          "exception": false,
          "start_time": "2021-01-30T23:01:43.493871",
          "status": "completed"
        },
        "tags": [],
        "id": "nEhXC4b1obQr",
        "outputId": "cb2297a5-db15-4423-97f4-8fa383259277"
      },
      "source": [
        "# Preenchendo os valores faltantes\n",
        "dados_limpos = preenche_tabela(dados)\n",
        "dados_limpos.head()"
      ],
      "execution_count": null,
      "outputs": [
        {
          "output_type": "execute_result",
          "data": {
            "text/html": [
              "<div>\n",
              "<style scoped>\n",
              "    .dataframe tbody tr th:only-of-type {\n",
              "        vertical-align: middle;\n",
              "    }\n",
              "\n",
              "    .dataframe tbody tr th {\n",
              "        vertical-align: top;\n",
              "    }\n",
              "\n",
              "    .dataframe thead th {\n",
              "        text-align: right;\n",
              "    }\n",
              "</style>\n",
              "<table border=\"1\" class=\"dataframe\">\n",
              "  <thead>\n",
              "    <tr style=\"text-align: right;\">\n",
              "      <th></th>\n",
              "      <th>PATIENT_VISIT_IDENTIFIER</th>\n",
              "      <th>AGE_ABOVE65</th>\n",
              "      <th>AGE_PERCENTIL</th>\n",
              "      <th>GENDER</th>\n",
              "      <th>DISEASE GROUPING 1</th>\n",
              "      <th>DISEASE GROUPING 2</th>\n",
              "      <th>DISEASE GROUPING 3</th>\n",
              "      <th>DISEASE GROUPING 4</th>\n",
              "      <th>DISEASE GROUPING 5</th>\n",
              "      <th>DISEASE GROUPING 6</th>\n",
              "      <th>...</th>\n",
              "      <th>TEMPERATURE_DIFF</th>\n",
              "      <th>OXYGEN_SATURATION_DIFF</th>\n",
              "      <th>BLOODPRESSURE_DIASTOLIC_DIFF_REL</th>\n",
              "      <th>BLOODPRESSURE_SISTOLIC_DIFF_REL</th>\n",
              "      <th>HEART_RATE_DIFF_REL</th>\n",
              "      <th>RESPIRATORY_RATE_DIFF_REL</th>\n",
              "      <th>TEMPERATURE_DIFF_REL</th>\n",
              "      <th>OXYGEN_SATURATION_DIFF_REL</th>\n",
              "      <th>WINDOW</th>\n",
              "      <th>ICU</th>\n",
              "    </tr>\n",
              "  </thead>\n",
              "  <tbody>\n",
              "    <tr>\n",
              "      <th>0</th>\n",
              "      <td>0</td>\n",
              "      <td>1</td>\n",
              "      <td>60th</td>\n",
              "      <td>0</td>\n",
              "      <td>0.0</td>\n",
              "      <td>0.0</td>\n",
              "      <td>0.0</td>\n",
              "      <td>0.0</td>\n",
              "      <td>1.0</td>\n",
              "      <td>1.0</td>\n",
              "      <td>...</td>\n",
              "      <td>-1.000000</td>\n",
              "      <td>-1.000000</td>\n",
              "      <td>-1.000000</td>\n",
              "      <td>-1.000000</td>\n",
              "      <td>-1.000000</td>\n",
              "      <td>-1.000000</td>\n",
              "      <td>-1.000000</td>\n",
              "      <td>-1.000000</td>\n",
              "      <td>0-2</td>\n",
              "      <td>0</td>\n",
              "    </tr>\n",
              "    <tr>\n",
              "      <th>1</th>\n",
              "      <td>0</td>\n",
              "      <td>1</td>\n",
              "      <td>60th</td>\n",
              "      <td>0</td>\n",
              "      <td>0.0</td>\n",
              "      <td>0.0</td>\n",
              "      <td>0.0</td>\n",
              "      <td>0.0</td>\n",
              "      <td>1.0</td>\n",
              "      <td>1.0</td>\n",
              "      <td>...</td>\n",
              "      <td>-1.000000</td>\n",
              "      <td>-1.000000</td>\n",
              "      <td>-1.000000</td>\n",
              "      <td>-1.000000</td>\n",
              "      <td>-1.000000</td>\n",
              "      <td>-1.000000</td>\n",
              "      <td>-1.000000</td>\n",
              "      <td>-1.000000</td>\n",
              "      <td>2-4</td>\n",
              "      <td>0</td>\n",
              "    </tr>\n",
              "    <tr>\n",
              "      <th>2</th>\n",
              "      <td>0</td>\n",
              "      <td>1</td>\n",
              "      <td>60th</td>\n",
              "      <td>0</td>\n",
              "      <td>0.0</td>\n",
              "      <td>0.0</td>\n",
              "      <td>0.0</td>\n",
              "      <td>0.0</td>\n",
              "      <td>1.0</td>\n",
              "      <td>1.0</td>\n",
              "      <td>...</td>\n",
              "      <td>-1.000000</td>\n",
              "      <td>-1.000000</td>\n",
              "      <td>-0.389967</td>\n",
              "      <td>0.407558</td>\n",
              "      <td>-0.230462</td>\n",
              "      <td>0.096774</td>\n",
              "      <td>-1.000000</td>\n",
              "      <td>-1.000000</td>\n",
              "      <td>4-6</td>\n",
              "      <td>0</td>\n",
              "    </tr>\n",
              "    <tr>\n",
              "      <th>3</th>\n",
              "      <td>0</td>\n",
              "      <td>1</td>\n",
              "      <td>60th</td>\n",
              "      <td>0</td>\n",
              "      <td>0.0</td>\n",
              "      <td>0.0</td>\n",
              "      <td>0.0</td>\n",
              "      <td>0.0</td>\n",
              "      <td>1.0</td>\n",
              "      <td>1.0</td>\n",
              "      <td>...</td>\n",
              "      <td>-1.000000</td>\n",
              "      <td>-1.000000</td>\n",
              "      <td>-0.389967</td>\n",
              "      <td>0.407558</td>\n",
              "      <td>-0.230462</td>\n",
              "      <td>0.096774</td>\n",
              "      <td>-1.000000</td>\n",
              "      <td>-1.000000</td>\n",
              "      <td>6-12</td>\n",
              "      <td>0</td>\n",
              "    </tr>\n",
              "    <tr>\n",
              "      <th>4</th>\n",
              "      <td>0</td>\n",
              "      <td>1</td>\n",
              "      <td>60th</td>\n",
              "      <td>0</td>\n",
              "      <td>0.0</td>\n",
              "      <td>0.0</td>\n",
              "      <td>0.0</td>\n",
              "      <td>0.0</td>\n",
              "      <td>1.0</td>\n",
              "      <td>1.0</td>\n",
              "      <td>...</td>\n",
              "      <td>-0.238095</td>\n",
              "      <td>-0.818182</td>\n",
              "      <td>-0.389967</td>\n",
              "      <td>0.407558</td>\n",
              "      <td>-0.230462</td>\n",
              "      <td>0.096774</td>\n",
              "      <td>-0.242282</td>\n",
              "      <td>-0.814433</td>\n",
              "      <td>ABOVE_12</td>\n",
              "      <td>1</td>\n",
              "    </tr>\n",
              "  </tbody>\n",
              "</table>\n",
              "<p>5 rows × 231 columns</p>\n",
              "</div>"
            ],
            "text/plain": [
              "   PATIENT_VISIT_IDENTIFIER  AGE_ABOVE65 AGE_PERCENTIL  GENDER  \\\n",
              "0                         0            1          60th       0   \n",
              "1                         0            1          60th       0   \n",
              "2                         0            1          60th       0   \n",
              "3                         0            1          60th       0   \n",
              "4                         0            1          60th       0   \n",
              "\n",
              "   DISEASE GROUPING 1  DISEASE GROUPING 2  DISEASE GROUPING 3  \\\n",
              "0                 0.0                 0.0                 0.0   \n",
              "1                 0.0                 0.0                 0.0   \n",
              "2                 0.0                 0.0                 0.0   \n",
              "3                 0.0                 0.0                 0.0   \n",
              "4                 0.0                 0.0                 0.0   \n",
              "\n",
              "   DISEASE GROUPING 4  DISEASE GROUPING 5  DISEASE GROUPING 6  ...  \\\n",
              "0                 0.0                 1.0                 1.0  ...   \n",
              "1                 0.0                 1.0                 1.0  ...   \n",
              "2                 0.0                 1.0                 1.0  ...   \n",
              "3                 0.0                 1.0                 1.0  ...   \n",
              "4                 0.0                 1.0                 1.0  ...   \n",
              "\n",
              "   TEMPERATURE_DIFF  OXYGEN_SATURATION_DIFF  BLOODPRESSURE_DIASTOLIC_DIFF_REL  \\\n",
              "0         -1.000000               -1.000000                         -1.000000   \n",
              "1         -1.000000               -1.000000                         -1.000000   \n",
              "2         -1.000000               -1.000000                         -0.389967   \n",
              "3         -1.000000               -1.000000                         -0.389967   \n",
              "4         -0.238095               -0.818182                         -0.389967   \n",
              "\n",
              "   BLOODPRESSURE_SISTOLIC_DIFF_REL  HEART_RATE_DIFF_REL  \\\n",
              "0                        -1.000000            -1.000000   \n",
              "1                        -1.000000            -1.000000   \n",
              "2                         0.407558            -0.230462   \n",
              "3                         0.407558            -0.230462   \n",
              "4                         0.407558            -0.230462   \n",
              "\n",
              "   RESPIRATORY_RATE_DIFF_REL  TEMPERATURE_DIFF_REL  \\\n",
              "0                  -1.000000             -1.000000   \n",
              "1                  -1.000000             -1.000000   \n",
              "2                   0.096774             -1.000000   \n",
              "3                   0.096774             -1.000000   \n",
              "4                   0.096774             -0.242282   \n",
              "\n",
              "   OXYGEN_SATURATION_DIFF_REL    WINDOW  ICU  \n",
              "0                   -1.000000       0-2    0  \n",
              "1                   -1.000000       2-4    0  \n",
              "2                   -1.000000       4-6    0  \n",
              "3                   -1.000000      6-12    0  \n",
              "4                   -0.814433  ABOVE_12    1  \n",
              "\n",
              "[5 rows x 231 columns]"
            ]
          },
          "metadata": {
            "tags": []
          },
          "execution_count": 31
        }
      ]
    },
    {
      "cell_type": "code",
      "metadata": {
        "execution": {
          "iopub.execute_input": "2021-01-30T23:01:44.041109Z",
          "iopub.status.busy": "2021-01-30T23:01:44.039878Z",
          "iopub.status.idle": "2021-01-30T23:01:44.510973Z",
          "shell.execute_reply": "2021-01-30T23:01:44.510245Z"
        },
        "papermill": {
          "duration": 0.559417,
          "end_time": "2021-01-30T23:01:44.511115",
          "exception": false,
          "start_time": "2021-01-30T23:01:43.951698",
          "status": "completed"
        },
        "tags": [],
        "id": "yVl-gF3GobQr",
        "outputId": "79685007-b5b1-4620-827f-e9363ecd1ba7"
      },
      "source": [
        "dados_limpos.describe()"
      ],
      "execution_count": null,
      "outputs": [
        {
          "output_type": "execute_result",
          "data": {
            "text/html": [
              "<div>\n",
              "<style scoped>\n",
              "    .dataframe tbody tr th:only-of-type {\n",
              "        vertical-align: middle;\n",
              "    }\n",
              "\n",
              "    .dataframe tbody tr th {\n",
              "        vertical-align: top;\n",
              "    }\n",
              "\n",
              "    .dataframe thead th {\n",
              "        text-align: right;\n",
              "    }\n",
              "</style>\n",
              "<table border=\"1\" class=\"dataframe\">\n",
              "  <thead>\n",
              "    <tr style=\"text-align: right;\">\n",
              "      <th></th>\n",
              "      <th>PATIENT_VISIT_IDENTIFIER</th>\n",
              "      <th>AGE_ABOVE65</th>\n",
              "      <th>GENDER</th>\n",
              "      <th>DISEASE GROUPING 1</th>\n",
              "      <th>DISEASE GROUPING 2</th>\n",
              "      <th>DISEASE GROUPING 3</th>\n",
              "      <th>DISEASE GROUPING 4</th>\n",
              "      <th>DISEASE GROUPING 5</th>\n",
              "      <th>DISEASE GROUPING 6</th>\n",
              "      <th>HTN</th>\n",
              "      <th>...</th>\n",
              "      <th>RESPIRATORY_RATE_DIFF</th>\n",
              "      <th>TEMPERATURE_DIFF</th>\n",
              "      <th>OXYGEN_SATURATION_DIFF</th>\n",
              "      <th>BLOODPRESSURE_DIASTOLIC_DIFF_REL</th>\n",
              "      <th>BLOODPRESSURE_SISTOLIC_DIFF_REL</th>\n",
              "      <th>HEART_RATE_DIFF_REL</th>\n",
              "      <th>RESPIRATORY_RATE_DIFF_REL</th>\n",
              "      <th>TEMPERATURE_DIFF_REL</th>\n",
              "      <th>OXYGEN_SATURATION_DIFF_REL</th>\n",
              "      <th>ICU</th>\n",
              "    </tr>\n",
              "  </thead>\n",
              "  <tbody>\n",
              "    <tr>\n",
              "      <th>count</th>\n",
              "      <td>1925.000000</td>\n",
              "      <td>1925.000000</td>\n",
              "      <td>1925.000000</td>\n",
              "      <td>1920.000000</td>\n",
              "      <td>1920.000000</td>\n",
              "      <td>1920.000000</td>\n",
              "      <td>1920.000000</td>\n",
              "      <td>1920.000000</td>\n",
              "      <td>1920.000000</td>\n",
              "      <td>1920.000000</td>\n",
              "      <td>...</td>\n",
              "      <td>1925.000000</td>\n",
              "      <td>1925.000000</td>\n",
              "      <td>1925.000000</td>\n",
              "      <td>1925.000000</td>\n",
              "      <td>1925.000000</td>\n",
              "      <td>1925.000000</td>\n",
              "      <td>1925.000000</td>\n",
              "      <td>1925.000000</td>\n",
              "      <td>1925.000000</td>\n",
              "      <td>1925.000000</td>\n",
              "    </tr>\n",
              "    <tr>\n",
              "      <th>mean</th>\n",
              "      <td>192.000000</td>\n",
              "      <td>0.467532</td>\n",
              "      <td>0.368831</td>\n",
              "      <td>0.108333</td>\n",
              "      <td>0.028125</td>\n",
              "      <td>0.097917</td>\n",
              "      <td>0.019792</td>\n",
              "      <td>0.128125</td>\n",
              "      <td>0.046875</td>\n",
              "      <td>0.213021</td>\n",
              "      <td>...</td>\n",
              "      <td>-0.758319</td>\n",
              "      <td>-0.811824</td>\n",
              "      <td>-0.910237</td>\n",
              "      <td>-0.817464</td>\n",
              "      <td>-0.758728</td>\n",
              "      <td>-0.848568</td>\n",
              "      <td>-0.771306</td>\n",
              "      <td>-0.812740</td>\n",
              "      <td>-0.910107</td>\n",
              "      <td>0.267532</td>\n",
              "    </tr>\n",
              "    <tr>\n",
              "      <th>std</th>\n",
              "      <td>111.168431</td>\n",
              "      <td>0.499074</td>\n",
              "      <td>0.482613</td>\n",
              "      <td>0.310882</td>\n",
              "      <td>0.165373</td>\n",
              "      <td>0.297279</td>\n",
              "      <td>0.139320</td>\n",
              "      <td>0.334316</td>\n",
              "      <td>0.211426</td>\n",
              "      <td>0.409549</td>\n",
              "      <td>...</td>\n",
              "      <td>0.433037</td>\n",
              "      <td>0.296595</td>\n",
              "      <td>0.255396</td>\n",
              "      <td>0.301522</td>\n",
              "      <td>0.389168</td>\n",
              "      <td>0.246814</td>\n",
              "      <td>0.400915</td>\n",
              "      <td>0.295435</td>\n",
              "      <td>0.256035</td>\n",
              "      <td>0.442787</td>\n",
              "    </tr>\n",
              "    <tr>\n",
              "      <th>min</th>\n",
              "      <td>0.000000</td>\n",
              "      <td>0.000000</td>\n",
              "      <td>0.000000</td>\n",
              "      <td>0.000000</td>\n",
              "      <td>0.000000</td>\n",
              "      <td>0.000000</td>\n",
              "      <td>0.000000</td>\n",
              "      <td>0.000000</td>\n",
              "      <td>0.000000</td>\n",
              "      <td>0.000000</td>\n",
              "      <td>...</td>\n",
              "      <td>-1.000000</td>\n",
              "      <td>-1.000000</td>\n",
              "      <td>-1.000000</td>\n",
              "      <td>-1.000000</td>\n",
              "      <td>-1.000000</td>\n",
              "      <td>-1.000000</td>\n",
              "      <td>-1.000000</td>\n",
              "      <td>-1.000000</td>\n",
              "      <td>-1.000000</td>\n",
              "      <td>0.000000</td>\n",
              "    </tr>\n",
              "    <tr>\n",
              "      <th>25%</th>\n",
              "      <td>96.000000</td>\n",
              "      <td>0.000000</td>\n",
              "      <td>0.000000</td>\n",
              "      <td>0.000000</td>\n",
              "      <td>0.000000</td>\n",
              "      <td>0.000000</td>\n",
              "      <td>0.000000</td>\n",
              "      <td>0.000000</td>\n",
              "      <td>0.000000</td>\n",
              "      <td>0.000000</td>\n",
              "      <td>...</td>\n",
              "      <td>-1.000000</td>\n",
              "      <td>-1.000000</td>\n",
              "      <td>-1.000000</td>\n",
              "      <td>-1.000000</td>\n",
              "      <td>-1.000000</td>\n",
              "      <td>-1.000000</td>\n",
              "      <td>-1.000000</td>\n",
              "      <td>-1.000000</td>\n",
              "      <td>-1.000000</td>\n",
              "      <td>0.000000</td>\n",
              "    </tr>\n",
              "    <tr>\n",
              "      <th>50%</th>\n",
              "      <td>192.000000</td>\n",
              "      <td>0.000000</td>\n",
              "      <td>0.000000</td>\n",
              "      <td>0.000000</td>\n",
              "      <td>0.000000</td>\n",
              "      <td>0.000000</td>\n",
              "      <td>0.000000</td>\n",
              "      <td>0.000000</td>\n",
              "      <td>0.000000</td>\n",
              "      <td>0.000000</td>\n",
              "      <td>...</td>\n",
              "      <td>-1.000000</td>\n",
              "      <td>-1.000000</td>\n",
              "      <td>-1.000000</td>\n",
              "      <td>-1.000000</td>\n",
              "      <td>-1.000000</td>\n",
              "      <td>-1.000000</td>\n",
              "      <td>-1.000000</td>\n",
              "      <td>-1.000000</td>\n",
              "      <td>-1.000000</td>\n",
              "      <td>0.000000</td>\n",
              "    </tr>\n",
              "    <tr>\n",
              "      <th>75%</th>\n",
              "      <td>288.000000</td>\n",
              "      <td>1.000000</td>\n",
              "      <td>1.000000</td>\n",
              "      <td>0.000000</td>\n",
              "      <td>0.000000</td>\n",
              "      <td>0.000000</td>\n",
              "      <td>0.000000</td>\n",
              "      <td>0.000000</td>\n",
              "      <td>0.000000</td>\n",
              "      <td>0.000000</td>\n",
              "      <td>...</td>\n",
              "      <td>-0.705882</td>\n",
              "      <td>-0.690476</td>\n",
              "      <td>-0.919192</td>\n",
              "      <td>-0.704088</td>\n",
              "      <td>-0.613423</td>\n",
              "      <td>-0.764790</td>\n",
              "      <td>-0.732494</td>\n",
              "      <td>-0.692177</td>\n",
              "      <td>-0.918403</td>\n",
              "      <td>1.000000</td>\n",
              "    </tr>\n",
              "    <tr>\n",
              "      <th>max</th>\n",
              "      <td>384.000000</td>\n",
              "      <td>1.000000</td>\n",
              "      <td>1.000000</td>\n",
              "      <td>1.000000</td>\n",
              "      <td>1.000000</td>\n",
              "      <td>1.000000</td>\n",
              "      <td>1.000000</td>\n",
              "      <td>1.000000</td>\n",
              "      <td>1.000000</td>\n",
              "      <td>1.000000</td>\n",
              "      <td>...</td>\n",
              "      <td>1.000000</td>\n",
              "      <td>1.000000</td>\n",
              "      <td>1.000000</td>\n",
              "      <td>1.000000</td>\n",
              "      <td>1.000000</td>\n",
              "      <td>1.000000</td>\n",
              "      <td>1.000000</td>\n",
              "      <td>1.000000</td>\n",
              "      <td>1.000000</td>\n",
              "      <td>1.000000</td>\n",
              "    </tr>\n",
              "  </tbody>\n",
              "</table>\n",
              "<p>8 rows × 229 columns</p>\n",
              "</div>"
            ],
            "text/plain": [
              "       PATIENT_VISIT_IDENTIFIER  AGE_ABOVE65       GENDER  DISEASE GROUPING 1  \\\n",
              "count               1925.000000  1925.000000  1925.000000         1920.000000   \n",
              "mean                 192.000000     0.467532     0.368831            0.108333   \n",
              "std                  111.168431     0.499074     0.482613            0.310882   \n",
              "min                    0.000000     0.000000     0.000000            0.000000   \n",
              "25%                   96.000000     0.000000     0.000000            0.000000   \n",
              "50%                  192.000000     0.000000     0.000000            0.000000   \n",
              "75%                  288.000000     1.000000     1.000000            0.000000   \n",
              "max                  384.000000     1.000000     1.000000            1.000000   \n",
              "\n",
              "       DISEASE GROUPING 2  DISEASE GROUPING 3  DISEASE GROUPING 4  \\\n",
              "count         1920.000000         1920.000000         1920.000000   \n",
              "mean             0.028125            0.097917            0.019792   \n",
              "std              0.165373            0.297279            0.139320   \n",
              "min              0.000000            0.000000            0.000000   \n",
              "25%              0.000000            0.000000            0.000000   \n",
              "50%              0.000000            0.000000            0.000000   \n",
              "75%              0.000000            0.000000            0.000000   \n",
              "max              1.000000            1.000000            1.000000   \n",
              "\n",
              "       DISEASE GROUPING 5  DISEASE GROUPING 6          HTN  ...  \\\n",
              "count         1920.000000         1920.000000  1920.000000  ...   \n",
              "mean             0.128125            0.046875     0.213021  ...   \n",
              "std              0.334316            0.211426     0.409549  ...   \n",
              "min              0.000000            0.000000     0.000000  ...   \n",
              "25%              0.000000            0.000000     0.000000  ...   \n",
              "50%              0.000000            0.000000     0.000000  ...   \n",
              "75%              0.000000            0.000000     0.000000  ...   \n",
              "max              1.000000            1.000000     1.000000  ...   \n",
              "\n",
              "       RESPIRATORY_RATE_DIFF  TEMPERATURE_DIFF  OXYGEN_SATURATION_DIFF  \\\n",
              "count            1925.000000       1925.000000             1925.000000   \n",
              "mean               -0.758319         -0.811824               -0.910237   \n",
              "std                 0.433037          0.296595                0.255396   \n",
              "min                -1.000000         -1.000000               -1.000000   \n",
              "25%                -1.000000         -1.000000               -1.000000   \n",
              "50%                -1.000000         -1.000000               -1.000000   \n",
              "75%                -0.705882         -0.690476               -0.919192   \n",
              "max                 1.000000          1.000000                1.000000   \n",
              "\n",
              "       BLOODPRESSURE_DIASTOLIC_DIFF_REL  BLOODPRESSURE_SISTOLIC_DIFF_REL  \\\n",
              "count                       1925.000000                      1925.000000   \n",
              "mean                          -0.817464                        -0.758728   \n",
              "std                            0.301522                         0.389168   \n",
              "min                           -1.000000                        -1.000000   \n",
              "25%                           -1.000000                        -1.000000   \n",
              "50%                           -1.000000                        -1.000000   \n",
              "75%                           -0.704088                        -0.613423   \n",
              "max                            1.000000                         1.000000   \n",
              "\n",
              "       HEART_RATE_DIFF_REL  RESPIRATORY_RATE_DIFF_REL  TEMPERATURE_DIFF_REL  \\\n",
              "count          1925.000000                1925.000000           1925.000000   \n",
              "mean             -0.848568                  -0.771306             -0.812740   \n",
              "std               0.246814                   0.400915              0.295435   \n",
              "min              -1.000000                  -1.000000             -1.000000   \n",
              "25%              -1.000000                  -1.000000             -1.000000   \n",
              "50%              -1.000000                  -1.000000             -1.000000   \n",
              "75%              -0.764790                  -0.732494             -0.692177   \n",
              "max               1.000000                   1.000000              1.000000   \n",
              "\n",
              "       OXYGEN_SATURATION_DIFF_REL          ICU  \n",
              "count                 1925.000000  1925.000000  \n",
              "mean                    -0.910107     0.267532  \n",
              "std                      0.256035     0.442787  \n",
              "min                     -1.000000     0.000000  \n",
              "25%                     -1.000000     0.000000  \n",
              "50%                     -1.000000     0.000000  \n",
              "75%                     -0.918403     1.000000  \n",
              "max                      1.000000     1.000000  \n",
              "\n",
              "[8 rows x 229 columns]"
            ]
          },
          "metadata": {
            "tags": []
          },
          "execution_count": 32
        }
      ]
    },
    {
      "cell_type": "code",
      "metadata": {
        "execution": {
          "iopub.execute_input": "2021-01-30T23:01:44.679706Z",
          "iopub.status.busy": "2021-01-30T23:01:44.678696Z",
          "iopub.status.idle": "2021-01-30T23:01:44.688658Z",
          "shell.execute_reply": "2021-01-30T23:01:44.687869Z"
        },
        "papermill": {
          "duration": 0.095926,
          "end_time": "2021-01-30T23:01:44.688779",
          "exception": false,
          "start_time": "2021-01-30T23:01:44.592853",
          "status": "completed"
        },
        "tags": [],
        "id": "vb6eUQ-dobQr"
      },
      "source": [
        "# Retirando todos os valores faltantes que sobraram\n",
        "dados_limpos = dados_limpos.dropna()"
      ],
      "execution_count": null,
      "outputs": []
    },
    {
      "cell_type": "code",
      "metadata": {
        "execution": {
          "iopub.execute_input": "2021-01-30T23:01:44.875289Z",
          "iopub.status.busy": "2021-01-30T23:01:44.869866Z",
          "iopub.status.idle": "2021-01-30T23:01:45.491738Z",
          "shell.execute_reply": "2021-01-30T23:01:45.490897Z"
        },
        "papermill": {
          "duration": 0.721274,
          "end_time": "2021-01-30T23:01:45.491874",
          "exception": false,
          "start_time": "2021-01-30T23:01:44.770600",
          "status": "completed"
        },
        "tags": [],
        "id": "32VZjryzobQr",
        "outputId": "8109586d-cc40-4fa4-f47a-be040510e54f"
      },
      "source": [
        "# Removendo os dados em que a \"WINDOW\" é igual a \"0-2\" e o \"ICU\" igual a 1 (direto pra UTI)\n",
        "a_remover = dados_limpos.query('WINDOW == \"0-2\" and ICU == 1')['PATIENT_VISIT_IDENTIFIER'].values\n",
        "dados_limpos = dados_limpos.query('PATIENT_VISIT_IDENTIFIER not in @a_remover')\n",
        "display(dados_limpos.describe())"
      ],
      "execution_count": null,
      "outputs": [
        {
          "output_type": "display_data",
          "data": {
            "text/html": [
              "<div>\n",
              "<style scoped>\n",
              "    .dataframe tbody tr th:only-of-type {\n",
              "        vertical-align: middle;\n",
              "    }\n",
              "\n",
              "    .dataframe tbody tr th {\n",
              "        vertical-align: top;\n",
              "    }\n",
              "\n",
              "    .dataframe thead th {\n",
              "        text-align: right;\n",
              "    }\n",
              "</style>\n",
              "<table border=\"1\" class=\"dataframe\">\n",
              "  <thead>\n",
              "    <tr style=\"text-align: right;\">\n",
              "      <th></th>\n",
              "      <th>PATIENT_VISIT_IDENTIFIER</th>\n",
              "      <th>AGE_ABOVE65</th>\n",
              "      <th>GENDER</th>\n",
              "      <th>DISEASE GROUPING 1</th>\n",
              "      <th>DISEASE GROUPING 2</th>\n",
              "      <th>DISEASE GROUPING 3</th>\n",
              "      <th>DISEASE GROUPING 4</th>\n",
              "      <th>DISEASE GROUPING 5</th>\n",
              "      <th>DISEASE GROUPING 6</th>\n",
              "      <th>HTN</th>\n",
              "      <th>...</th>\n",
              "      <th>RESPIRATORY_RATE_DIFF</th>\n",
              "      <th>TEMPERATURE_DIFF</th>\n",
              "      <th>OXYGEN_SATURATION_DIFF</th>\n",
              "      <th>BLOODPRESSURE_DIASTOLIC_DIFF_REL</th>\n",
              "      <th>BLOODPRESSURE_SISTOLIC_DIFF_REL</th>\n",
              "      <th>HEART_RATE_DIFF_REL</th>\n",
              "      <th>RESPIRATORY_RATE_DIFF_REL</th>\n",
              "      <th>TEMPERATURE_DIFF_REL</th>\n",
              "      <th>OXYGEN_SATURATION_DIFF_REL</th>\n",
              "      <th>ICU</th>\n",
              "    </tr>\n",
              "  </thead>\n",
              "  <tbody>\n",
              "    <tr>\n",
              "      <th>count</th>\n",
              "      <td>1760.000000</td>\n",
              "      <td>1760.000000</td>\n",
              "      <td>1760.000000</td>\n",
              "      <td>1760.00000</td>\n",
              "      <td>1760.000000</td>\n",
              "      <td>1760.000000</td>\n",
              "      <td>1760.000000</td>\n",
              "      <td>1760.000000</td>\n",
              "      <td>1760.000000</td>\n",
              "      <td>1760.000000</td>\n",
              "      <td>...</td>\n",
              "      <td>1760.000000</td>\n",
              "      <td>1760.000000</td>\n",
              "      <td>1760.000000</td>\n",
              "      <td>1760.000000</td>\n",
              "      <td>1760.000000</td>\n",
              "      <td>1760.000000</td>\n",
              "      <td>1760.000000</td>\n",
              "      <td>1760.000000</td>\n",
              "      <td>1760.000000</td>\n",
              "      <td>1760.000000</td>\n",
              "    </tr>\n",
              "    <tr>\n",
              "      <th>mean</th>\n",
              "      <td>192.818182</td>\n",
              "      <td>0.457386</td>\n",
              "      <td>0.380682</td>\n",
              "      <td>0.11250</td>\n",
              "      <td>0.026136</td>\n",
              "      <td>0.101705</td>\n",
              "      <td>0.021591</td>\n",
              "      <td>0.132955</td>\n",
              "      <td>0.049432</td>\n",
              "      <td>0.212500</td>\n",
              "      <td>...</td>\n",
              "      <td>-0.778209</td>\n",
              "      <td>-0.823458</td>\n",
              "      <td>-0.915593</td>\n",
              "      <td>-0.828593</td>\n",
              "      <td>-0.774857</td>\n",
              "      <td>-0.854690</td>\n",
              "      <td>-0.788155</td>\n",
              "      <td>-0.824412</td>\n",
              "      <td>-0.915552</td>\n",
              "      <td>0.201705</td>\n",
              "    </tr>\n",
              "    <tr>\n",
              "      <th>std</th>\n",
              "      <td>110.637724</td>\n",
              "      <td>0.498322</td>\n",
              "      <td>0.485692</td>\n",
              "      <td>0.31607</td>\n",
              "      <td>0.159586</td>\n",
              "      <td>0.302345</td>\n",
              "      <td>0.145385</td>\n",
              "      <td>0.339622</td>\n",
              "      <td>0.216829</td>\n",
              "      <td>0.409193</td>\n",
              "      <td>...</td>\n",
              "      <td>0.411909</td>\n",
              "      <td>0.276279</td>\n",
              "      <td>0.247695</td>\n",
              "      <td>0.287696</td>\n",
              "      <td>0.368311</td>\n",
              "      <td>0.240338</td>\n",
              "      <td>0.384405</td>\n",
              "      <td>0.274953</td>\n",
              "      <td>0.248093</td>\n",
              "      <td>0.401387</td>\n",
              "    </tr>\n",
              "    <tr>\n",
              "      <th>min</th>\n",
              "      <td>0.000000</td>\n",
              "      <td>0.000000</td>\n",
              "      <td>0.000000</td>\n",
              "      <td>0.00000</td>\n",
              "      <td>0.000000</td>\n",
              "      <td>0.000000</td>\n",
              "      <td>0.000000</td>\n",
              "      <td>0.000000</td>\n",
              "      <td>0.000000</td>\n",
              "      <td>0.000000</td>\n",
              "      <td>...</td>\n",
              "      <td>-1.000000</td>\n",
              "      <td>-1.000000</td>\n",
              "      <td>-1.000000</td>\n",
              "      <td>-1.000000</td>\n",
              "      <td>-1.000000</td>\n",
              "      <td>-1.000000</td>\n",
              "      <td>-1.000000</td>\n",
              "      <td>-1.000000</td>\n",
              "      <td>-1.000000</td>\n",
              "      <td>0.000000</td>\n",
              "    </tr>\n",
              "    <tr>\n",
              "      <th>25%</th>\n",
              "      <td>97.750000</td>\n",
              "      <td>0.000000</td>\n",
              "      <td>0.000000</td>\n",
              "      <td>0.00000</td>\n",
              "      <td>0.000000</td>\n",
              "      <td>0.000000</td>\n",
              "      <td>0.000000</td>\n",
              "      <td>0.000000</td>\n",
              "      <td>0.000000</td>\n",
              "      <td>0.000000</td>\n",
              "      <td>...</td>\n",
              "      <td>-1.000000</td>\n",
              "      <td>-1.000000</td>\n",
              "      <td>-1.000000</td>\n",
              "      <td>-1.000000</td>\n",
              "      <td>-1.000000</td>\n",
              "      <td>-1.000000</td>\n",
              "      <td>-1.000000</td>\n",
              "      <td>-1.000000</td>\n",
              "      <td>-1.000000</td>\n",
              "      <td>0.000000</td>\n",
              "    </tr>\n",
              "    <tr>\n",
              "      <th>50%</th>\n",
              "      <td>191.500000</td>\n",
              "      <td>0.000000</td>\n",
              "      <td>0.000000</td>\n",
              "      <td>0.00000</td>\n",
              "      <td>0.000000</td>\n",
              "      <td>0.000000</td>\n",
              "      <td>0.000000</td>\n",
              "      <td>0.000000</td>\n",
              "      <td>0.000000</td>\n",
              "      <td>0.000000</td>\n",
              "      <td>...</td>\n",
              "      <td>-1.000000</td>\n",
              "      <td>-1.000000</td>\n",
              "      <td>-1.000000</td>\n",
              "      <td>-1.000000</td>\n",
              "      <td>-1.000000</td>\n",
              "      <td>-1.000000</td>\n",
              "      <td>-1.000000</td>\n",
              "      <td>-1.000000</td>\n",
              "      <td>-1.000000</td>\n",
              "      <td>0.000000</td>\n",
              "    </tr>\n",
              "    <tr>\n",
              "      <th>75%</th>\n",
              "      <td>289.250000</td>\n",
              "      <td>1.000000</td>\n",
              "      <td>1.000000</td>\n",
              "      <td>0.00000</td>\n",
              "      <td>0.000000</td>\n",
              "      <td>0.000000</td>\n",
              "      <td>0.000000</td>\n",
              "      <td>0.000000</td>\n",
              "      <td>0.000000</td>\n",
              "      <td>0.000000</td>\n",
              "      <td>...</td>\n",
              "      <td>-0.764706</td>\n",
              "      <td>-0.738095</td>\n",
              "      <td>-0.919192</td>\n",
              "      <td>-0.726087</td>\n",
              "      <td>-0.651942</td>\n",
              "      <td>-0.771625</td>\n",
              "      <td>-0.756272</td>\n",
              "      <td>-0.736640</td>\n",
              "      <td>-0.920103</td>\n",
              "      <td>0.000000</td>\n",
              "    </tr>\n",
              "    <tr>\n",
              "      <th>max</th>\n",
              "      <td>384.000000</td>\n",
              "      <td>1.000000</td>\n",
              "      <td>1.000000</td>\n",
              "      <td>1.00000</td>\n",
              "      <td>1.000000</td>\n",
              "      <td>1.000000</td>\n",
              "      <td>1.000000</td>\n",
              "      <td>1.000000</td>\n",
              "      <td>1.000000</td>\n",
              "      <td>1.000000</td>\n",
              "      <td>...</td>\n",
              "      <td>1.000000</td>\n",
              "      <td>0.333333</td>\n",
              "      <td>1.000000</td>\n",
              "      <td>1.000000</td>\n",
              "      <td>1.000000</td>\n",
              "      <td>1.000000</td>\n",
              "      <td>1.000000</td>\n",
              "      <td>0.329660</td>\n",
              "      <td>1.000000</td>\n",
              "      <td>1.000000</td>\n",
              "    </tr>\n",
              "  </tbody>\n",
              "</table>\n",
              "<p>8 rows × 229 columns</p>\n",
              "</div>"
            ],
            "text/plain": [
              "       PATIENT_VISIT_IDENTIFIER  AGE_ABOVE65       GENDER  DISEASE GROUPING 1  \\\n",
              "count               1760.000000  1760.000000  1760.000000          1760.00000   \n",
              "mean                 192.818182     0.457386     0.380682             0.11250   \n",
              "std                  110.637724     0.498322     0.485692             0.31607   \n",
              "min                    0.000000     0.000000     0.000000             0.00000   \n",
              "25%                   97.750000     0.000000     0.000000             0.00000   \n",
              "50%                  191.500000     0.000000     0.000000             0.00000   \n",
              "75%                  289.250000     1.000000     1.000000             0.00000   \n",
              "max                  384.000000     1.000000     1.000000             1.00000   \n",
              "\n",
              "       DISEASE GROUPING 2  DISEASE GROUPING 3  DISEASE GROUPING 4  \\\n",
              "count         1760.000000         1760.000000         1760.000000   \n",
              "mean             0.026136            0.101705            0.021591   \n",
              "std              0.159586            0.302345            0.145385   \n",
              "min              0.000000            0.000000            0.000000   \n",
              "25%              0.000000            0.000000            0.000000   \n",
              "50%              0.000000            0.000000            0.000000   \n",
              "75%              0.000000            0.000000            0.000000   \n",
              "max              1.000000            1.000000            1.000000   \n",
              "\n",
              "       DISEASE GROUPING 5  DISEASE GROUPING 6          HTN  ...  \\\n",
              "count         1760.000000         1760.000000  1760.000000  ...   \n",
              "mean             0.132955            0.049432     0.212500  ...   \n",
              "std              0.339622            0.216829     0.409193  ...   \n",
              "min              0.000000            0.000000     0.000000  ...   \n",
              "25%              0.000000            0.000000     0.000000  ...   \n",
              "50%              0.000000            0.000000     0.000000  ...   \n",
              "75%              0.000000            0.000000     0.000000  ...   \n",
              "max              1.000000            1.000000     1.000000  ...   \n",
              "\n",
              "       RESPIRATORY_RATE_DIFF  TEMPERATURE_DIFF  OXYGEN_SATURATION_DIFF  \\\n",
              "count            1760.000000       1760.000000             1760.000000   \n",
              "mean               -0.778209         -0.823458               -0.915593   \n",
              "std                 0.411909          0.276279                0.247695   \n",
              "min                -1.000000         -1.000000               -1.000000   \n",
              "25%                -1.000000         -1.000000               -1.000000   \n",
              "50%                -1.000000         -1.000000               -1.000000   \n",
              "75%                -0.764706         -0.738095               -0.919192   \n",
              "max                 1.000000          0.333333                1.000000   \n",
              "\n",
              "       BLOODPRESSURE_DIASTOLIC_DIFF_REL  BLOODPRESSURE_SISTOLIC_DIFF_REL  \\\n",
              "count                       1760.000000                      1760.000000   \n",
              "mean                          -0.828593                        -0.774857   \n",
              "std                            0.287696                         0.368311   \n",
              "min                           -1.000000                        -1.000000   \n",
              "25%                           -1.000000                        -1.000000   \n",
              "50%                           -1.000000                        -1.000000   \n",
              "75%                           -0.726087                        -0.651942   \n",
              "max                            1.000000                         1.000000   \n",
              "\n",
              "       HEART_RATE_DIFF_REL  RESPIRATORY_RATE_DIFF_REL  TEMPERATURE_DIFF_REL  \\\n",
              "count          1760.000000                1760.000000           1760.000000   \n",
              "mean             -0.854690                  -0.788155             -0.824412   \n",
              "std               0.240338                   0.384405              0.274953   \n",
              "min              -1.000000                  -1.000000             -1.000000   \n",
              "25%              -1.000000                  -1.000000             -1.000000   \n",
              "50%              -1.000000                  -1.000000             -1.000000   \n",
              "75%              -0.771625                  -0.756272             -0.736640   \n",
              "max               1.000000                   1.000000              0.329660   \n",
              "\n",
              "       OXYGEN_SATURATION_DIFF_REL          ICU  \n",
              "count                 1760.000000  1760.000000  \n",
              "mean                    -0.915552     0.201705  \n",
              "std                      0.248093     0.401387  \n",
              "min                     -1.000000     0.000000  \n",
              "25%                     -1.000000     0.000000  \n",
              "50%                     -1.000000     0.000000  \n",
              "75%                     -0.920103     0.000000  \n",
              "max                      1.000000     1.000000  \n",
              "\n",
              "[8 rows x 229 columns]"
            ]
          },
          "metadata": {
            "tags": []
          }
        }
      ]
    },
    {
      "cell_type": "markdown",
      "metadata": {
        "papermill": {
          "duration": 0.082171,
          "end_time": "2021-01-30T23:01:45.657039",
          "exception": false,
          "start_time": "2021-01-30T23:01:45.574868",
          "status": "completed"
        },
        "tags": [],
        "id": "njhsBC3LobQs"
      },
      "source": [
        "Agora, para finalizar, eu vou querer apenas **um momento** do paciente, poderia ser qualquer um para falar a verdade. Sendo assim, apenas porque é o primeiro em que aparece, vou escolher todos os pacientes na janela \"0-2\". Para isso, temos que selecionar os pacientes no momento \"0-2\" que realmente foram para a UTI e os que não foram."
      ]
    },
    {
      "cell_type": "code",
      "metadata": {
        "execution": {
          "iopub.execute_input": "2021-01-30T23:01:45.831364Z",
          "iopub.status.busy": "2021-01-30T23:01:45.830226Z",
          "iopub.status.idle": "2021-01-30T23:01:45.834163Z",
          "shell.execute_reply": "2021-01-30T23:01:45.833367Z"
        },
        "papermill": {
          "duration": 0.094659,
          "end_time": "2021-01-30T23:01:45.834323",
          "exception": false,
          "start_time": "2021-01-30T23:01:45.739664",
          "status": "completed"
        },
        "tags": [],
        "id": "_u9HUGQsobQs"
      },
      "source": [
        "def prepare_window(rows):\n",
        "    if np.any(rows['ICU']):\n",
        "        rows.loc[rows['WINDOW'] == '0-2', 'ICU'] = 1\n",
        "    return rows.loc[rows['WINDOW'] == '0-2']"
      ],
      "execution_count": null,
      "outputs": []
    },
    {
      "cell_type": "code",
      "metadata": {
        "execution": {
          "iopub.execute_input": "2021-01-30T23:01:46.009610Z",
          "iopub.status.busy": "2021-01-30T23:01:46.008529Z",
          "iopub.status.idle": "2021-01-30T23:01:46.931440Z",
          "shell.execute_reply": "2021-01-30T23:01:46.930850Z"
        },
        "papermill": {
          "duration": 1.013498,
          "end_time": "2021-01-30T23:01:46.931553",
          "exception": false,
          "start_time": "2021-01-30T23:01:45.918055",
          "status": "completed"
        },
        "tags": [],
        "id": "VGbVLkAwobQs"
      },
      "source": [
        "dados_limpos = dados_limpos.groupby('PATIENT_VISIT_IDENTIFIER').apply(prepare_window)"
      ],
      "execution_count": null,
      "outputs": []
    },
    {
      "cell_type": "code",
      "metadata": {
        "execution": {
          "iopub.execute_input": "2021-01-30T23:01:47.052709Z",
          "iopub.status.busy": "2021-01-30T23:01:47.052051Z",
          "iopub.status.idle": "2021-01-30T23:01:47.093775Z",
          "shell.execute_reply": "2021-01-30T23:01:47.093025Z"
        },
        "papermill": {
          "duration": 0.105079,
          "end_time": "2021-01-30T23:01:47.093921",
          "exception": false,
          "start_time": "2021-01-30T23:01:46.988842",
          "status": "completed"
        },
        "tags": [],
        "id": "qcZRCKIHobQt",
        "outputId": "eae3d1aa-62c0-4789-9be4-7d417711f1ce"
      },
      "source": [
        "dados_limpos.head()"
      ],
      "execution_count": null,
      "outputs": [
        {
          "output_type": "execute_result",
          "data": {
            "text/html": [
              "<div>\n",
              "<style scoped>\n",
              "    .dataframe tbody tr th:only-of-type {\n",
              "        vertical-align: middle;\n",
              "    }\n",
              "\n",
              "    .dataframe tbody tr th {\n",
              "        vertical-align: top;\n",
              "    }\n",
              "\n",
              "    .dataframe thead th {\n",
              "        text-align: right;\n",
              "    }\n",
              "</style>\n",
              "<table border=\"1\" class=\"dataframe\">\n",
              "  <thead>\n",
              "    <tr style=\"text-align: right;\">\n",
              "      <th></th>\n",
              "      <th></th>\n",
              "      <th>PATIENT_VISIT_IDENTIFIER</th>\n",
              "      <th>AGE_ABOVE65</th>\n",
              "      <th>AGE_PERCENTIL</th>\n",
              "      <th>GENDER</th>\n",
              "      <th>DISEASE GROUPING 1</th>\n",
              "      <th>DISEASE GROUPING 2</th>\n",
              "      <th>DISEASE GROUPING 3</th>\n",
              "      <th>DISEASE GROUPING 4</th>\n",
              "      <th>DISEASE GROUPING 5</th>\n",
              "      <th>DISEASE GROUPING 6</th>\n",
              "      <th>...</th>\n",
              "      <th>TEMPERATURE_DIFF</th>\n",
              "      <th>OXYGEN_SATURATION_DIFF</th>\n",
              "      <th>BLOODPRESSURE_DIASTOLIC_DIFF_REL</th>\n",
              "      <th>BLOODPRESSURE_SISTOLIC_DIFF_REL</th>\n",
              "      <th>HEART_RATE_DIFF_REL</th>\n",
              "      <th>RESPIRATORY_RATE_DIFF_REL</th>\n",
              "      <th>TEMPERATURE_DIFF_REL</th>\n",
              "      <th>OXYGEN_SATURATION_DIFF_REL</th>\n",
              "      <th>WINDOW</th>\n",
              "      <th>ICU</th>\n",
              "    </tr>\n",
              "    <tr>\n",
              "      <th>PATIENT_VISIT_IDENTIFIER</th>\n",
              "      <th></th>\n",
              "      <th></th>\n",
              "      <th></th>\n",
              "      <th></th>\n",
              "      <th></th>\n",
              "      <th></th>\n",
              "      <th></th>\n",
              "      <th></th>\n",
              "      <th></th>\n",
              "      <th></th>\n",
              "      <th></th>\n",
              "      <th></th>\n",
              "      <th></th>\n",
              "      <th></th>\n",
              "      <th></th>\n",
              "      <th></th>\n",
              "      <th></th>\n",
              "      <th></th>\n",
              "      <th></th>\n",
              "      <th></th>\n",
              "      <th></th>\n",
              "      <th></th>\n",
              "    </tr>\n",
              "  </thead>\n",
              "  <tbody>\n",
              "    <tr>\n",
              "      <th>0</th>\n",
              "      <th>0</th>\n",
              "      <td>0</td>\n",
              "      <td>1</td>\n",
              "      <td>60th</td>\n",
              "      <td>0</td>\n",
              "      <td>0.0</td>\n",
              "      <td>0.0</td>\n",
              "      <td>0.0</td>\n",
              "      <td>0.0</td>\n",
              "      <td>1.0</td>\n",
              "      <td>1.0</td>\n",
              "      <td>...</td>\n",
              "      <td>-1.000000</td>\n",
              "      <td>-1.000000</td>\n",
              "      <td>-1.000000</td>\n",
              "      <td>-1.000000</td>\n",
              "      <td>-1.000000</td>\n",
              "      <td>-1.000000</td>\n",
              "      <td>-1.000000</td>\n",
              "      <td>-1.000000</td>\n",
              "      <td>0-2</td>\n",
              "      <td>1</td>\n",
              "    </tr>\n",
              "    <tr>\n",
              "      <th>2</th>\n",
              "      <th>10</th>\n",
              "      <td>2</td>\n",
              "      <td>0</td>\n",
              "      <td>10th</td>\n",
              "      <td>0</td>\n",
              "      <td>0.0</td>\n",
              "      <td>0.0</td>\n",
              "      <td>0.0</td>\n",
              "      <td>0.0</td>\n",
              "      <td>0.0</td>\n",
              "      <td>0.0</td>\n",
              "      <td>...</td>\n",
              "      <td>-1.000000</td>\n",
              "      <td>-0.959596</td>\n",
              "      <td>-0.515528</td>\n",
              "      <td>-0.351328</td>\n",
              "      <td>-0.747001</td>\n",
              "      <td>-0.756272</td>\n",
              "      <td>-1.000000</td>\n",
              "      <td>-0.961262</td>\n",
              "      <td>0-2</td>\n",
              "      <td>1</td>\n",
              "    </tr>\n",
              "    <tr>\n",
              "      <th>3</th>\n",
              "      <th>15</th>\n",
              "      <td>3</td>\n",
              "      <td>0</td>\n",
              "      <td>40th</td>\n",
              "      <td>1</td>\n",
              "      <td>0.0</td>\n",
              "      <td>0.0</td>\n",
              "      <td>0.0</td>\n",
              "      <td>0.0</td>\n",
              "      <td>0.0</td>\n",
              "      <td>0.0</td>\n",
              "      <td>...</td>\n",
              "      <td>-1.000000</td>\n",
              "      <td>-1.000000</td>\n",
              "      <td>-1.000000</td>\n",
              "      <td>-1.000000</td>\n",
              "      <td>-1.000000</td>\n",
              "      <td>-1.000000</td>\n",
              "      <td>-1.000000</td>\n",
              "      <td>-1.000000</td>\n",
              "      <td>0-2</td>\n",
              "      <td>0</td>\n",
              "    </tr>\n",
              "    <tr>\n",
              "      <th>4</th>\n",
              "      <th>20</th>\n",
              "      <td>4</td>\n",
              "      <td>0</td>\n",
              "      <td>10th</td>\n",
              "      <td>0</td>\n",
              "      <td>0.0</td>\n",
              "      <td>0.0</td>\n",
              "      <td>0.0</td>\n",
              "      <td>0.0</td>\n",
              "      <td>0.0</td>\n",
              "      <td>0.0</td>\n",
              "      <td>...</td>\n",
              "      <td>-0.952381</td>\n",
              "      <td>-0.979798</td>\n",
              "      <td>-1.000000</td>\n",
              "      <td>-0.883669</td>\n",
              "      <td>-0.956805</td>\n",
              "      <td>-0.870968</td>\n",
              "      <td>-0.953536</td>\n",
              "      <td>-0.980333</td>\n",
              "      <td>0-2</td>\n",
              "      <td>0</td>\n",
              "    </tr>\n",
              "    <tr>\n",
              "      <th>5</th>\n",
              "      <th>25</th>\n",
              "      <td>5</td>\n",
              "      <td>0</td>\n",
              "      <td>10th</td>\n",
              "      <td>0</td>\n",
              "      <td>0.0</td>\n",
              "      <td>0.0</td>\n",
              "      <td>0.0</td>\n",
              "      <td>0.0</td>\n",
              "      <td>0.0</td>\n",
              "      <td>0.0</td>\n",
              "      <td>...</td>\n",
              "      <td>-0.976190</td>\n",
              "      <td>-0.979798</td>\n",
              "      <td>-0.860870</td>\n",
              "      <td>-0.714460</td>\n",
              "      <td>-0.986481</td>\n",
              "      <td>-1.000000</td>\n",
              "      <td>-0.975891</td>\n",
              "      <td>-0.980129</td>\n",
              "      <td>0-2</td>\n",
              "      <td>0</td>\n",
              "    </tr>\n",
              "  </tbody>\n",
              "</table>\n",
              "<p>5 rows × 231 columns</p>\n",
              "</div>"
            ],
            "text/plain": [
              "                             PATIENT_VISIT_IDENTIFIER  AGE_ABOVE65  \\\n",
              "PATIENT_VISIT_IDENTIFIER                                             \n",
              "0                        0                          0            1   \n",
              "2                        10                         2            0   \n",
              "3                        15                         3            0   \n",
              "4                        20                         4            0   \n",
              "5                        25                         5            0   \n",
              "\n",
              "                            AGE_PERCENTIL  GENDER  DISEASE GROUPING 1  \\\n",
              "PATIENT_VISIT_IDENTIFIER                                                \n",
              "0                        0           60th       0                 0.0   \n",
              "2                        10          10th       0                 0.0   \n",
              "3                        15          40th       1                 0.0   \n",
              "4                        20          10th       0                 0.0   \n",
              "5                        25          10th       0                 0.0   \n",
              "\n",
              "                             DISEASE GROUPING 2  DISEASE GROUPING 3  \\\n",
              "PATIENT_VISIT_IDENTIFIER                                              \n",
              "0                        0                  0.0                 0.0   \n",
              "2                        10                 0.0                 0.0   \n",
              "3                        15                 0.0                 0.0   \n",
              "4                        20                 0.0                 0.0   \n",
              "5                        25                 0.0                 0.0   \n",
              "\n",
              "                             DISEASE GROUPING 4  DISEASE GROUPING 5  \\\n",
              "PATIENT_VISIT_IDENTIFIER                                              \n",
              "0                        0                  0.0                 1.0   \n",
              "2                        10                 0.0                 0.0   \n",
              "3                        15                 0.0                 0.0   \n",
              "4                        20                 0.0                 0.0   \n",
              "5                        25                 0.0                 0.0   \n",
              "\n",
              "                             DISEASE GROUPING 6  ...  TEMPERATURE_DIFF  \\\n",
              "PATIENT_VISIT_IDENTIFIER                         ...                     \n",
              "0                        0                  1.0  ...         -1.000000   \n",
              "2                        10                 0.0  ...         -1.000000   \n",
              "3                        15                 0.0  ...         -1.000000   \n",
              "4                        20                 0.0  ...         -0.952381   \n",
              "5                        25                 0.0  ...         -0.976190   \n",
              "\n",
              "                             OXYGEN_SATURATION_DIFF  \\\n",
              "PATIENT_VISIT_IDENTIFIER                              \n",
              "0                        0                -1.000000   \n",
              "2                        10               -0.959596   \n",
              "3                        15               -1.000000   \n",
              "4                        20               -0.979798   \n",
              "5                        25               -0.979798   \n",
              "\n",
              "                             BLOODPRESSURE_DIASTOLIC_DIFF_REL  \\\n",
              "PATIENT_VISIT_IDENTIFIER                                        \n",
              "0                        0                          -1.000000   \n",
              "2                        10                         -0.515528   \n",
              "3                        15                         -1.000000   \n",
              "4                        20                         -1.000000   \n",
              "5                        25                         -0.860870   \n",
              "\n",
              "                             BLOODPRESSURE_SISTOLIC_DIFF_REL  \\\n",
              "PATIENT_VISIT_IDENTIFIER                                       \n",
              "0                        0                         -1.000000   \n",
              "2                        10                        -0.351328   \n",
              "3                        15                        -1.000000   \n",
              "4                        20                        -0.883669   \n",
              "5                        25                        -0.714460   \n",
              "\n",
              "                             HEART_RATE_DIFF_REL  RESPIRATORY_RATE_DIFF_REL  \\\n",
              "PATIENT_VISIT_IDENTIFIER                                                      \n",
              "0                        0             -1.000000                  -1.000000   \n",
              "2                        10            -0.747001                  -0.756272   \n",
              "3                        15            -1.000000                  -1.000000   \n",
              "4                        20            -0.956805                  -0.870968   \n",
              "5                        25            -0.986481                  -1.000000   \n",
              "\n",
              "                             TEMPERATURE_DIFF_REL  OXYGEN_SATURATION_DIFF_REL  \\\n",
              "PATIENT_VISIT_IDENTIFIER                                                        \n",
              "0                        0              -1.000000                   -1.000000   \n",
              "2                        10             -1.000000                   -0.961262   \n",
              "3                        15             -1.000000                   -1.000000   \n",
              "4                        20             -0.953536                   -0.980333   \n",
              "5                        25             -0.975891                   -0.980129   \n",
              "\n",
              "                             WINDOW  ICU  \n",
              "PATIENT_VISIT_IDENTIFIER                  \n",
              "0                        0      0-2    1  \n",
              "2                        10     0-2    1  \n",
              "3                        15     0-2    0  \n",
              "4                        20     0-2    0  \n",
              "5                        25     0-2    0  \n",
              "\n",
              "[5 rows x 231 columns]"
            ]
          },
          "metadata": {
            "tags": []
          },
          "execution_count": 37
        }
      ]
    },
    {
      "cell_type": "code",
      "metadata": {
        "execution": {
          "iopub.execute_input": "2021-01-30T23:01:47.298496Z",
          "iopub.status.busy": "2021-01-30T23:01:47.284315Z",
          "iopub.status.idle": "2021-01-30T23:01:47.311264Z",
          "shell.execute_reply": "2021-01-30T23:01:47.310592Z"
        },
        "papermill": {
          "duration": 0.131256,
          "end_time": "2021-01-30T23:01:47.311416",
          "exception": false,
          "start_time": "2021-01-30T23:01:47.180160",
          "status": "completed"
        },
        "tags": [],
        "id": "-RdqBkIVobQt",
        "outputId": "9910093a-abfa-4c64-81ff-c9e99bfeb723"
      },
      "source": [
        "# Dropando as colunas não importantes para o modelo\n",
        "dados_limpos = dados_limpos.drop(['PATIENT_VISIT_IDENTIFIER', 'WINDOW'], axis=1).reset_index(drop=True)\n",
        "dados_limpos.head()"
      ],
      "execution_count": null,
      "outputs": [
        {
          "output_type": "execute_result",
          "data": {
            "text/html": [
              "<div>\n",
              "<style scoped>\n",
              "    .dataframe tbody tr th:only-of-type {\n",
              "        vertical-align: middle;\n",
              "    }\n",
              "\n",
              "    .dataframe tbody tr th {\n",
              "        vertical-align: top;\n",
              "    }\n",
              "\n",
              "    .dataframe thead th {\n",
              "        text-align: right;\n",
              "    }\n",
              "</style>\n",
              "<table border=\"1\" class=\"dataframe\">\n",
              "  <thead>\n",
              "    <tr style=\"text-align: right;\">\n",
              "      <th></th>\n",
              "      <th>AGE_ABOVE65</th>\n",
              "      <th>AGE_PERCENTIL</th>\n",
              "      <th>GENDER</th>\n",
              "      <th>DISEASE GROUPING 1</th>\n",
              "      <th>DISEASE GROUPING 2</th>\n",
              "      <th>DISEASE GROUPING 3</th>\n",
              "      <th>DISEASE GROUPING 4</th>\n",
              "      <th>DISEASE GROUPING 5</th>\n",
              "      <th>DISEASE GROUPING 6</th>\n",
              "      <th>HTN</th>\n",
              "      <th>...</th>\n",
              "      <th>RESPIRATORY_RATE_DIFF</th>\n",
              "      <th>TEMPERATURE_DIFF</th>\n",
              "      <th>OXYGEN_SATURATION_DIFF</th>\n",
              "      <th>BLOODPRESSURE_DIASTOLIC_DIFF_REL</th>\n",
              "      <th>BLOODPRESSURE_SISTOLIC_DIFF_REL</th>\n",
              "      <th>HEART_RATE_DIFF_REL</th>\n",
              "      <th>RESPIRATORY_RATE_DIFF_REL</th>\n",
              "      <th>TEMPERATURE_DIFF_REL</th>\n",
              "      <th>OXYGEN_SATURATION_DIFF_REL</th>\n",
              "      <th>ICU</th>\n",
              "    </tr>\n",
              "  </thead>\n",
              "  <tbody>\n",
              "    <tr>\n",
              "      <th>0</th>\n",
              "      <td>1</td>\n",
              "      <td>60th</td>\n",
              "      <td>0</td>\n",
              "      <td>0.0</td>\n",
              "      <td>0.0</td>\n",
              "      <td>0.0</td>\n",
              "      <td>0.0</td>\n",
              "      <td>1.0</td>\n",
              "      <td>1.0</td>\n",
              "      <td>0.0</td>\n",
              "      <td>...</td>\n",
              "      <td>-1.000000</td>\n",
              "      <td>-1.000000</td>\n",
              "      <td>-1.000000</td>\n",
              "      <td>-1.000000</td>\n",
              "      <td>-1.000000</td>\n",
              "      <td>-1.000000</td>\n",
              "      <td>-1.000000</td>\n",
              "      <td>-1.000000</td>\n",
              "      <td>-1.000000</td>\n",
              "      <td>1</td>\n",
              "    </tr>\n",
              "    <tr>\n",
              "      <th>1</th>\n",
              "      <td>0</td>\n",
              "      <td>10th</td>\n",
              "      <td>0</td>\n",
              "      <td>0.0</td>\n",
              "      <td>0.0</td>\n",
              "      <td>0.0</td>\n",
              "      <td>0.0</td>\n",
              "      <td>0.0</td>\n",
              "      <td>0.0</td>\n",
              "      <td>0.0</td>\n",
              "      <td>...</td>\n",
              "      <td>-0.764706</td>\n",
              "      <td>-1.000000</td>\n",
              "      <td>-0.959596</td>\n",
              "      <td>-0.515528</td>\n",
              "      <td>-0.351328</td>\n",
              "      <td>-0.747001</td>\n",
              "      <td>-0.756272</td>\n",
              "      <td>-1.000000</td>\n",
              "      <td>-0.961262</td>\n",
              "      <td>1</td>\n",
              "    </tr>\n",
              "    <tr>\n",
              "      <th>2</th>\n",
              "      <td>0</td>\n",
              "      <td>40th</td>\n",
              "      <td>1</td>\n",
              "      <td>0.0</td>\n",
              "      <td>0.0</td>\n",
              "      <td>0.0</td>\n",
              "      <td>0.0</td>\n",
              "      <td>0.0</td>\n",
              "      <td>0.0</td>\n",
              "      <td>0.0</td>\n",
              "      <td>...</td>\n",
              "      <td>-1.000000</td>\n",
              "      <td>-1.000000</td>\n",
              "      <td>-1.000000</td>\n",
              "      <td>-1.000000</td>\n",
              "      <td>-1.000000</td>\n",
              "      <td>-1.000000</td>\n",
              "      <td>-1.000000</td>\n",
              "      <td>-1.000000</td>\n",
              "      <td>-1.000000</td>\n",
              "      <td>0</td>\n",
              "    </tr>\n",
              "    <tr>\n",
              "      <th>3</th>\n",
              "      <td>0</td>\n",
              "      <td>10th</td>\n",
              "      <td>0</td>\n",
              "      <td>0.0</td>\n",
              "      <td>0.0</td>\n",
              "      <td>0.0</td>\n",
              "      <td>0.0</td>\n",
              "      <td>0.0</td>\n",
              "      <td>0.0</td>\n",
              "      <td>0.0</td>\n",
              "      <td>...</td>\n",
              "      <td>-0.882353</td>\n",
              "      <td>-0.952381</td>\n",
              "      <td>-0.979798</td>\n",
              "      <td>-1.000000</td>\n",
              "      <td>-0.883669</td>\n",
              "      <td>-0.956805</td>\n",
              "      <td>-0.870968</td>\n",
              "      <td>-0.953536</td>\n",
              "      <td>-0.980333</td>\n",
              "      <td>0</td>\n",
              "    </tr>\n",
              "    <tr>\n",
              "      <th>4</th>\n",
              "      <td>0</td>\n",
              "      <td>10th</td>\n",
              "      <td>0</td>\n",
              "      <td>0.0</td>\n",
              "      <td>0.0</td>\n",
              "      <td>0.0</td>\n",
              "      <td>0.0</td>\n",
              "      <td>0.0</td>\n",
              "      <td>0.0</td>\n",
              "      <td>0.0</td>\n",
              "      <td>...</td>\n",
              "      <td>-1.000000</td>\n",
              "      <td>-0.976190</td>\n",
              "      <td>-0.979798</td>\n",
              "      <td>-0.860870</td>\n",
              "      <td>-0.714460</td>\n",
              "      <td>-0.986481</td>\n",
              "      <td>-1.000000</td>\n",
              "      <td>-0.975891</td>\n",
              "      <td>-0.980129</td>\n",
              "      <td>0</td>\n",
              "    </tr>\n",
              "  </tbody>\n",
              "</table>\n",
              "<p>5 rows × 229 columns</p>\n",
              "</div>"
            ],
            "text/plain": [
              "   AGE_ABOVE65 AGE_PERCENTIL  GENDER  DISEASE GROUPING 1  DISEASE GROUPING 2  \\\n",
              "0            1          60th       0                 0.0                 0.0   \n",
              "1            0          10th       0                 0.0                 0.0   \n",
              "2            0          40th       1                 0.0                 0.0   \n",
              "3            0          10th       0                 0.0                 0.0   \n",
              "4            0          10th       0                 0.0                 0.0   \n",
              "\n",
              "   DISEASE GROUPING 3  DISEASE GROUPING 4  DISEASE GROUPING 5  \\\n",
              "0                 0.0                 0.0                 1.0   \n",
              "1                 0.0                 0.0                 0.0   \n",
              "2                 0.0                 0.0                 0.0   \n",
              "3                 0.0                 0.0                 0.0   \n",
              "4                 0.0                 0.0                 0.0   \n",
              "\n",
              "   DISEASE GROUPING 6  HTN  ...  RESPIRATORY_RATE_DIFF  TEMPERATURE_DIFF  \\\n",
              "0                 1.0  0.0  ...              -1.000000         -1.000000   \n",
              "1                 0.0  0.0  ...              -0.764706         -1.000000   \n",
              "2                 0.0  0.0  ...              -1.000000         -1.000000   \n",
              "3                 0.0  0.0  ...              -0.882353         -0.952381   \n",
              "4                 0.0  0.0  ...              -1.000000         -0.976190   \n",
              "\n",
              "   OXYGEN_SATURATION_DIFF  BLOODPRESSURE_DIASTOLIC_DIFF_REL  \\\n",
              "0               -1.000000                         -1.000000   \n",
              "1               -0.959596                         -0.515528   \n",
              "2               -1.000000                         -1.000000   \n",
              "3               -0.979798                         -1.000000   \n",
              "4               -0.979798                         -0.860870   \n",
              "\n",
              "   BLOODPRESSURE_SISTOLIC_DIFF_REL  HEART_RATE_DIFF_REL  \\\n",
              "0                        -1.000000            -1.000000   \n",
              "1                        -0.351328            -0.747001   \n",
              "2                        -1.000000            -1.000000   \n",
              "3                        -0.883669            -0.956805   \n",
              "4                        -0.714460            -0.986481   \n",
              "\n",
              "   RESPIRATORY_RATE_DIFF_REL  TEMPERATURE_DIFF_REL  \\\n",
              "0                  -1.000000             -1.000000   \n",
              "1                  -0.756272             -1.000000   \n",
              "2                  -1.000000             -1.000000   \n",
              "3                  -0.870968             -0.953536   \n",
              "4                  -1.000000             -0.975891   \n",
              "\n",
              "   OXYGEN_SATURATION_DIFF_REL  ICU  \n",
              "0                   -1.000000    1  \n",
              "1                   -0.961262    1  \n",
              "2                   -1.000000    0  \n",
              "3                   -0.980333    0  \n",
              "4                   -0.980129    0  \n",
              "\n",
              "[5 rows x 229 columns]"
            ]
          },
          "metadata": {
            "tags": []
          },
          "execution_count": 38
        }
      ]
    },
    {
      "cell_type": "code",
      "metadata": {
        "execution": {
          "iopub.execute_input": "2021-01-30T23:01:47.488812Z",
          "iopub.status.busy": "2021-01-30T23:01:47.487940Z",
          "iopub.status.idle": "2021-01-30T23:01:48.044968Z",
          "shell.execute_reply": "2021-01-30T23:01:48.045691Z"
        },
        "papermill": {
          "duration": 0.647748,
          "end_time": "2021-01-30T23:01:48.045851",
          "exception": false,
          "start_time": "2021-01-30T23:01:47.398103",
          "status": "completed"
        },
        "tags": [],
        "id": "a_UFEHDtobQt"
      },
      "source": [
        "x_columns = dados_limpos.describe().columns\n",
        "\n",
        "y = dados_limpos['ICU']\n",
        "x = dados_limpos[x_columns].drop('ICU', axis=1)"
      ],
      "execution_count": null,
      "outputs": []
    },
    {
      "cell_type": "code",
      "metadata": {
        "execution": {
          "iopub.execute_input": "2021-01-30T23:01:48.228500Z",
          "iopub.status.busy": "2021-01-30T23:01:48.227594Z",
          "iopub.status.idle": "2021-01-30T23:01:48.231577Z",
          "shell.execute_reply": "2021-01-30T23:01:48.230748Z"
        },
        "papermill": {
          "duration": 0.096995,
          "end_time": "2021-01-30T23:01:48.231708",
          "exception": false,
          "start_time": "2021-01-30T23:01:48.134713",
          "status": "completed"
        },
        "tags": [],
        "id": "qL7oQORrobQu"
      },
      "source": [
        "np.random.seed(73246)"
      ],
      "execution_count": null,
      "outputs": []
    },
    {
      "cell_type": "code",
      "metadata": {
        "execution": {
          "iopub.execute_input": "2021-01-30T23:01:48.408149Z",
          "iopub.status.busy": "2021-01-30T23:01:48.407261Z",
          "iopub.status.idle": "2021-01-30T23:01:48.413135Z",
          "shell.execute_reply": "2021-01-30T23:01:48.413844Z"
        },
        "papermill": {
          "duration": 0.095819,
          "end_time": "2021-01-30T23:01:48.414006",
          "exception": false,
          "start_time": "2021-01-30T23:01:48.318187",
          "status": "completed"
        },
        "tags": [],
        "id": "rq-AE0FrobQu"
      },
      "source": [
        "x_train, x_test, y_train, y_test = train_test_split(x, y, stratify=y)"
      ],
      "execution_count": null,
      "outputs": []
    },
    {
      "cell_type": "code",
      "metadata": {
        "execution": {
          "iopub.execute_input": "2021-01-30T23:01:48.595326Z",
          "iopub.status.busy": "2021-01-30T23:01:48.594449Z",
          "iopub.status.idle": "2021-01-30T23:01:48.610389Z",
          "shell.execute_reply": "2021-01-30T23:01:48.609483Z"
        },
        "papermill": {
          "duration": 0.108644,
          "end_time": "2021-01-30T23:01:48.610519",
          "exception": false,
          "start_time": "2021-01-30T23:01:48.501875",
          "status": "completed"
        },
        "tags": [],
        "id": "yEwf8T7PobQu",
        "outputId": "6044bfe5-4340-48e4-955d-f86f956057da"
      },
      "source": [
        "modelo = DummyClassifier()\n",
        "modelo.fit(x_train, y_train)\n",
        "\n",
        "y_prediction = modelo.predict(x_test)\n",
        "accuracy_score(y_test, y_prediction)"
      ],
      "execution_count": null,
      "outputs": [
        {
          "output_type": "stream",
          "text": [
            "/opt/conda/lib/python3.7/site-packages/sklearn/dummy.py:132: FutureWarning: The default value of strategy will change from stratified to prior in 0.24.\n",
            "  \"stratified to prior in 0.24.\", FutureWarning)\n"
          ],
          "name": "stderr"
        },
        {
          "output_type": "execute_result",
          "data": {
            "text/plain": [
              "0.48863636363636365"
            ]
          },
          "metadata": {
            "tags": []
          },
          "execution_count": 42
        }
      ]
    },
    {
      "cell_type": "code",
      "metadata": {
        "execution": {
          "iopub.execute_input": "2021-01-30T23:01:48.802131Z",
          "iopub.status.busy": "2021-01-30T23:01:48.801068Z",
          "iopub.status.idle": "2021-01-30T23:01:48.855731Z",
          "shell.execute_reply": "2021-01-30T23:01:48.856623Z"
        },
        "papermill": {
          "duration": 0.156909,
          "end_time": "2021-01-30T23:01:48.856840",
          "exception": false,
          "start_time": "2021-01-30T23:01:48.699931",
          "status": "completed"
        },
        "tags": [],
        "id": "Fd9ysEWPobQv",
        "outputId": "fece4034-a20b-4e34-ebbc-62c26b91a812"
      },
      "source": [
        "modelo = LogisticRegression()\n",
        "modelo.fit(x_train, y_train)\n",
        "\n",
        "y_prediction = modelo.predict(x_test)\n",
        "accuracy_score(y_test, y_prediction)"
      ],
      "execution_count": null,
      "outputs": [
        {
          "output_type": "stream",
          "text": [
            "/opt/conda/lib/python3.7/site-packages/sklearn/linear_model/_logistic.py:764: ConvergenceWarning: lbfgs failed to converge (status=1):\n",
            "STOP: TOTAL NO. of ITERATIONS REACHED LIMIT.\n",
            "\n",
            "Increase the number of iterations (max_iter) or scale the data as shown in:\n",
            "    https://scikit-learn.org/stable/modules/preprocessing.html\n",
            "Please also refer to the documentation for alternative solver options:\n",
            "    https://scikit-learn.org/stable/modules/linear_model.html#logistic-regression\n",
            "  extra_warning_msg=_LOGISTIC_SOLVER_CONVERGENCE_MSG)\n"
          ],
          "name": "stderr"
        },
        {
          "output_type": "execute_result",
          "data": {
            "text/plain": [
              "0.6704545454545454"
            ]
          },
          "metadata": {
            "tags": []
          },
          "execution_count": 43
        }
      ]
    },
    {
      "cell_type": "markdown",
      "metadata": {
        "papermill": {
          "duration": 0.090264,
          "end_time": "2021-01-30T23:01:49.036647",
          "exception": false,
          "start_time": "2021-01-30T23:01:48.946383",
          "status": "completed"
        },
        "tags": [],
        "id": "nqJPszPiobQv"
      },
      "source": [
        "### Desafio 01 - Arranque fora as colunas que não devem ser utilizadas (já feito anteriormente)."
      ]
    },
    {
      "cell_type": "markdown",
      "metadata": {
        "papermill": {
          "duration": 0.090241,
          "end_time": "2021-01-30T23:01:49.216098",
          "exception": false,
          "start_time": "2021-01-30T23:01:49.125857",
          "status": "completed"
        },
        "tags": [],
        "id": "81K5zvk-obQv"
      },
      "source": [
        "### Desafio 02 - Essa aula não foi simples, repasse por ela e garanta que entendeu passo a passo."
      ]
    }
  ]
}